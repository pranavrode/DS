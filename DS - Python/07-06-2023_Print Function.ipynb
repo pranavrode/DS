{
 "cells": [
  {
   "cell_type": "code",
   "execution_count": 1,
   "id": "6edfc83a",
   "metadata": {},
   "outputs": [
    {
     "data": {
      "text/plain": [
       "'Python'"
      ]
     },
     "execution_count": 1,
     "metadata": {},
     "output_type": "execute_result"
    }
   ],
   "source": [
    "my_var = \"Python\"\n",
    "my_var"
   ]
  },
  {
   "cell_type": "code",
   "execution_count": 2,
   "id": "43e0c265",
   "metadata": {},
   "outputs": [
    {
     "name": "stdout",
     "output_type": "stream",
     "text": [
      "Python\n"
     ]
    }
   ],
   "source": [
    "my_var = \"Python\"\n",
    "print(my_var)"
   ]
  },
  {
   "cell_type": "code",
   "execution_count": 3,
   "id": "218c7db7",
   "metadata": {},
   "outputs": [
    {
     "name": "stdout",
     "output_type": "stream",
     "text": [
      "20\n"
     ]
    }
   ],
   "source": [
    "x = 20\n",
    "print(x)\n",
    "y = 30"
   ]
  },
  {
   "cell_type": "code",
   "execution_count": 4,
   "id": "33ee5e59",
   "metadata": {},
   "outputs": [],
   "source": [
    "z = 50"
   ]
  },
  {
   "cell_type": "code",
   "execution_count": 5,
   "id": "804bf796",
   "metadata": {},
   "outputs": [
    {
     "name": "stdout",
     "output_type": "stream",
     "text": [
      "20\n",
      "50\n"
     ]
    }
   ],
   "source": [
    "x = 20\n",
    "print(x)\n",
    "y = 30\n",
    "x = 50\n",
    "print(x)"
   ]
  },
  {
   "cell_type": "code",
   "execution_count": 6,
   "id": "67576659",
   "metadata": {},
   "outputs": [
    {
     "name": "stdout",
     "output_type": "stream",
     "text": [
      "50\n"
     ]
    }
   ],
   "source": [
    "print(x)"
   ]
  },
  {
   "cell_type": "code",
   "execution_count": null,
   "id": "8e577aad",
   "metadata": {},
   "outputs": [],
   "source": [
    "'python'    >> String\n",
    "\"python\"     >>String\n",
    "\"\"\"python\"\"\"  >>string"
   ]
  },
  {
   "cell_type": "code",
   "execution_count": 12,
   "id": "9ac0d470",
   "metadata": {},
   "outputs": [
    {
     "name": "stdout",
     "output_type": "stream",
     "text": [
      "10\n",
      "10.5\n",
      "Python\n"
     ]
    }
   ],
   "source": [
    "x = 10         #int\n",
    "y = 10.5       #float\n",
    "z = \"Python\"   #String\n",
    "\n",
    "print(x)\n",
    "print(y)\n",
    "print(z)"
   ]
  },
  {
   "cell_type": "code",
   "execution_count": 10,
   "id": "ce642a08",
   "metadata": {},
   "outputs": [
    {
     "name": "stdout",
     "output_type": "stream",
     "text": [
      "10\n"
     ]
    }
   ],
   "source": [
    "print(x)\n"
   ]
  },
  {
   "cell_type": "code",
   "execution_count": 11,
   "id": "f70ddfba",
   "metadata": {},
   "outputs": [
    {
     "name": "stdout",
     "output_type": "stream",
     "text": [
      "We are learning python\n"
     ]
    }
   ],
   "source": [
    "print(\"We are learning python\")"
   ]
  },
  {
   "cell_type": "code",
   "execution_count": 16,
   "id": "9f55687d",
   "metadata": {},
   "outputs": [
    {
     "name": "stdout",
     "output_type": "stream",
     "text": [
      "Value of x is 10\n",
      "Value of x is = 10\n",
      "Value of x is : 10\n"
     ]
    }
   ],
   "source": [
    "x = 10         #int\n",
    "y = 10.5       #float\n",
    "z = \"Python\"   #String\n",
    "\n",
    "print(\"Value of x is\",x)\n",
    "print(\"Value of x is =\",x)\n",
    "print(\"Value of x is :\",x)"
   ]
  },
  {
   "cell_type": "code",
   "execution_count": 20,
   "id": "3049e0b1",
   "metadata": {},
   "outputs": [
    {
     "name": "stdout",
     "output_type": "stream",
     "text": [
      "Value of x is 10\n",
      "Value of y is 10.5\n",
      "Value of z is Python\n"
     ]
    }
   ],
   "source": [
    "x = 10         #int\n",
    "y = 10.5       #float\n",
    "z = \"Python\"   #String\n",
    "\n",
    "print(\"Value of x is\",x)\n",
    "print(\"Value of y is\",y)\n",
    "print(\"Value of z is\",z)"
   ]
  },
  {
   "cell_type": "code",
   "execution_count": 23,
   "id": "e8dbae5d",
   "metadata": {},
   "outputs": [
    {
     "name": "stdout",
     "output_type": "stream",
     "text": [
      "10 10.5 Python\n"
     ]
    }
   ],
   "source": [
    "print(x,y,z)"
   ]
  },
  {
   "cell_type": "markdown",
   "id": "cbf4586c",
   "metadata": {},
   "source": [
    "# String Formatting:"
   ]
  },
  {
   "cell_type": "code",
   "execution_count": null,
   "id": "5f53283b",
   "metadata": {},
   "outputs": [],
   "source": [
    "1. formatting with string method"
   ]
  },
  {
   "cell_type": "markdown",
   "id": "ec6fc73a",
   "metadata": {},
   "source": [
    "# 1. f-string"
   ]
  },
  {
   "cell_type": "code",
   "execution_count": 26,
   "id": "11d36a66",
   "metadata": {},
   "outputs": [
    {
     "name": "stdout",
     "output_type": "stream",
     "text": [
      "Substraction of x and y is : -30\n"
     ]
    }
   ],
   "source": [
    "x = 20\n",
    "y = 50\n",
    "\n",
    "sub = x - y\n",
    "print(\"Substraction of x and y is :\",sub)"
   ]
  },
  {
   "cell_type": "code",
   "execution_count": 25,
   "id": "70a63944",
   "metadata": {},
   "outputs": [
    {
     "data": {
      "text/plain": [
       "-30"
      ]
     },
     "execution_count": 25,
     "metadata": {},
     "output_type": "execute_result"
    }
   ],
   "source": [
    "print(\"Substraction of x and y is :\",x-y)"
   ]
  },
  {
   "cell_type": "code",
   "execution_count": 28,
   "id": "d411bff4",
   "metadata": {},
   "outputs": [
    {
     "data": {
      "text/plain": [
       "-30"
      ]
     },
     "execution_count": 28,
     "metadata": {},
     "output_type": "execute_result"
    }
   ],
   "source": [
    "x-y # 20-50 =-30"
   ]
  },
  {
   "cell_type": "code",
   "execution_count": 29,
   "id": "f9ebb429",
   "metadata": {},
   "outputs": [
    {
     "name": "stdout",
     "output_type": "stream",
     "text": [
      "Substraction of 20 and 50 is : -30\n"
     ]
    }
   ],
   "source": [
    "print(\"Substraction of 20 and 50 is :\",x-y)"
   ]
  },
  {
   "cell_type": "code",
   "execution_count": 30,
   "id": "c45aafb7",
   "metadata": {},
   "outputs": [
    {
     "name": "stdout",
     "output_type": "stream",
     "text": [
      "Substraction of 20 and 50 is : -30\n"
     ]
    }
   ],
   "source": [
    "x = 20\n",
    "y = 50\n",
    "\n",
    "sub = x - y\n",
    "print(f\"Substraction of {x} and {y} is : {sub}\")"
   ]
  },
  {
   "cell_type": "code",
   "execution_count": 31,
   "id": "b004d36f",
   "metadata": {},
   "outputs": [
    {
     "name": "stdout",
     "output_type": "stream",
     "text": [
      "Substraction of 200 and 150 is : 50\n"
     ]
    }
   ],
   "source": [
    "x = 200\n",
    "y = 150\n",
    "\n",
    "sub = x - y\n",
    "print(f\"Substraction of {x} and {y} is : {sub}\")"
   ]
  },
  {
   "cell_type": "code",
   "execution_count": 32,
   "id": "a1261dd2",
   "metadata": {},
   "outputs": [
    {
     "name": "stdout",
     "output_type": "stream",
     "text": [
      "Substraction of 200 and 150 is : 50\n"
     ]
    }
   ],
   "source": [
    "print(f\"Substraction of {x} and {y} is : {x-y}\")"
   ]
  },
  {
   "cell_type": "code",
   "execution_count": 34,
   "id": "87fc2362",
   "metadata": {},
   "outputs": [
    {
     "name": "stdout",
     "output_type": "stream",
     "text": [
      "Substraction of 1 and 2 is : 3\n"
     ]
    }
   ],
   "source": [
    "print(f\"Substraction of {1} and {2} is : {1+2}\")"
   ]
  },
  {
   "cell_type": "markdown",
   "id": "8f853e69",
   "metadata": {},
   "source": [
    "# 2. Format string"
   ]
  },
  {
   "cell_type": "code",
   "execution_count": 35,
   "id": "96714e57",
   "metadata": {},
   "outputs": [
    {
     "name": "stdout",
     "output_type": "stream",
     "text": [
      "Substraction of 200 and 150 is : 50\n",
      "Substraction of 200 and 150 is : 50\n"
     ]
    }
   ],
   "source": [
    "x = 200\n",
    "y = 150\n",
    "sub = x - y\n",
    "\n",
    "print(f\"Substraction of {x} and {y} is : {sub}\")\n",
    "print(\"Substraction of {} and {} is : {}\".format(x,y,sub))"
   ]
  },
  {
   "cell_type": "code",
   "execution_count": 36,
   "id": "98f550a6",
   "metadata": {},
   "outputs": [
    {
     "name": "stdout",
     "output_type": "stream",
     "text": [
      "Addition of 40 and 50 is 90\n"
     ]
    }
   ],
   "source": [
    "a = 40\n",
    "b = 50\n",
    "add =a+b\n",
    "print(\"Addition of {} and {} is {}\".format(a,b,add))"
   ]
  },
  {
   "cell_type": "code",
   "execution_count": 37,
   "id": "501f3153",
   "metadata": {},
   "outputs": [
    {
     "name": "stdout",
     "output_type": "stream",
     "text": [
      "Addition of 50 and 40 is 90\n"
     ]
    }
   ],
   "source": [
    "a = 40\n",
    "b = 50\n",
    "add =a+b\n",
    "print(\"Addition of {} and {} is {}\".format(b,a,add))"
   ]
  },
  {
   "cell_type": "code",
   "execution_count": 38,
   "id": "1b28012b",
   "metadata": {},
   "outputs": [
    {
     "name": "stdout",
     "output_type": "stream",
     "text": [
      "Addition of 90 and 40 is 50\n"
     ]
    }
   ],
   "source": [
    "a = 40\n",
    "b = 50\n",
    "add =a+b\n",
    "print(\"Addition of {} and {} is {}\".format(add,a,b))"
   ]
  },
  {
   "cell_type": "code",
   "execution_count": 39,
   "id": "1a4dfe5d",
   "metadata": {},
   "outputs": [
    {
     "name": "stdout",
     "output_type": "stream",
     "text": [
      "Addition of 50 and 50 is 50\n"
     ]
    }
   ],
   "source": [
    "a = 40\n",
    "b = 50\n",
    "add =a+b\n",
    "print(\"Addition of {} and {} is {}\".format(b,b,b))"
   ]
  },
  {
   "cell_type": "code",
   "execution_count": 47,
   "id": "35c57d89",
   "metadata": {},
   "outputs": [
    {
     "name": "stdout",
     "output_type": "stream",
     "text": [
      "Substraction of 200 and 150 is : 50\n",
      "Substraction of 200 and 150 is : 50\n",
      "Substraction of 200 and 150 is : 50\n"
     ]
    }
   ],
   "source": [
    "x = 200\n",
    "y = 150\n",
    "sub = x - y\n",
    "\n",
    "print(f\"Substraction of {x} and {y} is : {sub}\")\n",
    "print(\"Substraction of {} and {} is : {}\".format(x,y,sub))\n",
    "print(\"Substraction of\",x ,\"and\",y,\"is :\",sub)"
   ]
  },
  {
   "cell_type": "code",
   "execution_count": 58,
   "id": "d3e66f3a",
   "metadata": {},
   "outputs": [
    {
     "data": {
      "text/plain": [
       "140730000621584"
      ]
     },
     "execution_count": 58,
     "metadata": {},
     "output_type": "execute_result"
    }
   ],
   "source": [
    "id(x)"
   ]
  },
  {
   "cell_type": "code",
   "execution_count": 45,
   "id": "34c9464f",
   "metadata": {},
   "outputs": [
    {
     "name": "stdout",
     "output_type": "stream",
     "text": [
      "Substraction of 200 and 150 is 50\n"
     ]
    }
   ],
   "source": [
    "print(\"Substraction of\",x ,\"and\",y,\"is\",sub)"
   ]
  },
  {
   "cell_type": "markdown",
   "id": "fe8f779b",
   "metadata": {},
   "source": [
    "# 3.% sign"
   ]
  },
  {
   "cell_type": "code",
   "execution_count": 48,
   "id": "8e09aa32",
   "metadata": {},
   "outputs": [
    {
     "name": "stdout",
     "output_type": "stream",
     "text": [
      "Substraction of 200 and 150 is : 50\n",
      "Substraction of 200 and 150 is : 50\n",
      "Substraction of 200 and 150 is : 50\n"
     ]
    }
   ],
   "source": [
    "x = 200\n",
    "y = 150\n",
    "sub = x - y\n",
    "\n",
    "print(f\"Substraction of {x} and {y} is : {sub}\")\n",
    "print(\"Substraction of {} and {} is : {}\".format(x,y,sub))\n",
    "print(\"Substraction of\",x ,\"and\",y,\"is :\",sub)"
   ]
  },
  {
   "cell_type": "code",
   "execution_count": 49,
   "id": "6eaf684b",
   "metadata": {},
   "outputs": [
    {
     "name": "stdout",
     "output_type": "stream",
     "text": [
      "Substraction of 200 and 150 is 50\n"
     ]
    }
   ],
   "source": [
    "print(\"Substraction of %d and %d is %d\"%(x,y,sub) )"
   ]
  },
  {
   "cell_type": "code",
   "execution_count": 50,
   "id": "84acfe9f",
   "metadata": {},
   "outputs": [
    {
     "name": "stdout",
     "output_type": "stream",
     "text": [
      "Substraction of 200 and 150.567000 is 49.433000\n"
     ]
    }
   ],
   "source": [
    "x = 200\n",
    "y = 150.567\n",
    "sub = x - y\n",
    "\n",
    "print(\"Substraction of %d and %f is %f\"%(x,y,sub) )"
   ]
  },
  {
   "cell_type": "code",
   "execution_count": 51,
   "id": "c9b8ce4e",
   "metadata": {},
   "outputs": [
    {
     "name": "stdout",
     "output_type": "stream",
     "text": [
      "Substraction of 200 and 150 is : 50\n",
      "Substraction of 200 and 150 is : 50\n",
      "Substraction of 200 and 150 is : 50\n",
      "Substraction of 200 and 150 is : 50\n"
     ]
    }
   ],
   "source": [
    "x = 200\n",
    "y = 150\n",
    "sub = x - y\n",
    "\n",
    "print(f\"Substraction of {x} and {y} is : {sub}\")\n",
    "print(\"Substraction of {} and {} is : {}\".format(x,y,sub))\n",
    "print(\"Substraction of\",x ,\"and\",y,\"is :\",sub)\n",
    "print(\"Substraction of %d and %d is : %d\"%(x,y,sub) )"
   ]
  },
  {
   "cell_type": "code",
   "execution_count": 57,
   "id": "7601cc3c",
   "metadata": {},
   "outputs": [
    {
     "name": "stdout",
     "output_type": "stream",
     "text": [
      "String is : Data Science\n",
      "String is : Data Science\n",
      "String is : Data Science\n",
      "String is : Data Science\n"
     ]
    }
   ],
   "source": [
    "str1 = \"Data Science\"\n",
    "\n",
    "print(\"String is :\",str1)\n",
    "print(f\"String is : {str1}\")\n",
    "print(\"String is : {}\".format(str1))\n",
    "print(\"String is : %s\"%(str1))"
   ]
  },
  {
   "cell_type": "code",
   "execution_count": 60,
   "id": "e331ac2d",
   "metadata": {},
   "outputs": [
    {
     "name": "stdout",
     "output_type": "stream",
     "text": [
      "value x is : 20\n"
     ]
    },
    {
     "data": {
      "text/plain": [
       "140730000615824"
      ]
     },
     "execution_count": 60,
     "metadata": {},
     "output_type": "execute_result"
    }
   ],
   "source": [
    "x = 20\n",
    "print(\"value x is :\",x)\n",
    "id(x)"
   ]
  },
  {
   "cell_type": "code",
   "execution_count": 61,
   "id": "1ed1517e",
   "metadata": {},
   "outputs": [
    {
     "name": "stdout",
     "output_type": "stream",
     "text": [
      "value y is : 20\n"
     ]
    },
    {
     "data": {
      "text/plain": [
       "140730000615824"
      ]
     },
     "execution_count": 61,
     "metadata": {},
     "output_type": "execute_result"
    }
   ],
   "source": [
    "y = 20\n",
    "print(\"value y is :\",y)\n",
    "id(y)"
   ]
  },
  {
   "cell_type": "code",
   "execution_count": null,
   "id": "86f4803e",
   "metadata": {},
   "outputs": [],
   "source": []
  }
 ],
 "metadata": {
  "kernelspec": {
   "display_name": "Python 3",
   "language": "python",
   "name": "python3"
  },
  "language_info": {
   "codemirror_mode": {
    "name": "ipython",
    "version": 3
   },
   "file_extension": ".py",
   "mimetype": "text/x-python",
   "name": "python",
   "nbconvert_exporter": "python",
   "pygments_lexer": "ipython3",
   "version": "3.8.8"
  }
 },
 "nbformat": 4,
 "nbformat_minor": 5
}
