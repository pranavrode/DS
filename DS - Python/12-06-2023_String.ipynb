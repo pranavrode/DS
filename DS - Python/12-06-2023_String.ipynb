{
 "cells": [
  {
   "cell_type": "code",
   "execution_count": null,
   "id": "13d6a12f",
   "metadata": {},
   "outputs": [],
   "source": [
    "String >> It is Immutable data type\n",
    "\n",
    "Immutable >> can not chnage\n",
    "mutable   >> Changable"
   ]
  },
  {
   "cell_type": "code",
   "execution_count": null,
   "id": "811f08d3",
   "metadata": {},
   "outputs": [],
   "source": []
  },
  {
   "cell_type": "code",
   "execution_count": 7,
   "id": "e7517d7a",
   "metadata": {},
   "outputs": [
    {
     "data": {
      "text/plain": [
       "'M'"
      ]
     },
     "execution_count": 7,
     "metadata": {},
     "output_type": "execute_result"
    }
   ],
   "source": [
    "var = \" Machine\"\n",
    "var[1]"
   ]
  },
  {
   "cell_type": "code",
   "execution_count": 8,
   "id": "e2c47d9d",
   "metadata": {},
   "outputs": [
    {
     "data": {
      "text/plain": [
       "' '"
      ]
     },
     "execution_count": 8,
     "metadata": {},
     "output_type": "execute_result"
    }
   ],
   "source": [
    "var = \" Machine\"\n",
    "var[0]"
   ]
  },
  {
   "cell_type": "code",
   "execution_count": 9,
   "id": "9102fe83",
   "metadata": {},
   "outputs": [
    {
     "data": {
      "text/plain": [
       "8"
      ]
     },
     "execution_count": 9,
     "metadata": {},
     "output_type": "execute_result"
    }
   ],
   "source": [
    "len(var)"
   ]
  },
  {
   "cell_type": "code",
   "execution_count": 10,
   "id": "dbe837d2",
   "metadata": {},
   "outputs": [
    {
     "data": {
      "text/plain": [
       "' Machine'"
      ]
     },
     "execution_count": 10,
     "metadata": {},
     "output_type": "execute_result"
    }
   ],
   "source": [
    "var[::]"
   ]
  },
  {
   "cell_type": "code",
   "execution_count": 11,
   "id": "b936e8e1",
   "metadata": {},
   "outputs": [
    {
     "data": {
      "text/plain": [
       "'Machine'"
      ]
     },
     "execution_count": 11,
     "metadata": {},
     "output_type": "execute_result"
    }
   ],
   "source": [
    "var[1::] # Machine"
   ]
  },
  {
   "cell_type": "code",
   "execution_count": 12,
   "id": "2878273a",
   "metadata": {},
   "outputs": [
    {
     "data": {
      "text/plain": [
       "'Mcie'"
      ]
     },
     "execution_count": 12,
     "metadata": {},
     "output_type": "execute_result"
    }
   ],
   "source": [
    "var[1::2] #Mcie"
   ]
  },
  {
   "cell_type": "code",
   "execution_count": 13,
   "id": "3d275659",
   "metadata": {},
   "outputs": [
    {
     "name": "stdout",
     "output_type": "stream",
     "text": [
      "tho\n"
     ]
    }
   ],
   "source": [
    "string = \"python\"\n",
    "\n",
    "print(string[2:5]) #2,3,4 (5-2 = 3 char)"
   ]
  },
  {
   "cell_type": "code",
   "execution_count": 14,
   "id": "4e428ef5",
   "metadata": {},
   "outputs": [
    {
     "data": {
      "text/plain": [
       "''"
      ]
     },
     "execution_count": 14,
     "metadata": {},
     "output_type": "execute_result"
    }
   ],
   "source": [
    "string[5:2]"
   ]
  },
  {
   "cell_type": "code",
   "execution_count": null,
   "id": "c8060be6",
   "metadata": {},
   "outputs": [],
   "source": [
    "string     =   p    y    t    h    o    n\n",
    "\n",
    "+ve index  =   0    1    2    3    4    5  \n",
    "\n",
    "-ve index  =   -6  -5   -4   -3   -2   -1"
   ]
  },
  {
   "cell_type": "code",
   "execution_count": 15,
   "id": "caba81f9",
   "metadata": {},
   "outputs": [
    {
     "data": {
      "text/plain": [
       "'thon'"
      ]
     },
     "execution_count": 15,
     "metadata": {},
     "output_type": "execute_result"
    }
   ],
   "source": [
    "string[-4 : ]"
   ]
  },
  {
   "cell_type": "code",
   "execution_count": 16,
   "id": "9f8e503d",
   "metadata": {},
   "outputs": [
    {
     "data": {
      "text/plain": [
       "'tho'"
      ]
     },
     "execution_count": 16,
     "metadata": {},
     "output_type": "execute_result"
    }
   ],
   "source": [
    "string[-4 : -1]  #-4,-3,-2"
   ]
  },
  {
   "cell_type": "code",
   "execution_count": 17,
   "id": "cdccf07e",
   "metadata": {},
   "outputs": [
    {
     "data": {
      "text/plain": [
       "'y'"
      ]
     },
     "execution_count": 17,
     "metadata": {},
     "output_type": "execute_result"
    }
   ],
   "source": [
    "string[-5 : -4]"
   ]
  },
  {
   "cell_type": "code",
   "execution_count": null,
   "id": "8992152a",
   "metadata": {},
   "outputs": [],
   "source": [
    "string     =   p    y    t    h    o    n\n",
    "\n",
    "+ve index  =   0    1    2    3    4    5  \n",
    "\n",
    "-ve index  =   -6  -5   -4   -3   -2   -1"
   ]
  },
  {
   "cell_type": "code",
   "execution_count": 21,
   "id": "23677f0f",
   "metadata": {},
   "outputs": [
    {
     "name": "stdout",
     "output_type": "stream",
     "text": [
      "yth\n",
      "yth\n",
      "yth\n",
      "yth\n"
     ]
    }
   ],
   "source": [
    "print(string[1:4])\n",
    "print(string[-5:-2])\n",
    "print(string[-5:4])\n",
    "print(string[1:-2])"
   ]
  },
  {
   "cell_type": "markdown",
   "id": "2beea919",
   "metadata": {},
   "source": [
    "# Reverse String "
   ]
  },
  {
   "cell_type": "code",
   "execution_count": 23,
   "id": "d099cdb5",
   "metadata": {},
   "outputs": [
    {
     "data": {
      "text/plain": [
       "'nohtyp'"
      ]
     },
     "execution_count": 23,
     "metadata": {},
     "output_type": "execute_result"
    }
   ],
   "source": [
    "string = \"python\"\n",
    "\n",
    "string[::-1] # it will reverse the given string"
   ]
  },
  {
   "cell_type": "code",
   "execution_count": 28,
   "id": "e7e92f5a",
   "metadata": {},
   "outputs": [
    {
     "data": {
      "text/plain": [
       "'gninraeL enihcam dna nohtyp'"
      ]
     },
     "execution_count": 28,
     "metadata": {},
     "output_type": "execute_result"
    }
   ],
   "source": [
    "string = \"python and machine Learning\"\n",
    "\n",
    "string[::-1]"
   ]
  },
  {
   "cell_type": "code",
   "execution_count": null,
   "id": "14c05901",
   "metadata": {},
   "outputs": [],
   "source": []
  },
  {
   "cell_type": "code",
   "execution_count": null,
   "id": "f2477ffd",
   "metadata": {},
   "outputs": [],
   "source": [
    "string     =   p    y    t    h    o    n\n",
    "\n",
    "+ve index  =   0    1    2    3    4    5  \n",
    "\n",
    "-ve index  =   -6  -5   -4   -3   -2   -1"
   ]
  },
  {
   "cell_type": "code",
   "execution_count": 25,
   "id": "8368fbf7",
   "metadata": {},
   "outputs": [
    {
     "data": {
      "text/plain": [
       "'noh'"
      ]
     },
     "execution_count": 25,
     "metadata": {},
     "output_type": "execute_result"
    }
   ],
   "source": [
    "string[5:2:-1]  #noh #5,4,3"
   ]
  },
  {
   "cell_type": "code",
   "execution_count": 29,
   "id": "83b4e4be",
   "metadata": {},
   "outputs": [
    {
     "data": {
      "text/plain": [
       "'nh'"
      ]
     },
     "execution_count": 29,
     "metadata": {},
     "output_type": "execute_result"
    }
   ],
   "source": [
    "string[5:2:-2]#nh"
   ]
  },
  {
   "cell_type": "code",
   "execution_count": 26,
   "id": "dd60fbd6",
   "metadata": {},
   "outputs": [
    {
     "data": {
      "text/plain": [
       "'tho'"
      ]
     },
     "execution_count": 26,
     "metadata": {},
     "output_type": "execute_result"
    }
   ],
   "source": [
    "string[2:5] #tho"
   ]
  },
  {
   "cell_type": "code",
   "execution_count": 30,
   "id": "f3ed9fe8",
   "metadata": {},
   "outputs": [
    {
     "ename": "ValueError",
     "evalue": "slice step cannot be zero",
     "output_type": "error",
     "traceback": [
      "\u001b[1;31m---------------------------------------------------------------------------\u001b[0m",
      "\u001b[1;31mValueError\u001b[0m                                Traceback (most recent call last)",
      "\u001b[1;32m<ipython-input-30-971259f5d047>\u001b[0m in \u001b[0;36m<module>\u001b[1;34m\u001b[0m\n\u001b[1;32m----> 1\u001b[1;33m \u001b[0mstring\u001b[0m\u001b[1;33m[\u001b[0m\u001b[1;36m2\u001b[0m\u001b[1;33m:\u001b[0m\u001b[1;36m5\u001b[0m\u001b[1;33m:\u001b[0m\u001b[1;36m0\u001b[0m\u001b[1;33m]\u001b[0m\u001b[1;33m\u001b[0m\u001b[1;33m\u001b[0m\u001b[0m\n\u001b[0m",
      "\u001b[1;31mValueError\u001b[0m: slice step cannot be zero"
     ]
    }
   ],
   "source": [
    "string[2:5:0] "
   ]
  },
  {
   "cell_type": "code",
   "execution_count": 27,
   "id": "7955d828",
   "metadata": {},
   "outputs": [
    {
     "data": {
      "text/plain": [
       "''"
      ]
     },
     "execution_count": 27,
     "metadata": {},
     "output_type": "execute_result"
    }
   ],
   "source": [
    "string[2:5:-1] "
   ]
  },
  {
   "cell_type": "code",
   "execution_count": null,
   "id": "80938b67",
   "metadata": {},
   "outputs": [],
   "source": [
    "Index >>\n",
    "\n",
    "1. both start and end index are positive\n",
    "2. both start and end index are negative\n",
    "3. start index is +ve and end index -ve\n",
    "4. start index is -ve and end index +ve\n",
    "\n",
    "\n",
    "Step size >>\n",
    "\n",
    "1.Step size is positive\n",
    "2.Step size is negative\n",
    "\n",
    "\n",
    "start index is greater than end index (with +ve step size)\n",
    "end index is greator than start index (with +ve step size)\n",
    "\n",
    "start index is greater than end index (with -ve step size)\n",
    "end index is greator than start index (with -ve step size)\n",
    "\n"
   ]
  }
 ],
 "metadata": {
  "kernelspec": {
   "display_name": "Python 3",
   "language": "python",
   "name": "python3"
  },
  "language_info": {
   "codemirror_mode": {
    "name": "ipython",
    "version": 3
   },
   "file_extension": ".py",
   "mimetype": "text/x-python",
   "name": "python",
   "nbconvert_exporter": "python",
   "pygments_lexer": "ipython3",
   "version": "3.8.8"
  }
 },
 "nbformat": 4,
 "nbformat_minor": 5
}
