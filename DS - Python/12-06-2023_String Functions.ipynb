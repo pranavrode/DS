{
 "cells": [
  {
   "cell_type": "code",
   "execution_count": 1,
   "id": "74a3a09e",
   "metadata": {},
   "outputs": [
    {
     "name": "stdout",
     "output_type": "stream",
     "text": [
      "30\n"
     ]
    }
   ],
   "source": [
    "x = 10\n",
    "y = 20\n",
    "\n",
    "print(x+y)"
   ]
  },
  {
   "cell_type": "code",
   "execution_count": 2,
   "id": "9d27bf61",
   "metadata": {},
   "outputs": [
    {
     "name": "stdout",
     "output_type": "stream",
     "text": [
      "1020\n"
     ]
    }
   ],
   "source": [
    "x = '10'  #str\n",
    "y = '20' #str\n",
    "\n",
    "print(x+y)"
   ]
  },
  {
   "cell_type": "markdown",
   "id": "fa6d2feb",
   "metadata": {},
   "source": [
    "# String Functions"
   ]
  },
  {
   "cell_type": "markdown",
   "id": "82dedc21",
   "metadata": {},
   "source": [
    "# 1. Capitalize()"
   ]
  },
  {
   "cell_type": "code",
   "execution_count": null,
   "id": "9f10b6bd",
   "metadata": {},
   "outputs": [],
   "source": [
    "It will capitalize only first char of given string and all remaining chaacters will in lower case\n",
    "\n",
    "First char >> Zero index charcater"
   ]
  },
  {
   "cell_type": "code",
   "execution_count": 3,
   "id": "ed467ac2",
   "metadata": {},
   "outputs": [
    {
     "data": {
      "text/plain": [
       "'Machine'"
      ]
     },
     "execution_count": 3,
     "metadata": {},
     "output_type": "execute_result"
    }
   ],
   "source": [
    "string = \"machine\"\n",
    "string.capitalize()"
   ]
  },
  {
   "cell_type": "code",
   "execution_count": 4,
   "id": "8f6b2725",
   "metadata": {},
   "outputs": [
    {
     "data": {
      "text/plain": [
       "'Machine learning'"
      ]
     },
     "execution_count": 4,
     "metadata": {},
     "output_type": "execute_result"
    }
   ],
   "source": [
    "string = \"MACHINE LEARNING\"\n",
    "string.capitalize()"
   ]
  },
  {
   "cell_type": "code",
   "execution_count": 5,
   "id": "cdfafcec",
   "metadata": {},
   "outputs": [
    {
     "data": {
      "text/plain": [
       "'Mchaine learning'"
      ]
     },
     "execution_count": 5,
     "metadata": {},
     "output_type": "execute_result"
    }
   ],
   "source": [
    "string = \"Mchaine Learning\"\n",
    "string.capitalize()"
   ]
  },
  {
   "cell_type": "code",
   "execution_count": 6,
   "id": "b07d0ef4",
   "metadata": {},
   "outputs": [
    {
     "data": {
      "text/plain": [
       "' machine'"
      ]
     },
     "execution_count": 6,
     "metadata": {},
     "output_type": "execute_result"
    }
   ],
   "source": [
    "string = \" machine\"\n",
    "string.capitalize()"
   ]
  },
  {
   "cell_type": "code",
   "execution_count": 7,
   "id": "1c9f5026",
   "metadata": {},
   "outputs": [
    {
     "data": {
      "text/plain": [
       "'Machi@ne'"
      ]
     },
     "execution_count": 7,
     "metadata": {},
     "output_type": "execute_result"
    }
   ],
   "source": [
    "string = \"Machi@ne\"\n",
    "string.capitalize()"
   ]
  },
  {
   "cell_type": "markdown",
   "id": "0c516f1e",
   "metadata": {},
   "source": [
    "# 2. Upper()"
   ]
  },
  {
   "cell_type": "code",
   "execution_count": null,
   "id": "cdfd2ef1",
   "metadata": {},
   "outputs": [],
   "source": [
    "It will convert all char into upper case"
   ]
  },
  {
   "cell_type": "code",
   "execution_count": 8,
   "id": "2dde59c4",
   "metadata": {},
   "outputs": [
    {
     "data": {
      "text/plain": [
       "'MACHINE'"
      ]
     },
     "execution_count": 8,
     "metadata": {},
     "output_type": "execute_result"
    }
   ],
   "source": [
    "string = \"machine\"\n",
    "string.upper()"
   ]
  },
  {
   "cell_type": "code",
   "execution_count": 9,
   "id": "b6be4d25",
   "metadata": {},
   "outputs": [
    {
     "data": {
      "text/plain": [
       "'MCHAINE LEARNING'"
      ]
     },
     "execution_count": 9,
     "metadata": {},
     "output_type": "execute_result"
    }
   ],
   "source": [
    "string = \"Mchaine Learning\"\n",
    "string.upper()"
   ]
  },
  {
   "cell_type": "code",
   "execution_count": 11,
   "id": "4ae2ed5f",
   "metadata": {},
   "outputs": [
    {
     "data": {
      "text/plain": [
       "'MCHAINE LEARNING'"
      ]
     },
     "execution_count": 11,
     "metadata": {},
     "output_type": "execute_result"
    }
   ],
   "source": [
    "string = \"Mchaine Learning\"\n",
    "string = string.upper()\n",
    "string"
   ]
  },
  {
   "cell_type": "markdown",
   "id": "2d892a4a",
   "metadata": {},
   "source": [
    "# 3. lower()"
   ]
  },
  {
   "cell_type": "code",
   "execution_count": null,
   "id": "7f18b05a",
   "metadata": {},
   "outputs": [],
   "source": [
    "It will convert all char into lower case"
   ]
  },
  {
   "cell_type": "code",
   "execution_count": 12,
   "id": "8c22937f",
   "metadata": {},
   "outputs": [
    {
     "data": {
      "text/plain": [
       "'mchaine learning'"
      ]
     },
     "execution_count": 12,
     "metadata": {},
     "output_type": "execute_result"
    }
   ],
   "source": [
    "string = \"Mchaine Learning\"\n",
    "string.lower()\n"
   ]
  },
  {
   "cell_type": "code",
   "execution_count": 13,
   "id": "34d7e9e7",
   "metadata": {},
   "outputs": [
    {
     "data": {
      "text/plain": [
       "'machine learning'"
      ]
     },
     "execution_count": 13,
     "metadata": {},
     "output_type": "execute_result"
    }
   ],
   "source": [
    "string = \"MACHINE LEARNING\"\n",
    "string.lower()"
   ]
  },
  {
   "cell_type": "markdown",
   "id": "9432c399",
   "metadata": {},
   "source": [
    "# 4.title"
   ]
  },
  {
   "cell_type": "code",
   "execution_count": null,
   "id": "ae272f56",
   "metadata": {},
   "outputs": [],
   "source": [
    "It will convert string into title case "
   ]
  },
  {
   "cell_type": "code",
   "execution_count": 14,
   "id": "dc621d36",
   "metadata": {},
   "outputs": [
    {
     "data": {
      "text/plain": [
       "'Machine Learning'"
      ]
     },
     "execution_count": 14,
     "metadata": {},
     "output_type": "execute_result"
    }
   ],
   "source": [
    "string = \"MACHINE LEARNING\"\n",
    "string.title()"
   ]
  },
  {
   "cell_type": "code",
   "execution_count": 15,
   "id": "17024a8d",
   "metadata": {},
   "outputs": [
    {
     "data": {
      "text/plain": [
       "'Python And Data Science Class'"
      ]
     },
     "execution_count": 15,
     "metadata": {},
     "output_type": "execute_result"
    }
   ],
   "source": [
    "string = \"python and data science class\"\n",
    "string.title()"
   ]
  },
  {
   "cell_type": "code",
   "execution_count": null,
   "id": "f8f7c60a",
   "metadata": {},
   "outputs": [],
   "source": [
    "pan_card = \"mahesh gore\"\n",
    "adhar_card = \"MAHESH GORE\"\n"
   ]
  },
  {
   "cell_type": "code",
   "execution_count": null,
   "id": "1b73150a",
   "metadata": {},
   "outputs": [],
   "source": [
    "pan_card = \"Mahesh Gore\"\n",
    "adhar_card = \"MAHESH GORE\""
   ]
  },
  {
   "cell_type": "code",
   "execution_count": 16,
   "id": "b80f3c69",
   "metadata": {},
   "outputs": [
    {
     "data": {
      "text/plain": [
       "False"
      ]
     },
     "execution_count": 16,
     "metadata": {},
     "output_type": "execute_result"
    }
   ],
   "source": [
    "str1 = \"python\"\n",
    "str2 = \"Python\"\n",
    "\n",
    "str1 == str2"
   ]
  },
  {
   "cell_type": "code",
   "execution_count": 17,
   "id": "4d286f22",
   "metadata": {},
   "outputs": [
    {
     "data": {
      "text/plain": [
       "True"
      ]
     },
     "execution_count": 17,
     "metadata": {},
     "output_type": "execute_result"
    }
   ],
   "source": [
    "str1 = \"python\"\n",
    "str2 = \"python\"\n",
    "\n",
    "str1 == str2"
   ]
  },
  {
   "cell_type": "code",
   "execution_count": 18,
   "id": "f988c3d2",
   "metadata": {},
   "outputs": [
    {
     "name": "stdout",
     "output_type": "stream",
     "text": [
      "Both strings are same\n"
     ]
    }
   ],
   "source": [
    "str1 = \"python\"\n",
    "str2 = \"python\"\n",
    "\n",
    "if str1 == str2:  # True\n",
    "    print(\"Both strings are same\")"
   ]
  },
  {
   "cell_type": "code",
   "execution_count": 19,
   "id": "ecc50640",
   "metadata": {},
   "outputs": [
    {
     "data": {
      "text/plain": [
       "False"
      ]
     },
     "execution_count": 19,
     "metadata": {},
     "output_type": "execute_result"
    }
   ],
   "source": [
    "pan_card_name = \"mahesh gore\"\n",
    "adhar_card_name = \"MAHESH GORE\"\n",
    "\n",
    "pan_card_name == adhar_card_name"
   ]
  },
  {
   "cell_type": "code",
   "execution_count": 20,
   "id": "8891eabb",
   "metadata": {},
   "outputs": [
    {
     "name": "stdout",
     "output_type": "stream",
     "text": [
      "Both documents are of differnt person\n"
     ]
    }
   ],
   "source": [
    "pan_card_name = \"mahesh gore\"\n",
    "adhar_card_name = \"MAHESH GORE\"\n",
    "\n",
    "if pan_card_name == adhar_card_name: #Flase\n",
    "    print(\"Both documents are of same person\")\n",
    "    \n",
    "else:\n",
    "    print(\"Both documents are of differnt person\")"
   ]
  },
  {
   "cell_type": "code",
   "execution_count": 21,
   "id": "0eada06a",
   "metadata": {},
   "outputs": [
    {
     "name": "stdout",
     "output_type": "stream",
     "text": [
      "Both documents are of same person\n"
     ]
    }
   ],
   "source": [
    "pan_card_name = \"mahesh gore\"\n",
    "adhar_card_name = \"MAHESH GORE\"\n",
    "\n",
    "\n",
    "\n",
    "pan_card_name = pan_card_name.upper() # MAHESH GORE\n",
    "adhar_card_name = adhar_card_name.upper() # MAHESH GORE\n",
    "\n",
    "\n",
    "if pan_card_name == adhar_card_name: \n",
    "    print(\"Both documents are of same person\")\n",
    "    \n",
    "else:\n",
    "    print(\"Both documents are of differnt person\")"
   ]
  },
  {
   "cell_type": "code",
   "execution_count": 22,
   "id": "858197c2",
   "metadata": {},
   "outputs": [
    {
     "name": "stdout",
     "output_type": "stream",
     "text": [
      "Both documents are of same person\n"
     ]
    }
   ],
   "source": [
    "pan_card_name = \"mahesh gore\"\n",
    "adhar_card_name = \"MAHESH GORE\"\n",
    "\n",
    "\n",
    "\n",
    "pan_card_name = pan_card_name.lower() # MAHESH GORE\n",
    "adhar_card_name = adhar_card_name.lower() # MAHESH GORE\n",
    "\n",
    "\n",
    "if pan_card_name == adhar_card_name: \n",
    "    print(\"Both documents are of same person\")\n",
    "    \n",
    "else:\n",
    "    print(\"Both documents are of differnt person\")"
   ]
  },
  {
   "cell_type": "code",
   "execution_count": 23,
   "id": "f5945b17",
   "metadata": {},
   "outputs": [
    {
     "name": "stdout",
     "output_type": "stream",
     "text": [
      "Both documents are of same person\n"
     ]
    }
   ],
   "source": [
    "pan_card_name = \"mahesh gore\"\n",
    "adhar_card_name = \"MAHESH GORE\"\n",
    "\n",
    "\n",
    "\n",
    "pan_card_name = pan_card_name.title()\n",
    "adhar_card_name = adhar_card_name.title()\n",
    "\n",
    "\n",
    "if pan_card_name == adhar_card_name: \n",
    "    print(\"Both documents are of same person\")\n",
    "    \n",
    "else:\n",
    "    print(\"Both documents are of differnt person\")"
   ]
  }
 ],
 "metadata": {
  "kernelspec": {
   "display_name": "Python 3",
   "language": "python",
   "name": "python3"
  },
  "language_info": {
   "codemirror_mode": {
    "name": "ipython",
    "version": 3
   },
   "file_extension": ".py",
   "mimetype": "text/x-python",
   "name": "python",
   "nbconvert_exporter": "python",
   "pygments_lexer": "ipython3",
   "version": "3.8.8"
  }
 },
 "nbformat": 4,
 "nbformat_minor": 5
}
