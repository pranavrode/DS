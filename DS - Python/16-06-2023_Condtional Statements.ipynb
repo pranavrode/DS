{
 "cells": [
  {
   "cell_type": "code",
   "execution_count": null,
   "id": "a62c31e5",
   "metadata": {},
   "outputs": [],
   "source": [
    "Conditional Statement >> Decision Making Statement"
   ]
  },
  {
   "cell_type": "code",
   "execution_count": null,
   "id": "ea09e3cf",
   "metadata": {},
   "outputs": [],
   "source": [
    "if\n",
    "elif\n",
    "else"
   ]
  },
  {
   "cell_type": "code",
   "execution_count": null,
   "id": "1ecf0297",
   "metadata": {},
   "outputs": [],
   "source": [
    "valid Syntax:\n",
    "    \n",
    "    if\n",
    "    if - else\n",
    "    if - elif\n",
    "    if - elif - elif\n",
    "    if - elif - else\n",
    "    if - elif - elif - elif -else\n",
    "    \n",
    "Invalid:\n",
    "    \n",
    "    elif\n",
    "    elif - else\n",
    "    elif - elif - else\n",
    "    else"
   ]
  },
  {
   "cell_type": "markdown",
   "id": "681b6e2d",
   "metadata": {},
   "source": [
    "# Syntax"
   ]
  },
  {
   "cell_type": "code",
   "execution_count": null,
   "id": "62072d37",
   "metadata": {},
   "outputs": [],
   "source": [
    "if condition : #True/False\n",
    "    statement1\n",
    "    statement2\n",
    "    statement3\n",
    "    \n",
    "elif condition2:#True/False\n",
    "    statement4\n",
    "    statement5\n",
    "    statement6\n",
    "    \n",
    "else:\n",
    "    statement7\n",
    "    statement8\n",
    "    statement9\n",
    "    "
   ]
  },
  {
   "cell_type": "code",
   "execution_count": null,
   "id": "5accf75e",
   "metadata": {},
   "outputs": [],
   "source": [
    "\n",
    "    "
   ]
  },
  {
   "cell_type": "code",
   "execution_count": null,
   "id": "5c6867f2",
   "metadata": {},
   "outputs": [],
   "source": [
    "if condition : #True/False\n",
    "    statement1\n",
    "    statement2\n",
    "    statement3\n",
    "    \n",
    "elif condition2:#True/False\n",
    "    statement4\n",
    "    statement5\n",
    "    statement6\n",
    "    \n",
    "elif condition3:#True/False\n",
    "    statement4\n",
    "    statement5\n",
    "    statement6\n",
    "    \n",
    "else:\n",
    "    statement7\n",
    "    statement8\n",
    "    statement9"
   ]
  },
  {
   "cell_type": "code",
   "execution_count": null,
   "id": "f54afeb2",
   "metadata": {},
   "outputs": [],
   "source": [
    "if condition : #True/False\n",
    "    statement1\n",
    "    statement2\n",
    "    statement3\n",
    "    \n",
    "elif condition2:#True/False\n",
    "    statement4\n",
    "    statement5\n",
    "    statement6"
   ]
  },
  {
   "cell_type": "code",
   "execution_count": null,
   "id": "16783a02",
   "metadata": {},
   "outputs": [],
   "source": [
    "if condition : #True/False\n",
    "    statement1\n",
    "    statement2\n",
    "    statement3\n",
    "    \n",
    "\n",
    "else:\n",
    "    statement7\n",
    "    statement8\n",
    "    statement9"
   ]
  },
  {
   "cell_type": "code",
   "execution_count": 2,
   "id": "eade6d1a",
   "metadata": {},
   "outputs": [
    {
     "data": {
      "text/plain": [
       "False"
      ]
     },
     "execution_count": 2,
     "metadata": {},
     "output_type": "execute_result"
    }
   ],
   "source": [
    "str1 = \"I am very talented\"\n",
    "str1.isupper()"
   ]
  },
  {
   "cell_type": "code",
   "execution_count": 5,
   "id": "d1ef6f18",
   "metadata": {},
   "outputs": [
    {
     "name": "stdout",
     "output_type": "stream",
     "text": [
      "All char are in lower case\n"
     ]
    }
   ],
   "source": [
    "str1 = \"i am very talented\"\n",
    "\n",
    "if str1.islower():#True\n",
    "    print(\"All char are in lower case\")\n",
    "    "
   ]
  },
  {
   "cell_type": "code",
   "execution_count": 7,
   "id": "267a34b4",
   "metadata": {},
   "outputs": [
    {
     "name": "stdout",
     "output_type": "stream",
     "text": [
      "You are good Data Scientist\n"
     ]
    }
   ],
   "source": [
    "str1 = \"I am very talented\"\n",
    "\n",
    "if str1.islower():#False\n",
    "    print(\"All char are in lower case\")\n",
    "    \n",
    "print(\"You are good Data Scientist\")"
   ]
  },
  {
   "cell_type": "code",
   "execution_count": 8,
   "id": "fa473072",
   "metadata": {},
   "outputs": [],
   "source": [
    "str1 = \"I am very talented\"\n",
    "\n",
    "if str1.islower():#False\n",
    "    print(\"All char are in lower case\")\n",
    "    \n",
    "    print(\"You are good Data Scientist\")"
   ]
  },
  {
   "cell_type": "code",
   "execution_count": 9,
   "id": "a0c7dd51",
   "metadata": {},
   "outputs": [
    {
     "name": "stdout",
     "output_type": "stream",
     "text": [
      "All char are in lower case\n",
      "You are good Data Scientist\n"
     ]
    }
   ],
   "source": [
    "str1 = \"i am very talented\"\n",
    "\n",
    "if str1.islower():#True\n",
    "    print(\"All char are in lower case\")\n",
    "    \n",
    "    print(\"You are good Data Scientist\")"
   ]
  },
  {
   "cell_type": "code",
   "execution_count": 11,
   "id": "39ebda10",
   "metadata": {},
   "outputs": [
    {
     "ename": "IndentationError",
     "evalue": "unindent does not match any outer indentation level (<tokenize>, line 6)",
     "output_type": "error",
     "traceback": [
      "\u001b[1;36m  File \u001b[1;32m\"<tokenize>\"\u001b[1;36m, line \u001b[1;32m6\u001b[0m\n\u001b[1;33m    print(\"You are good Data Scientist\")\u001b[0m\n\u001b[1;37m    ^\u001b[0m\n\u001b[1;31mIndentationError\u001b[0m\u001b[1;31m:\u001b[0m unindent does not match any outer indentation level\n"
     ]
    }
   ],
   "source": [
    "str1 = \"i am very talented\"\n",
    "\n",
    "if str1.islower():#True\n",
    "     print(\"All char are in lower case\")\n",
    "    \n",
    "    print(\"You are good Data Scientist\")"
   ]
  },
  {
   "cell_type": "code",
   "execution_count": 12,
   "id": "7422d500",
   "metadata": {},
   "outputs": [
    {
     "name": "stdout",
     "output_type": "stream",
     "text": [
      "All char are not in lower case\n"
     ]
    }
   ],
   "source": [
    "str1 = \"I am very talented\"\n",
    "\n",
    "if str1.islower():#False\n",
    "    print(\"All char are in lower case\")\n",
    "    \n",
    "else:\n",
    "    print(\"All char are not in lower case\")"
   ]
  },
  {
   "cell_type": "code",
   "execution_count": 13,
   "id": "a7dd9ee1",
   "metadata": {},
   "outputs": [
    {
     "name": "stdout",
     "output_type": "stream",
     "text": [
      "All char are in lower case\n"
     ]
    }
   ],
   "source": [
    "str1 = \"i am very talented\"\n",
    "\n",
    "if str1.islower():#True\n",
    "    print(\"All char are in lower case\")\n",
    "    \n",
    "else:\n",
    "    print(\"All char are not in lower case\")"
   ]
  },
  {
   "cell_type": "code",
   "execution_count": 14,
   "id": "195984f6",
   "metadata": {},
   "outputs": [
    {
     "name": "stdout",
     "output_type": "stream",
     "text": [
      "x is less than y\n"
     ]
    }
   ],
   "source": [
    "x = 30\n",
    "y = 40\n",
    "\n",
    "if x > y: #False\n",
    "    print(\"x is greator than y\")\n",
    "    \n",
    "else:\n",
    "    print(\"x is less than y\")"
   ]
  },
  {
   "cell_type": "code",
   "execution_count": 15,
   "id": "42a638d4",
   "metadata": {},
   "outputs": [
    {
     "name": "stdout",
     "output_type": "stream",
     "text": [
      "30 is less than 40\n"
     ]
    }
   ],
   "source": [
    "x = 30\n",
    "y = 40\n",
    "\n",
    "if x > y: #False\n",
    "    print(f\"{x} is greator than {y}\")\n",
    "    \n",
    "else:\n",
    "    print(f\"{x} is less than {y}\")"
   ]
  },
  {
   "cell_type": "code",
   "execution_count": 17,
   "id": "c04463fb",
   "metadata": {},
   "outputs": [
    {
     "name": "stdout",
     "output_type": "stream",
     "text": [
      "40 and 40 are equal\n"
     ]
    }
   ],
   "source": [
    "x = 40\n",
    "y = 40\n",
    "\n",
    "if x > y: # false\n",
    "    print(f\"{x} is greator than {y}\")\n",
    "    \n",
    "elif x==y:#40==40 >> True\n",
    "    print(f\"{x} and {y} are equal\")\n",
    "    \n",
    "else:\n",
    "    print(f\"{x} is less than {y}\")"
   ]
  },
  {
   "cell_type": "code",
   "execution_count": 16,
   "id": "df08bf95",
   "metadata": {},
   "outputs": [
    {
     "data": {
      "text/plain": [
       "True"
      ]
     },
     "execution_count": 16,
     "metadata": {},
     "output_type": "execute_result"
    }
   ],
   "source": [
    "40==40"
   ]
  },
  {
   "cell_type": "code",
   "execution_count": 19,
   "id": "4ab28626",
   "metadata": {},
   "outputs": [
    {
     "name": "stdout",
     "output_type": "stream",
     "text": [
      "40 is less than 40\n"
     ]
    }
   ],
   "source": [
    "x = 40\n",
    "y = 40\n",
    "\n",
    "if x > y: # false\n",
    "    print(f\"{x} is greator than {y}\")\n",
    "    \n",
    "    \n",
    "else:\n",
    "    print(f\"{x} is less than {y}\")"
   ]
  },
  {
   "cell_type": "code",
   "execution_count": null,
   "id": "097fad47",
   "metadata": {},
   "outputs": [],
   "source": [
    "#HomeWork\n",
    "Find largest number between below numbers\n",
    "a = 10\n",
    "b = 20\n",
    "c = 30"
   ]
  },
  {
   "cell_type": "markdown",
   "id": "2fa4b0ff",
   "metadata": {},
   "source": [
    "# operators"
   ]
  },
  {
   "cell_type": "markdown",
   "id": "f6038d88",
   "metadata": {},
   "source": [
    "### 1. Comaparision Operator"
   ]
  },
  {
   "cell_type": "code",
   "execution_count": null,
   "id": "44d45f4f",
   "metadata": {},
   "outputs": [],
   "source": [
    "1. x == y  >> Equal Operator\n",
    "2. x != y  >> Not Equal Operator\n",
    "3. x > y   >> Greator than Operator\n",
    "4. x < y   >> Less than Operator\n",
    "5. x >= y  >> greator than or equal to\n",
    "6. x <= y  >> less than or equal to"
   ]
  },
  {
   "cell_type": "code",
   "execution_count": 20,
   "id": "660a722d",
   "metadata": {},
   "outputs": [
    {
     "data": {
      "text/plain": [
       "False"
      ]
     },
     "execution_count": 20,
     "metadata": {},
     "output_type": "execute_result"
    }
   ],
   "source": [
    "a= 30\n",
    "b = 40\n",
    "\n",
    "a==b"
   ]
  },
  {
   "cell_type": "code",
   "execution_count": 21,
   "id": "e97d035c",
   "metadata": {},
   "outputs": [
    {
     "data": {
      "text/plain": [
       "False"
      ]
     },
     "execution_count": 21,
     "metadata": {},
     "output_type": "execute_result"
    }
   ],
   "source": [
    "a>b"
   ]
  },
  {
   "cell_type": "code",
   "execution_count": 22,
   "id": "01c89ff6",
   "metadata": {},
   "outputs": [
    {
     "data": {
      "text/plain": [
       "False"
      ]
     },
     "execution_count": 22,
     "metadata": {},
     "output_type": "execute_result"
    }
   ],
   "source": [
    "a>b"
   ]
  },
  {
   "cell_type": "code",
   "execution_count": 23,
   "id": "195b2de8",
   "metadata": {},
   "outputs": [
    {
     "data": {
      "text/plain": [
       "False"
      ]
     },
     "execution_count": 23,
     "metadata": {},
     "output_type": "execute_result"
    }
   ],
   "source": [
    "a >= b"
   ]
  },
  {
   "cell_type": "code",
   "execution_count": 24,
   "id": "bd06937b",
   "metadata": {},
   "outputs": [
    {
     "data": {
      "text/plain": [
       "True"
      ]
     },
     "execution_count": 24,
     "metadata": {},
     "output_type": "execute_result"
    }
   ],
   "source": [
    "a <= b"
   ]
  },
  {
   "cell_type": "markdown",
   "id": "d3eefd49",
   "metadata": {},
   "source": [
    "# Logical Operator"
   ]
  },
  {
   "cell_type": "code",
   "execution_count": null,
   "id": "fc6320d6",
   "metadata": {},
   "outputs": [],
   "source": [
    "1. and\n",
    "2. or\n",
    "3. not"
   ]
  },
  {
   "cell_type": "code",
   "execution_count": null,
   "id": "dcb0ef08",
   "metadata": {},
   "outputs": [],
   "source": []
  },
  {
   "cell_type": "markdown",
   "id": "7e02c4b5",
   "metadata": {},
   "source": [
    "# and"
   ]
  },
  {
   "cell_type": "code",
   "execution_count": null,
   "id": "51848e0f",
   "metadata": {},
   "outputs": [],
   "source": [
    "True and True  >> True\n",
    "True and False >> False\n",
    "False and True >> False\n",
    "False and False>> False"
   ]
  },
  {
   "cell_type": "markdown",
   "id": "8e16f680",
   "metadata": {},
   "source": [
    "# or"
   ]
  },
  {
   "cell_type": "code",
   "execution_count": null,
   "id": "3e9731dd",
   "metadata": {},
   "outputs": [],
   "source": [
    "True or True  >> True\n",
    "True or False >> True\n",
    "False or True >> True\n",
    "False or False>> False"
   ]
  },
  {
   "cell_type": "code",
   "execution_count": 25,
   "id": "e31a9b08",
   "metadata": {},
   "outputs": [],
   "source": [
    "a = 30\n",
    "b = 40\n",
    "c = 60\n",
    "\n",
    "if a > b : #false\n",
    "    print(\"Hello\")"
   ]
  },
  {
   "cell_type": "code",
   "execution_count": 26,
   "id": "dcbf1b7c",
   "metadata": {},
   "outputs": [
    {
     "name": "stdout",
     "output_type": "stream",
     "text": [
      "Hello\n"
     ]
    }
   ],
   "source": [
    "a = 30\n",
    "b = 40\n",
    "c = 60\n",
    "\n",
    "if b > a : #True\n",
    "    print(\"Hello\")"
   ]
  },
  {
   "cell_type": "code",
   "execution_count": 27,
   "id": "0d967a4f",
   "metadata": {},
   "outputs": [],
   "source": [
    "a = 30\n",
    "b = 40\n",
    "c = 60\n",
    "\n",
    "if a > b and a > c : #False and Flase >> False\n",
    "    print(\"a is largest number\")"
   ]
  },
  {
   "cell_type": "code",
   "execution_count": 28,
   "id": "ad71216c",
   "metadata": {},
   "outputs": [],
   "source": [
    "a = 30\n",
    "b = 40\n",
    "c = 60\n",
    "\n",
    "if a > b or a > c : #False and Flase >> False\n",
    "    print(\"a is largest number\")"
   ]
  },
  {
   "cell_type": "code",
   "execution_count": 29,
   "id": "b09bfc20",
   "metadata": {},
   "outputs": [
    {
     "name": "stdout",
     "output_type": "stream",
     "text": [
      "a is largest number\n"
     ]
    }
   ],
   "source": [
    "a = 300\n",
    "b = 40\n",
    "c = 60\n",
    "\n",
    "if a > b or a > c : #True and True >> True\n",
    "    print(\"a is largest number\")"
   ]
  },
  {
   "cell_type": "code",
   "execution_count": 30,
   "id": "aad0cc25",
   "metadata": {},
   "outputs": [
    {
     "name": "stdout",
     "output_type": "stream",
     "text": [
      "Enter value of a:a\n"
     ]
    }
   ],
   "source": [
    "a = eval(input(\"Enter value of a:\"))"
   ]
  },
  {
   "cell_type": "code",
   "execution_count": 31,
   "id": "4011ea25",
   "metadata": {},
   "outputs": [
    {
     "data": {
      "text/plain": [
       "10"
      ]
     },
     "execution_count": 31,
     "metadata": {},
     "output_type": "execute_result"
    }
   ],
   "source": [
    "a=10\n",
    "a"
   ]
  },
  {
   "cell_type": "code",
   "execution_count": 32,
   "id": "778c36a4",
   "metadata": {},
   "outputs": [
    {
     "name": "stdout",
     "output_type": "stream",
     "text": [
      "10\n"
     ]
    }
   ],
   "source": [
    "print(a)"
   ]
  },
  {
   "cell_type": "code",
   "execution_count": null,
   "id": "433bf751",
   "metadata": {},
   "outputs": [],
   "source": []
  }
 ],
 "metadata": {
  "kernelspec": {
   "display_name": "Python 3",
   "language": "python",
   "name": "python3"
  },
  "language_info": {
   "codemirror_mode": {
    "name": "ipython",
    "version": 3
   },
   "file_extension": ".py",
   "mimetype": "text/x-python",
   "name": "python",
   "nbconvert_exporter": "python",
   "pygments_lexer": "ipython3",
   "version": "3.8.8"
  }
 },
 "nbformat": 4,
 "nbformat_minor": 5
}
