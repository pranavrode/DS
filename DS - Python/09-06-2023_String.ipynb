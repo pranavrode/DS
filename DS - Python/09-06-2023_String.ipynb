{
 "cells": [
  {
   "cell_type": "markdown",
   "id": "27048b09",
   "metadata": {},
   "source": [
    "# String"
   ]
  },
  {
   "cell_type": "code",
   "execution_count": null,
   "id": "35409314",
   "metadata": {},
   "outputs": [],
   "source": [
    "String is collection of character surrounded by single quotes, double quotes  or triple quotes\n",
    "\n",
    ">> We can not use single quote inside single qoute >> 'Sachin'\n",
    ">> we can not use double quotes inside double quote >>\"Sachin\"\n",
    ">> we can not use Triple quotes inside Triple quote >> \"\"\"Sachin\"\"\" ,'''Sacihin'''\n",
    "\n",
    "\n",
    "character >> Alphabets(a-z,A-Z), Diigits(0-9), special character (@,#,$,%,^,&,* etc), space"
   ]
  },
  {
   "cell_type": "code",
   "execution_count": 1,
   "id": "37698ddc",
   "metadata": {},
   "outputs": [
    {
     "name": "stdout",
     "output_type": "stream",
     "text": [
      "Python\n"
     ]
    }
   ],
   "source": [
    "string = \"Python\"\n",
    "print(string)"
   ]
  },
  {
   "cell_type": "code",
   "execution_count": 2,
   "id": "12a302d4",
   "metadata": {},
   "outputs": [
    {
     "name": "stdout",
     "output_type": "stream",
     "text": [
      "Python\n"
     ]
    }
   ],
   "source": [
    "string = 'Python'\n",
    "print(string)"
   ]
  },
  {
   "cell_type": "code",
   "execution_count": 3,
   "id": "02da0ce5",
   "metadata": {},
   "outputs": [
    {
     "name": "stdout",
     "output_type": "stream",
     "text": [
      "Python\n"
     ]
    }
   ],
   "source": [
    "string = \"\"\"Python\"\"\"\n",
    "print(string)"
   ]
  },
  {
   "cell_type": "code",
   "execution_count": 4,
   "id": "9fa3615f",
   "metadata": {},
   "outputs": [
    {
     "name": "stdout",
     "output_type": "stream",
     "text": [
      "we are learning Python and Data science\n"
     ]
    }
   ],
   "source": [
    "var = \"we are learning Python and Data science\"\n",
    "print(var)"
   ]
  },
  {
   "cell_type": "code",
   "execution_count": 5,
   "id": "c7118a64",
   "metadata": {},
   "outputs": [
    {
     "ename": "SyntaxError",
     "evalue": "invalid syntax (<ipython-input-5-d6bdb187559d>, line 1)",
     "output_type": "error",
     "traceback": [
      "\u001b[1;36m  File \u001b[1;32m\"<ipython-input-5-d6bdb187559d>\"\u001b[1;36m, line \u001b[1;32m1\u001b[0m\n\u001b[1;33m    var = \"we are learning Python and \"Data science\"\"\u001b[0m\n\u001b[1;37m                                       ^\u001b[0m\n\u001b[1;31mSyntaxError\u001b[0m\u001b[1;31m:\u001b[0m invalid syntax\n"
     ]
    }
   ],
   "source": [
    "var = \"we are learning Python and \"Data science\"\"\n",
    "print(var)"
   ]
  },
  {
   "cell_type": "code",
   "execution_count": 6,
   "id": "40c09e4c",
   "metadata": {},
   "outputs": [
    {
     "name": "stdout",
     "output_type": "stream",
     "text": [
      "we are learning Python and 'Data science'\n"
     ]
    }
   ],
   "source": [
    "var = \"we are learning Python and 'Data science'\"\n",
    "print(var)"
   ]
  },
  {
   "cell_type": "code",
   "execution_count": 8,
   "id": "dc7ed41e",
   "metadata": {},
   "outputs": [
    {
     "name": "stdout",
     "output_type": "stream",
     "text": [
      "we are learning Python and \"Data science\"\n"
     ]
    }
   ],
   "source": [
    "var = \"we are learning Python and \\\"Data science\\\"\"\n",
    "print(var)"
   ]
  },
  {
   "cell_type": "code",
   "execution_count": 10,
   "id": "5684c4e5",
   "metadata": {},
   "outputs": [
    {
     "name": "stdout",
     "output_type": "stream",
     "text": [
      "we are learning Python and 'Data science'\n"
     ]
    }
   ],
   "source": [
    "var = \"we are learning Python and 'Data science'\"\n",
    "print(var)"
   ]
  },
  {
   "cell_type": "code",
   "execution_count": 9,
   "id": "78b43dea",
   "metadata": {},
   "outputs": [
    {
     "data": {
      "text/plain": [
       "int"
      ]
     },
     "execution_count": 9,
     "metadata": {},
     "output_type": "execute_result"
    }
   ],
   "source": [
    "str1 = 12345\n",
    "type(str1)"
   ]
  },
  {
   "cell_type": "code",
   "execution_count": 11,
   "id": "2590656f",
   "metadata": {},
   "outputs": [
    {
     "data": {
      "text/plain": [
       "str"
      ]
     },
     "execution_count": 11,
     "metadata": {},
     "output_type": "execute_result"
    }
   ],
   "source": [
    "str1 = '12345'\n",
    "type(str1)"
   ]
  },
  {
   "cell_type": "code",
   "execution_count": 12,
   "id": "c08c4872",
   "metadata": {},
   "outputs": [
    {
     "name": "stdout",
     "output_type": "stream",
     "text": [
      "Python@#$\n"
     ]
    }
   ],
   "source": [
    "str1 = \"Python@#$\"\n",
    "print(str1)"
   ]
  },
  {
   "cell_type": "code",
   "execution_count": 13,
   "id": "da4c4f81",
   "metadata": {},
   "outputs": [
    {
     "name": "stdout",
     "output_type": "stream",
     "text": [
      "123Python@#$\n"
     ]
    }
   ],
   "source": [
    "str1 = \"123Python@#$\"\n",
    "print(str1)"
   ]
  },
  {
   "cell_type": "code",
   "execution_count": 14,
   "id": "aa5940fc",
   "metadata": {},
   "outputs": [
    {
     "name": "stdout",
     "output_type": "stream",
     "text": [
      "   123Python@#$\n"
     ]
    }
   ],
   "source": [
    "str1 = \"   123Python@#$\"\n",
    "print(str1)"
   ]
  },
  {
   "cell_type": "code",
   "execution_count": 15,
   "id": "12292966",
   "metadata": {},
   "outputs": [
    {
     "name": "stdout",
     "output_type": "stream",
     "text": [
      "Data science is an interdisciplinary academic field that uses statistics, scientific computing, scientific methods, processes, algorithms and systems to extract or extrapolate knowledge and insights \n"
     ]
    }
   ],
   "source": [
    "DS = \"Data science is an interdisciplinary academic field that uses statistics, scientific computing, scientific methods, processes, algorithms and systems to extract or extrapolate knowledge and insights \"\n",
    "print(DS)"
   ]
  },
  {
   "cell_type": "code",
   "execution_count": 16,
   "id": "419054f1",
   "metadata": {},
   "outputs": [
    {
     "name": "stdout",
     "output_type": "stream",
     "text": [
      "Data science is an interdisciplinary academic field that uses statistics, \n",
      "scientific computing, scientific methods, processes, algorithms and systems to \n",
      "extract or extrapolate knowledge and insights \n"
     ]
    }
   ],
   "source": [
    "DS = \"\"\"Data science is an interdisciplinary academic field that uses statistics, \n",
    "scientific computing, scientific methods, processes, algorithms and systems to \n",
    "extract or extrapolate knowledge and insights \"\"\"\n",
    "\n",
    "print(DS)"
   ]
  },
  {
   "cell_type": "code",
   "execution_count": 17,
   "id": "00705355",
   "metadata": {},
   "outputs": [],
   "source": [
    "def Additon(a,c): #Addditon Function\n",
    "    #Data science is an interdisciplinary academic field that uses statistics, \n",
    "    #scientific computing, scientific methods, processes, algorithms and systems to \n",
    "    #extract or extrapolate knowledge and insights\n",
    "    add = a+b\n",
    "    return add"
   ]
  },
  {
   "cell_type": "code",
   "execution_count": 18,
   "id": "737eafd4",
   "metadata": {},
   "outputs": [],
   "source": [
    "def Additon(a,c): #Addditon Function\n",
    "    \"\"\"Data science is an interdisciplinary academic field that uses statistics, \n",
    "    scientific computing, scientific methods, processes, algorithms and systems to \n",
    "    extract or extrapolate knowledge and insights\"\"\"\n",
    "    add = a+b\n",
    "    return add"
   ]
  },
  {
   "cell_type": "markdown",
   "id": "ec24002c",
   "metadata": {},
   "source": [
    "# Escape Character"
   ]
  },
  {
   "cell_type": "code",
   "execution_count": null,
   "id": "ede28463",
   "metadata": {},
   "outputs": [],
   "source": [
    "1. backslash is Escape character"
   ]
  },
  {
   "cell_type": "code",
   "execution_count": 20,
   "id": "b576bb00",
   "metadata": {},
   "outputs": [
    {
     "ename": "SyntaxError",
     "evalue": "invalid syntax (<ipython-input-20-d6bdb187559d>, line 1)",
     "output_type": "error",
     "traceback": [
      "\u001b[1;36m  File \u001b[1;32m\"<ipython-input-20-d6bdb187559d>\"\u001b[1;36m, line \u001b[1;32m1\u001b[0m\n\u001b[1;33m    var = \"we are learning Python and \"Data science\"\"\u001b[0m\n\u001b[1;37m                                       ^\u001b[0m\n\u001b[1;31mSyntaxError\u001b[0m\u001b[1;31m:\u001b[0m invalid syntax\n"
     ]
    }
   ],
   "source": [
    "var = \"we are learning Python and \"Data science\"\"\n",
    "print(var)"
   ]
  },
  {
   "cell_type": "code",
   "execution_count": 19,
   "id": "3a6aa56d",
   "metadata": {},
   "outputs": [
    {
     "name": "stdout",
     "output_type": "stream",
     "text": [
      "we are learning Python and \"Data science\"\n"
     ]
    }
   ],
   "source": [
    "var = \"we are learning Python and \\\"Data science\\\"\"\n",
    "print(var)"
   ]
  },
  {
   "cell_type": "markdown",
   "id": "a99c9c74",
   "metadata": {},
   "source": [
    "# 2. \\n >> New Line"
   ]
  },
  {
   "cell_type": "code",
   "execution_count": 21,
   "id": "05cbe68f",
   "metadata": {},
   "outputs": [
    {
     "name": "stdout",
     "output_type": "stream",
     "text": [
      "we are learning Python and Data science\n"
     ]
    }
   ],
   "source": [
    "var = \"we are learning Python and Data science\"\n",
    "print(var)"
   ]
  },
  {
   "cell_type": "code",
   "execution_count": 23,
   "id": "c8d17c0b",
   "metadata": {},
   "outputs": [
    {
     "name": "stdout",
     "output_type": "stream",
     "text": [
      "we are learning \n",
      "Python and Data science\n"
     ]
    }
   ],
   "source": [
    "var = \"we are learning \\nPython and Data science\"\n",
    "print(var)"
   ]
  },
  {
   "cell_type": "code",
   "execution_count": 24,
   "id": "cc93cbe7",
   "metadata": {},
   "outputs": [
    {
     "name": "stdout",
     "output_type": "stream",
     "text": [
      "we are learning \n",
      "Python and \n",
      "Data science\n"
     ]
    }
   ],
   "source": [
    "var = \"we are learning \\nPython and \\nData science\"\n",
    "print(var)"
   ]
  },
  {
   "cell_type": "code",
   "execution_count": 25,
   "id": "f91774f3",
   "metadata": {},
   "outputs": [
    {
     "name": "stdout",
     "output_type": "stream",
     "text": [
      "we are \n",
      "learning \n",
      "Python and \n",
      "Data science\n"
     ]
    }
   ],
   "source": [
    "var = \"we are \\nlearning \\nPython and \\nData science\"\n",
    "print(var)"
   ]
  },
  {
   "cell_type": "code",
   "execution_count": 30,
   "id": "fb41e910",
   "metadata": {},
   "outputs": [
    {
     "name": "stdout",
     "output_type": "stream",
     "text": [
      "‪E:\u0003 Jun EVe\u0006_09_String\n"
     ]
    }
   ],
   "source": [
    "path = \"‪E:\\03 Jun EVe\\06_09_String\"\n",
    "print(path)"
   ]
  },
  {
   "cell_type": "code",
   "execution_count": 35,
   "id": "d213a3d1",
   "metadata": {},
   "outputs": [
    {
     "name": "stdout",
     "output_type": "stream",
     "text": [
      "E:\\Jun EVe\\String\n",
      "ew folder\n"
     ]
    }
   ],
   "source": [
    "path2 = \"E:\\Jun EVe\\String\\new folder\"\n",
    "print(path2)"
   ]
  },
  {
   "cell_type": "code",
   "execution_count": 28,
   "id": "1fdf9fa3",
   "metadata": {},
   "outputs": [
    {
     "name": "stdout",
     "output_type": "stream",
     "text": [
      "E:\\03 Jun EVe\\06_09_String\\new folder\n"
     ]
    }
   ],
   "source": [
    "path2 = \"E:\\\\03 Jun EVe\\\\06_09_String\\\\new folder\"\n",
    "print(path2)"
   ]
  },
  {
   "cell_type": "code",
   "execution_count": 29,
   "id": "6d821d4b",
   "metadata": {},
   "outputs": [
    {
     "name": "stdout",
     "output_type": "stream",
     "text": [
      "E:\\03 Jun EVe\\06_09_String\\new folder\n"
     ]
    }
   ],
   "source": [
    "path2 = r\"E:\\03 Jun EVe\\06_09_String\\new folder\"\n",
    "print(path2)"
   ]
  },
  {
   "cell_type": "markdown",
   "id": "b2a40765",
   "metadata": {},
   "source": [
    "# 3. \\t"
   ]
  },
  {
   "cell_type": "code",
   "execution_count": 39,
   "id": "63c91764",
   "metadata": {},
   "outputs": [
    {
     "name": "stdout",
     "output_type": "stream",
     "text": [
      "E:\\Jun EVe\\String\templates\n"
     ]
    }
   ],
   "source": [
    "path2 = \"E:\\Jun EVe\\String\\templates\"\n",
    "print(path2)"
   ]
  },
  {
   "cell_type": "code",
   "execution_count": 40,
   "id": "63d81224",
   "metadata": {},
   "outputs": [
    {
     "name": "stdout",
     "output_type": "stream",
     "text": [
      "E:\\Jun EVe\\String\\templates\n"
     ]
    }
   ],
   "source": [
    "path2 = r\"E:\\Jun EVe\\String\\templates\"\n",
    "print(path2)"
   ]
  },
  {
   "cell_type": "markdown",
   "id": "d1f2c32f",
   "metadata": {},
   "source": [
    "# Type casting"
   ]
  },
  {
   "cell_type": "markdown",
   "id": "9c7d912a",
   "metadata": {},
   "source": [
    "# Int to string"
   ]
  },
  {
   "cell_type": "code",
   "execution_count": 41,
   "id": "ebf59e84",
   "metadata": {},
   "outputs": [
    {
     "data": {
      "text/plain": [
       "int"
      ]
     },
     "execution_count": 41,
     "metadata": {},
     "output_type": "execute_result"
    }
   ],
   "source": [
    "a = 10\n",
    "type(a)"
   ]
  },
  {
   "cell_type": "code",
   "execution_count": 42,
   "id": "1f9d3348",
   "metadata": {},
   "outputs": [
    {
     "name": "stdout",
     "output_type": "stream",
     "text": [
      "10 <class 'str'>\n"
     ]
    }
   ],
   "source": [
    "a = str(a)\n",
    "print(a, type(a))"
   ]
  },
  {
   "cell_type": "markdown",
   "id": "01578d0f",
   "metadata": {},
   "source": [
    "# 2. Float to string"
   ]
  },
  {
   "cell_type": "code",
   "execution_count": 43,
   "id": "2599c387",
   "metadata": {},
   "outputs": [
    {
     "data": {
      "text/plain": [
       "float"
      ]
     },
     "execution_count": 43,
     "metadata": {},
     "output_type": "execute_result"
    }
   ],
   "source": [
    "a = 10.5\n",
    "type(a)"
   ]
  },
  {
   "cell_type": "code",
   "execution_count": 44,
   "id": "4dc425f6",
   "metadata": {},
   "outputs": [
    {
     "data": {
      "text/plain": [
       "str"
      ]
     },
     "execution_count": 44,
     "metadata": {},
     "output_type": "execute_result"
    }
   ],
   "source": [
    "a = str(a)\n",
    "type(a)"
   ]
  },
  {
   "cell_type": "code",
   "execution_count": 45,
   "id": "28b4ec7a",
   "metadata": {},
   "outputs": [
    {
     "data": {
      "text/plain": [
       "'10.5'"
      ]
     },
     "execution_count": 45,
     "metadata": {},
     "output_type": "execute_result"
    }
   ],
   "source": [
    "a"
   ]
  },
  {
   "cell_type": "markdown",
   "id": "112c310a",
   "metadata": {},
   "source": [
    "# string to int"
   ]
  },
  {
   "cell_type": "code",
   "execution_count": 46,
   "id": "3840fb78",
   "metadata": {},
   "outputs": [
    {
     "data": {
      "text/plain": [
       "str"
      ]
     },
     "execution_count": 46,
     "metadata": {},
     "output_type": "execute_result"
    }
   ],
   "source": [
    "a  = \"27\"\n",
    "type(a)"
   ]
  },
  {
   "cell_type": "code",
   "execution_count": 47,
   "id": "8adb6e1e",
   "metadata": {},
   "outputs": [
    {
     "name": "stdout",
     "output_type": "stream",
     "text": [
      "27 <class 'int'>\n"
     ]
    }
   ],
   "source": [
    "a = int(a)\n",
    "print(a,type(a))"
   ]
  },
  {
   "cell_type": "markdown",
   "id": "009610e2",
   "metadata": {},
   "source": [
    "# string to float"
   ]
  },
  {
   "cell_type": "code",
   "execution_count": 64,
   "id": "04aa5c84",
   "metadata": {},
   "outputs": [
    {
     "data": {
      "text/plain": [
       "'38.89'"
      ]
     },
     "execution_count": 64,
     "metadata": {},
     "output_type": "execute_result"
    }
   ],
   "source": [
    "a1 = \"38.89\"\n",
    "# type(a)\n",
    "a1"
   ]
  },
  {
   "cell_type": "code",
   "execution_count": 66,
   "id": "0d944514",
   "metadata": {},
   "outputs": [
    {
     "name": "stdout",
     "output_type": "stream",
     "text": [
      "bharat <class 'str'>\n"
     ]
    }
   ],
   "source": [
    "a1 = float(a1)\n",
    "\n",
    "print(a, type(a))"
   ]
  },
  {
   "cell_type": "code",
   "execution_count": 67,
   "id": "b1564267",
   "metadata": {},
   "outputs": [
    {
     "data": {
      "text/plain": [
       "38.89"
      ]
     },
     "execution_count": 67,
     "metadata": {},
     "output_type": "execute_result"
    }
   ],
   "source": [
    "a1"
   ]
  },
  {
   "cell_type": "code",
   "execution_count": 55,
   "id": "c8926dfd",
   "metadata": {},
   "outputs": [
    {
     "data": {
      "text/plain": [
       "float"
      ]
     },
     "execution_count": 55,
     "metadata": {},
     "output_type": "execute_result"
    }
   ],
   "source": [
    "type(a)"
   ]
  },
  {
   "cell_type": "code",
   "execution_count": 58,
   "id": "6edd3f63",
   "metadata": {},
   "outputs": [
    {
     "data": {
      "text/plain": [
       "'New_string'"
      ]
     },
     "execution_count": 58,
     "metadata": {},
     "output_type": "execute_result"
    }
   ],
   "source": [
    "var"
   ]
  },
  {
   "cell_type": "code",
   "execution_count": 60,
   "id": "5d74b5b6",
   "metadata": {},
   "outputs": [
    {
     "data": {
      "text/plain": [
       "'String'"
      ]
     },
     "execution_count": 60,
     "metadata": {},
     "output_type": "execute_result"
    }
   ],
   "source": [
    "var = \"String\"\n",
    "var"
   ]
  },
  {
   "cell_type": "code",
   "execution_count": 69,
   "id": "ddb23402",
   "metadata": {},
   "outputs": [
    {
     "data": {
      "text/plain": [
       "'New_string'"
      ]
     },
     "execution_count": 69,
     "metadata": {},
     "output_type": "execute_result"
    }
   ],
   "source": [
    "var = \"New_string\"\n",
    "var"
   ]
  },
  {
   "cell_type": "markdown",
   "id": "75fbc92d",
   "metadata": {},
   "source": [
    "# len()  function:"
   ]
  },
  {
   "cell_type": "code",
   "execution_count": null,
   "id": "70ca7e21",
   "metadata": {},
   "outputs": [],
   "source": [
    "len() >> check the length of string"
   ]
  },
  {
   "cell_type": "code",
   "execution_count": 70,
   "id": "dfb1bbff",
   "metadata": {},
   "outputs": [
    {
     "data": {
      "text/plain": [
       "10"
      ]
     },
     "execution_count": 70,
     "metadata": {},
     "output_type": "execute_result"
    }
   ],
   "source": [
    "len(var)"
   ]
  },
  {
   "cell_type": "code",
   "execution_count": 71,
   "id": "e9622400",
   "metadata": {},
   "outputs": [
    {
     "data": {
      "text/plain": [
       "201"
      ]
     },
     "execution_count": 71,
     "metadata": {},
     "output_type": "execute_result"
    }
   ],
   "source": [
    "DS = \"\"\"Data science is an interdisciplinary academic field that uses statistics, \n",
    "scientific computing, scientific methods, processes, algorithms and systems to \n",
    "extract or extrapolate knowledge and insights \"\"\"\n",
    "\n",
    "len(DS)"
   ]
  },
  {
   "cell_type": "code",
   "execution_count": null,
   "id": "00f67ef4",
   "metadata": {},
   "outputs": [],
   "source": []
  }
 ],
 "metadata": {
  "kernelspec": {
   "display_name": "Python 3 (ipykernel)",
   "language": "python",
   "name": "python3"
  },
  "language_info": {
   "codemirror_mode": {
    "name": "ipython",
    "version": 3
   },
   "file_extension": ".py",
   "mimetype": "text/x-python",
   "name": "python",
   "nbconvert_exporter": "python",
   "pygments_lexer": "ipython3",
   "version": "3.9.16"
  }
 },
 "nbformat": 4,
 "nbformat_minor": 5
}
