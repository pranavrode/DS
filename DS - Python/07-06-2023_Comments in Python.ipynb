{
 "cells": [
  {
   "cell_type": "code",
   "execution_count": null,
   "id": "7f25b7d6",
   "metadata": {},
   "outputs": [],
   "source": [
    "1. Comments using single #\n",
    "2. Single line comment /Multiline comment  : control + /\n",
    "3. triple single quotes\n",
    "4. Triple Double quotes"
   ]
  },
  {
   "cell_type": "code",
   "execution_count": null,
   "id": "c9308552",
   "metadata": {},
   "outputs": [],
   "source": []
  },
  {
   "cell_type": "code",
   "execution_count": null,
   "id": "0d3d6832",
   "metadata": {},
   "outputs": [],
   "source": []
  },
  {
   "cell_type": "code",
   "execution_count": 5,
   "id": "dfbcbb58",
   "metadata": {},
   "outputs": [
    {
     "name": "stdout",
     "output_type": "stream",
     "text": [
      "30\n"
     ]
    }
   ],
   "source": [
    "x = 10   # x is interger  \n",
    "y = 20\n",
    "add = x+y\n",
    "print(add)"
   ]
  },
  {
   "cell_type": "code",
   "execution_count": 6,
   "id": "ff616283",
   "metadata": {},
   "outputs": [
    {
     "name": "stdout",
     "output_type": "stream",
     "text": [
      "String is : Data Science\n",
      "String is : Data Science\n",
      "String is : Data Science\n",
      "String is : Data Science\n"
     ]
    }
   ],
   "source": [
    "str1 = \"Data Science\"\n",
    "\n",
    "print(\"String is :\",str1)\n",
    "#print(f\"String is : {str1}\")\n",
    "# print(\"String is : {}\".format(str1))\n",
    "# print(\"String is : %s\"%(str1))"
   ]
  },
  {
   "cell_type": "code",
   "execution_count": 8,
   "id": "3fec2898",
   "metadata": {},
   "outputs": [
    {
     "name": "stdout",
     "output_type": "stream",
     "text": [
      "30\n"
     ]
    }
   ],
   "source": [
    "x = 10   # x is interger  \n",
    "y = 20\n",
    "add = x+y\n",
    "'''I want Additon of x and y to get printed'''\n",
    "print(add)"
   ]
  },
  {
   "cell_type": "code",
   "execution_count": 9,
   "id": "6d88e1f7",
   "metadata": {},
   "outputs": [],
   "source": [
    "def Addition(): # Addition function\n",
    "    a=10\n",
    "    b=20\n",
    "    \"\"\"This is addition function\"\"\"\n",
    "    print(\"Additon of a and b is\",a+b)"
   ]
  },
  {
   "cell_type": "code",
   "execution_count": 10,
   "id": "611be1f2",
   "metadata": {},
   "outputs": [
    {
     "name": "stdout",
     "output_type": "stream",
     "text": [
      "Additon of a and b is 30\n"
     ]
    }
   ],
   "source": [
    "Addition()"
   ]
  },
  {
   "cell_type": "code",
   "execution_count": 14,
   "id": "227ca41f",
   "metadata": {},
   "outputs": [],
   "source": [
    "str1 = \"\"\"Data science is an interdisciplinary academic field that uses statistics, \n",
    "scientific computing, scientific methods, processes, algorithms and systems to extract or \n",
    "extrapolate knowledge and insights\"\"\""
   ]
  },
  {
   "cell_type": "code",
   "execution_count": 15,
   "id": "43afa62f",
   "metadata": {},
   "outputs": [
    {
     "name": "stdout",
     "output_type": "stream",
     "text": [
      "Data science is an interdisciplinary academic field that uses statistics, \n",
      "scientific computing, scientific methods, processes, algorithms and systems to extract or \n",
      "extrapolate knowledge and insights\n"
     ]
    }
   ],
   "source": [
    "print(str1)"
   ]
  },
  {
   "cell_type": "code",
   "execution_count": null,
   "id": "7894ec86",
   "metadata": {},
   "outputs": [],
   "source": [
    "1. open Anaconda prompt\n",
    "2. cd \"path of folder that contain required file\"\n",
    "3. press enter\n",
    "4. write drive name (e.g. E:) and press enter\n",
    "5.Type jupyter notbook and press enter"
   ]
  }
 ],
 "metadata": {
  "kernelspec": {
   "display_name": "Python 3",
   "language": "python",
   "name": "python3"
  },
  "language_info": {
   "codemirror_mode": {
    "name": "ipython",
    "version": 3
   },
   "file_extension": ".py",
   "mimetype": "text/x-python",
   "name": "python",
   "nbconvert_exporter": "python",
   "pygments_lexer": "ipython3",
   "version": "3.8.8"
  }
 },
 "nbformat": 4,
 "nbformat_minor": 5
}
