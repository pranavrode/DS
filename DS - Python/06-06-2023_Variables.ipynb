{
 "cells": [
  {
   "cell_type": "markdown",
   "id": "ready-yield",
   "metadata": {},
   "source": [
    "# Variables"
   ]
  },
  {
   "cell_type": "code",
   "execution_count": null,
   "id": "accredited-aside",
   "metadata": {},
   "outputs": [],
   "source": [
    "Variables are used to store the values\n",
    "\n",
    "Python is dynamically Types Language:\n",
    "    No need to assigne datatype of Variable\n",
    "    \n",
    "A Python Variables is only a name given to a memory location,\n",
    "all the operations done on the variable effects that memory location."
   ]
  },
  {
   "cell_type": "markdown",
   "id": "stone-dubai",
   "metadata": {},
   "source": [
    "## Rule to define an Identifiers"
   ]
  },
  {
   "cell_type": "code",
   "execution_count": null,
   "id": "everyday-magazine",
   "metadata": {},
   "outputs": [],
   "source": [
    "Identifiers >> Variables, FunctionNames, Class Names\n",
    "\n",
    "1. A variable name must start with a letter(a-z, A-Z) or the underscore(_) character.\n",
    "    \n",
    "2. Variable names are case-sensitive (name, Name and NAME are three different variables).\n",
    "\n",
    "3. A variable name can only contain alpha-numeric characters and \n",
    "    underscores (A-z, 0-9, and _ ).\n",
    "    \n",
    "4. The reserved words(keywords) cannot be used as a variable.\n",
    "    \n",
    "4. We can not use special characters(&,^,$,@) or space\n",
    "                                     \n",
    "5. We can not use python reserved words\n",
    "\n",
    "6. Do not use Python Built in Functions >> print, help, sum, min, max\n",
    "\n",
    "Light Green Colour >> Python Built in Function  >> print, help, sum, min, max\n",
    "Bold Green Colour  >> Python Reserved Keywords >> False, True, import, if, elif, try, except, \n",
    "                                            for, def, pass , class, del\n",
    "\n",
    "\n",
    "del >>  Used to delete variables\n",
    "type() >> Type Function is used to check DataType of any Variable\n",
    "\n",
    "Everything in Python is an object\n",
    "\n",
    "\n",
    "my_name  >> Variable\n",
    "function_name >> Function\n",
    "ClassName >> Class Names\n",
    "\n",
    "\n",
    "help('keywords')"
   ]
  },
  {
   "cell_type": "code",
   "execution_count": 5,
   "id": "forty-commission",
   "metadata": {},
   "outputs": [],
   "source": [
    "# dir(__builtins__ )"
   ]
  },
  {
   "cell_type": "code",
   "execution_count": null,
   "id": "north-festival",
   "metadata": {},
   "outputs": [],
   "source": [
    "var1 = 10\n",
    "def functionname():\n",
    "    pass\n",
    "\n",
    "class ClassNames():\n",
    "    pass"
   ]
  },
  {
   "cell_type": "code",
   "execution_count": null,
   "id": "lyric-canon",
   "metadata": {},
   "outputs": [],
   "source": [
    "a = 20\n",
    "b = 30\n",
    "a = 3.14\n",
    "a = 'python'"
   ]
  },
  {
   "cell_type": "code",
   "execution_count": 3,
   "id": "industrial-generation",
   "metadata": {},
   "outputs": [
    {
     "name": "stdout",
     "output_type": "stream",
     "text": [
      "10\n",
      "15\n",
      "15\n"
     ]
    }
   ],
   "source": [
    "a = 10\n",
    "print(a)\n",
    "\n",
    "a = 15\n",
    "print(a)\n",
    "print(a)"
   ]
  },
  {
   "cell_type": "code",
   "execution_count": 5,
   "id": "textile-freeze",
   "metadata": {},
   "outputs": [
    {
     "name": "stdout",
     "output_type": "stream",
     "text": [
      "10\n",
      "python\n",
      "python\n"
     ]
    }
   ],
   "source": [
    "a = 10\n",
    "print(a)\n",
    "\n",
    "a = 'python'\n",
    "print(a) # python\n",
    "print(a) # python"
   ]
  },
  {
   "cell_type": "code",
   "execution_count": 7,
   "id": "weighted-tablet",
   "metadata": {},
   "outputs": [
    {
     "name": "stdout",
     "output_type": "stream",
     "text": [
      "10\n",
      "14\n"
     ]
    }
   ],
   "source": [
    "a = 10\n",
    "print(a) # 10\n",
    "a = a + 4   # a = 10 + 4\n",
    "print(a)"
   ]
  },
  {
   "cell_type": "code",
   "execution_count": 10,
   "id": "auburn-yellow",
   "metadata": {},
   "outputs": [
    {
     "name": "stdout",
     "output_type": "stream",
     "text": [
      "10\n"
     ]
    },
    {
     "data": {
      "text/plain": [
       "14"
      ]
     },
     "execution_count": 10,
     "metadata": {},
     "output_type": "execute_result"
    }
   ],
   "source": [
    "a = 10\n",
    "print(a) \n",
    "a = a + 4   # a = 10 + 4\n",
    "a"
   ]
  },
  {
   "cell_type": "code",
   "execution_count": 12,
   "id": "automotive-dispatch",
   "metadata": {},
   "outputs": [
    {
     "name": "stdout",
     "output_type": "stream",
     "text": [
      "10\n"
     ]
    },
    {
     "data": {
      "text/plain": [
       "14"
      ]
     },
     "execution_count": 12,
     "metadata": {},
     "output_type": "execute_result"
    }
   ],
   "source": [
    "a = 10\n",
    "print(a)\n",
    "a = a + 4   # a = 10 + 4\n",
    "a"
   ]
  },
  {
   "cell_type": "code",
   "execution_count": 17,
   "id": "macro-vertical",
   "metadata": {},
   "outputs": [
    {
     "name": "stdout",
     "output_type": "stream",
     "text": [
      "python\n"
     ]
    },
    {
     "data": {
      "text/plain": [
       "'Data Science'"
      ]
     },
     "execution_count": 17,
     "metadata": {},
     "output_type": "execute_result"
    }
   ],
   "source": [
    "a = \"python\"\n",
    "b = 'Data Science'\n",
    "print(a)\n",
    "b"
   ]
  },
  {
   "cell_type": "code",
   "execution_count": 20,
   "id": "latest-premises",
   "metadata": {},
   "outputs": [
    {
     "data": {
      "text/plain": [
       "[3, 4, 5, 6, 7]"
      ]
     },
     "execution_count": 20,
     "metadata": {},
     "output_type": "execute_result"
    }
   ],
   "source": [
    "list1 = [3,4,5,6,7]\n",
    "a = 10\n",
    "list1"
   ]
  },
  {
   "cell_type": "code",
   "execution_count": 24,
   "id": "outstanding-happiness",
   "metadata": {},
   "outputs": [
    {
     "name": "stdout",
     "output_type": "stream",
     "text": [
      "Python and Data Science\n"
     ]
    }
   ],
   "source": [
    "string  = \"Python and Data Science\"\n",
    "print(string)"
   ]
  },
  {
   "cell_type": "code",
   "execution_count": 26,
   "id": "respiratory-swedish",
   "metadata": {},
   "outputs": [
    {
     "name": "stdout",
     "output_type": "stream",
     "text": [
      "Python and Data Science\n"
     ]
    }
   ],
   "source": [
    "string_1  = \"Python and Data Science\"\n",
    "print(string_1)"
   ]
  },
  {
   "cell_type": "code",
   "execution_count": 29,
   "id": "center-caribbean",
   "metadata": {},
   "outputs": [
    {
     "ename": "SyntaxError",
     "evalue": "invalid syntax (<ipython-input-29-1b70ca7d1dcc>, line 1)",
     "output_type": "error",
     "traceback": [
      "\u001b[1;36m  File \u001b[1;32m\"<ipython-input-29-1b70ca7d1dcc>\"\u001b[1;36m, line \u001b[1;32m1\u001b[0m\n\u001b[1;33m    1string  = \"Python and Data Science\"\u001b[0m\n\u001b[1;37m     ^\u001b[0m\n\u001b[1;31mSyntaxError\u001b[0m\u001b[1;31m:\u001b[0m invalid syntax\n"
     ]
    }
   ],
   "source": [
    "1string  = \"Python and Data Science\"\n",
    "print(string1)"
   ]
  },
  {
   "cell_type": "code",
   "execution_count": 23,
   "id": "passive-oklahoma",
   "metadata": {},
   "outputs": [
    {
     "name": "stdout",
     "output_type": "stream",
     "text": [
      "Python and Data Science\n"
     ]
    }
   ],
   "source": [
    "a = \"Python and Data Science\"\n",
    "print(a)"
   ]
  },
  {
   "cell_type": "code",
   "execution_count": null,
   "id": "considerable-elizabeth",
   "metadata": {},
   "outputs": [],
   "source": [
    "String\n",
    "_String\n",
    "_variable"
   ]
  },
  {
   "cell_type": "code",
   "execution_count": 33,
   "id": "elder-concord",
   "metadata": {},
   "outputs": [],
   "source": [
    "_variable = 10\n",
    "__variable = 10\n",
    "Variable = 100\n",
    "variable = 100"
   ]
  },
  {
   "cell_type": "code",
   "execution_count": 35,
   "id": "orange-cancellation",
   "metadata": {},
   "outputs": [
    {
     "name": "stdout",
     "output_type": "stream",
     "text": [
      "var : 100\n",
      "Var : 200\n"
     ]
    }
   ],
   "source": [
    "var = 100\n",
    "Var = 200\n",
    "print(\"var :\",var) # 100\n",
    "print(\"Var :\",Var) # 200"
   ]
  },
  {
   "cell_type": "code",
   "execution_count": 36,
   "id": "primary-blade",
   "metadata": {},
   "outputs": [
    {
     "name": "stdout",
     "output_type": "stream",
     "text": [
      "var : 200\n",
      "var : 200\n"
     ]
    }
   ],
   "source": [
    "var = 100\n",
    "var = 200\n",
    "print(\"var :\",var) # 200\n",
    "print(\"var :\",var) # 200"
   ]
  },
  {
   "cell_type": "code",
   "execution_count": 43,
   "id": "overall-appraisal",
   "metadata": {},
   "outputs": [],
   "source": [
    "my_variable = 10\n",
    "my_variable123 = 10\n",
    "my_variable_123 = 10\n",
    "a123_myvariable = 100 # Valid"
   ]
  },
  {
   "cell_type": "code",
   "execution_count": 46,
   "id": "regulation-wonder",
   "metadata": {},
   "outputs": [
    {
     "ename": "SyntaxError",
     "evalue": "invalid syntax (<ipython-input-46-9b6cd17b491c>, line 4)",
     "output_type": "error",
     "traceback": [
      "\u001b[1;36m  File \u001b[1;32m\"<ipython-input-46-9b6cd17b491c>\"\u001b[1;36m, line \u001b[1;32m4\u001b[0m\n\u001b[1;33m    my variable = 100 # Invalid\u001b[0m\n\u001b[1;37m       ^\u001b[0m\n\u001b[1;31mSyntaxError\u001b[0m\u001b[1;31m:\u001b[0m invalid syntax\n"
     ]
    }
   ],
   "source": [
    "my_variable = 10\n",
    "my_variable123 = 10\n",
    "my_variable_123 = 10\n",
    "my variable = 100 # Invalid"
   ]
  },
  {
   "cell_type": "code",
   "execution_count": 51,
   "id": "integral-business",
   "metadata": {},
   "outputs": [
    {
     "ename": "SyntaxError",
     "evalue": "invalid syntax (<ipython-input-51-9a41b9b2e2e0>, line 4)",
     "output_type": "error",
     "traceback": [
      "\u001b[1;36m  File \u001b[1;32m\"<ipython-input-51-9a41b9b2e2e0>\"\u001b[1;36m, line \u001b[1;32m4\u001b[0m\n\u001b[1;33m    import = 200\u001b[0m\n\u001b[1;37m           ^\u001b[0m\n\u001b[1;31mSyntaxError\u001b[0m\u001b[1;31m:\u001b[0m invalid syntax\n"
     ]
    }
   ],
   "source": [
    "name = 'Rohit'\n",
    "Name = \"Rohit\"\n",
    "# and = 100\n",
    "import = 200\n",
    "True\n",
    "False\n",
    "global\n",
    "for\n",
    "while\n",
    "return \n",
    "yield"
   ]
  },
  {
   "cell_type": "code",
   "execution_count": 52,
   "id": "collected-flood",
   "metadata": {},
   "outputs": [
    {
     "name": "stdout",
     "output_type": "stream",
     "text": [
      "\n",
      "Here is a list of the Python keywords.  Enter any keyword to get more help.\n",
      "\n",
      "False               class               from                or\n",
      "None                continue            global              pass\n",
      "True                def                 if                  raise\n",
      "and                 del                 import              return\n",
      "as                  elif                in                  try\n",
      "assert              else                is                  while\n",
      "async               except              lambda              with\n",
      "await               finally             nonlocal            yield\n",
      "break               for                 not                 \n",
      "\n"
     ]
    }
   ],
   "source": [
    "help('keywords')"
   ]
  },
  {
   "cell_type": "code",
   "execution_count": 54,
   "id": "automatic-garbage",
   "metadata": {},
   "outputs": [
    {
     "data": {
      "text/plain": [
       "100"
      ]
     },
     "execution_count": 54,
     "metadata": {},
     "output_type": "execute_result"
    }
   ],
   "source": [
    "name = \"Python\"\n",
    "\n",
    "max = 100\n",
    "max"
   ]
  },
  {
   "cell_type": "code",
   "execution_count": 56,
   "id": "cross-catholic",
   "metadata": {},
   "outputs": [
    {
     "ename": "TypeError",
     "evalue": "'int' object is not callable",
     "output_type": "error",
     "traceback": [
      "\u001b[1;31m---------------------------------------------------------------------------\u001b[0m",
      "\u001b[1;31mTypeError\u001b[0m                                 Traceback (most recent call last)",
      "\u001b[1;32m<ipython-input-56-d1829bf34094>\u001b[0m in \u001b[0;36m<module>\u001b[1;34m\u001b[0m\n\u001b[1;32m----> 1\u001b[1;33m \u001b[0mmax\u001b[0m\u001b[1;33m(\u001b[0m\u001b[1;33m[\u001b[0m\u001b[1;36m10\u001b[0m\u001b[1;33m,\u001b[0m\u001b[1;36m20\u001b[0m\u001b[1;33m,\u001b[0m\u001b[1;36m30\u001b[0m\u001b[1;33m,\u001b[0m\u001b[1;36m14\u001b[0m\u001b[1;33m,\u001b[0m\u001b[1;36m15\u001b[0m\u001b[1;33m]\u001b[0m\u001b[1;33m)\u001b[0m\u001b[1;33m\u001b[0m\u001b[1;33m\u001b[0m\u001b[0m\n\u001b[0m",
      "\u001b[1;31mTypeError\u001b[0m: 'int' object is not callable"
     ]
    }
   ],
   "source": [
    "max([10,20,30,14,15])"
   ]
  },
  {
   "cell_type": "code",
   "execution_count": 57,
   "id": "fifth-helicopter",
   "metadata": {},
   "outputs": [
    {
     "data": {
      "text/plain": [
       "<function min>"
      ]
     },
     "execution_count": 57,
     "metadata": {},
     "output_type": "execute_result"
    }
   ],
   "source": [
    "min"
   ]
  },
  {
   "cell_type": "code",
   "execution_count": 58,
   "id": "emotional-monster",
   "metadata": {},
   "outputs": [
    {
     "data": {
      "text/plain": [
       "10"
      ]
     },
     "execution_count": 58,
     "metadata": {},
     "output_type": "execute_result"
    }
   ],
   "source": [
    "min([10,20,30,14,15])"
   ]
  },
  {
   "cell_type": "code",
   "execution_count": 60,
   "id": "enhanced-circumstances",
   "metadata": {},
   "outputs": [
    {
     "ename": "TypeError",
     "evalue": "'int' object is not callable",
     "output_type": "error",
     "traceback": [
      "\u001b[1;31m---------------------------------------------------------------------------\u001b[0m",
      "\u001b[1;31mTypeError\u001b[0m                                 Traceback (most recent call last)",
      "\u001b[1;32m<ipython-input-60-06bde753b95d>\u001b[0m in \u001b[0;36m<module>\u001b[1;34m\u001b[0m\n\u001b[0;32m      1\u001b[0m \u001b[0mmin\u001b[0m \u001b[1;33m=\u001b[0m \u001b[1;36m50\u001b[0m\u001b[1;33m\u001b[0m\u001b[1;33m\u001b[0m\u001b[0m\n\u001b[1;32m----> 2\u001b[1;33m \u001b[0mmin\u001b[0m\u001b[1;33m(\u001b[0m\u001b[1;33m[\u001b[0m\u001b[1;36m10\u001b[0m\u001b[1;33m,\u001b[0m\u001b[1;36m20\u001b[0m\u001b[1;33m,\u001b[0m\u001b[1;36m30\u001b[0m\u001b[1;33m,\u001b[0m\u001b[1;36m14\u001b[0m\u001b[1;33m,\u001b[0m\u001b[1;36m15\u001b[0m\u001b[1;33m]\u001b[0m\u001b[1;33m)\u001b[0m\u001b[1;33m\u001b[0m\u001b[1;33m\u001b[0m\u001b[0m\n\u001b[0m",
      "\u001b[1;31mTypeError\u001b[0m: 'int' object is not callable"
     ]
    }
   ],
   "source": [
    "min = 50\n",
    "min([10,20,30,14,15])"
   ]
  },
  {
   "cell_type": "code",
   "execution_count": 62,
   "id": "fallen-proposal",
   "metadata": {},
   "outputs": [
    {
     "name": "stdout",
     "output_type": "stream",
     "text": [
      "python\n"
     ]
    }
   ],
   "source": [
    "str1 = \"python\"\n",
    "print(str1)"
   ]
  },
  {
   "cell_type": "code",
   "execution_count": 64,
   "id": "tracked-oregon",
   "metadata": {},
   "outputs": [
    {
     "ename": "TypeError",
     "evalue": "'str' object is not callable",
     "output_type": "error",
     "traceback": [
      "\u001b[1;31m---------------------------------------------------------------------------\u001b[0m",
      "\u001b[1;31mTypeError\u001b[0m                                 Traceback (most recent call last)",
      "\u001b[1;32m<ipython-input-64-df93490611a1>\u001b[0m in \u001b[0;36m<module>\u001b[1;34m\u001b[0m\n\u001b[0;32m      1\u001b[0m \u001b[0mstr1\u001b[0m \u001b[1;33m=\u001b[0m \u001b[1;34m\"python\"\u001b[0m\u001b[1;33m\u001b[0m\u001b[1;33m\u001b[0m\u001b[0m\n\u001b[0;32m      2\u001b[0m \u001b[0mprint\u001b[0m \u001b[1;33m=\u001b[0m \u001b[1;34m'Data Science'\u001b[0m \u001b[1;31m# Creating a print Variable\u001b[0m\u001b[1;33m\u001b[0m\u001b[1;33m\u001b[0m\u001b[0m\n\u001b[1;32m----> 3\u001b[1;33m \u001b[0mprint\u001b[0m\u001b[1;33m(\u001b[0m\u001b[0mstr1\u001b[0m\u001b[1;33m)\u001b[0m\u001b[1;33m\u001b[0m\u001b[1;33m\u001b[0m\u001b[0m\n\u001b[0m",
      "\u001b[1;31mTypeError\u001b[0m: 'str' object is not callable"
     ]
    }
   ],
   "source": [
    "str1 = \"python\"\n",
    "print = 'Data Science' # Creating a print Variable\n",
    "print(str1)"
   ]
  },
  {
   "cell_type": "code",
   "execution_count": 66,
   "id": "collectible-texture",
   "metadata": {},
   "outputs": [],
   "source": [
    "del print"
   ]
  },
  {
   "cell_type": "code",
   "execution_count": 67,
   "id": "corresponding-shield",
   "metadata": {},
   "outputs": [
    {
     "name": "stdout",
     "output_type": "stream",
     "text": [
      "Hello\n"
     ]
    }
   ],
   "source": [
    "print(\"Hello\")"
   ]
  },
  {
   "cell_type": "code",
   "execution_count": 73,
   "id": "diverse-spray",
   "metadata": {},
   "outputs": [
    {
     "data": {
      "text/plain": [
       "str"
      ]
     },
     "execution_count": 73,
     "metadata": {},
     "output_type": "execute_result"
    }
   ],
   "source": [
    "x = 10 # int\n",
    "y = 3.45 # float\n",
    "s1 = 'Python'\n",
    "type(x)\n",
    "type(y)\n",
    "type(s1)"
   ]
  },
  {
   "cell_type": "code",
   "execution_count": 74,
   "id": "listed-cartridge",
   "metadata": {},
   "outputs": [
    {
     "data": {
      "text/plain": [
       "int"
      ]
     },
     "execution_count": 74,
     "metadata": {},
     "output_type": "execute_result"
    }
   ],
   "source": [
    "x = 10 # int\n",
    "y = 3.45 # float\n",
    "s1 = 'Python'\n",
    "type(x)"
   ]
  },
  {
   "cell_type": "code",
   "execution_count": 75,
   "id": "revolutionary-avatar",
   "metadata": {},
   "outputs": [
    {
     "name": "stdout",
     "output_type": "stream",
     "text": [
      "<class 'int'>\n"
     ]
    }
   ],
   "source": [
    "x = 10 # int\n",
    "y = 3.45 # float\n",
    "s1 = 'Python'\n",
    "print(type(x))"
   ]
  },
  {
   "cell_type": "code",
   "execution_count": 76,
   "id": "interesting-tenant",
   "metadata": {},
   "outputs": [
    {
     "name": "stdout",
     "output_type": "stream",
     "text": [
      "<class 'list'>\n"
     ]
    }
   ],
   "source": [
    "x = 10 # int\n",
    "y = 3.45 # float\n",
    "list1 = [3,4,5,6,7]\n",
    "\n",
    "print(type(list1))"
   ]
  },
  {
   "cell_type": "code",
   "execution_count": null,
   "id": "leading-eating",
   "metadata": {},
   "outputs": [],
   "source": [
    "name # Valid\n",
    "Name # Valid\n",
    "Name1 # Valid\n",
    "name123 # Valid\n",
    "My_name # Valid\n",
    "My-Name # InValid\n",
    "myname # Valid\n",
    "my_name # Valid\n",
    "my__name # Valid\n",
    "_my_name # Valid\n",
    "_name # Valid\n",
    "__Name # Valid\n",
    "__name # Valid\n",
    "Name 123 # Invalid\n",
    "Name-123 # Invalid\n",
    "import # Invalid\n",
    "Name123 # Valid\n",
    "My_Name_123 # Valid\n",
    "my_name_123 # Valid\n",
    "my_n@me# INvalid\n",
    "my name #Invalid\n",
    "and #Invalid\n",
    "return #Invalid\n",
    "print\n",
    "max\n",
    "min \n",
    "dir()\n",
    "\n",
    "\n",
    "my_name  >> Variable\n",
    "function_name >> Function\n",
    "ClassName >> Class Names"
   ]
  },
  {
   "cell_type": "code",
   "execution_count": null,
   "id": "soviet-hollywood",
   "metadata": {},
   "outputs": [],
   "source": []
  }
 ],
 "metadata": {
  "kernelspec": {
   "display_name": "Python 3",
   "language": "python",
   "name": "python3"
  },
  "language_info": {
   "codemirror_mode": {
    "name": "ipython",
    "version": 3
   },
   "file_extension": ".py",
   "mimetype": "text/x-python",
   "name": "python",
   "nbconvert_exporter": "python",
   "pygments_lexer": "ipython3",
   "version": "3.8.7"
  }
 },
 "nbformat": 4,
 "nbformat_minor": 5
}
