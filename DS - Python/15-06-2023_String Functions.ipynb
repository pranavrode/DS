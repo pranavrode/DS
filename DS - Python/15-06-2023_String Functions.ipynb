{
 "cells": [
  {
   "cell_type": "code",
   "execution_count": 1,
   "id": "74a3a09e",
   "metadata": {},
   "outputs": [
    {
     "name": "stdout",
     "output_type": "stream",
     "text": [
      "30\n"
     ]
    }
   ],
   "source": [
    "x = 10\n",
    "y = 20\n",
    "\n",
    "print(x+y)"
   ]
  },
  {
   "cell_type": "code",
   "execution_count": 2,
   "id": "9d27bf61",
   "metadata": {},
   "outputs": [
    {
     "name": "stdout",
     "output_type": "stream",
     "text": [
      "1020\n"
     ]
    }
   ],
   "source": [
    "x = '10'  #str\n",
    "y = '20' #str\n",
    "\n",
    "print(x+y)"
   ]
  },
  {
   "cell_type": "markdown",
   "id": "fa6d2feb",
   "metadata": {},
   "source": [
    "# String Functions"
   ]
  },
  {
   "cell_type": "markdown",
   "id": "82dedc21",
   "metadata": {},
   "source": [
    "# 1. Capitalize()"
   ]
  },
  {
   "cell_type": "code",
   "execution_count": null,
   "id": "9f10b6bd",
   "metadata": {},
   "outputs": [],
   "source": [
    "It will capitalize only first char of given string and all remaining chaacters will in lower case\n",
    "\n",
    "First char >> Zero index charcater"
   ]
  },
  {
   "cell_type": "code",
   "execution_count": 3,
   "id": "ed467ac2",
   "metadata": {},
   "outputs": [
    {
     "data": {
      "text/plain": [
       "'Machine'"
      ]
     },
     "execution_count": 3,
     "metadata": {},
     "output_type": "execute_result"
    }
   ],
   "source": [
    "string = \"machine\"\n",
    "string.capitalize()"
   ]
  },
  {
   "cell_type": "code",
   "execution_count": 4,
   "id": "8f6b2725",
   "metadata": {},
   "outputs": [
    {
     "data": {
      "text/plain": [
       "'Machine learning'"
      ]
     },
     "execution_count": 4,
     "metadata": {},
     "output_type": "execute_result"
    }
   ],
   "source": [
    "string = \"MACHINE LEARNING\"\n",
    "string.capitalize()"
   ]
  },
  {
   "cell_type": "code",
   "execution_count": 5,
   "id": "cdfafcec",
   "metadata": {},
   "outputs": [
    {
     "data": {
      "text/plain": [
       "'Mchaine learning'"
      ]
     },
     "execution_count": 5,
     "metadata": {},
     "output_type": "execute_result"
    }
   ],
   "source": [
    "string = \"Mchaine Learning\"\n",
    "string.capitalize()"
   ]
  },
  {
   "cell_type": "code",
   "execution_count": 6,
   "id": "b07d0ef4",
   "metadata": {},
   "outputs": [
    {
     "data": {
      "text/plain": [
       "' machine'"
      ]
     },
     "execution_count": 6,
     "metadata": {},
     "output_type": "execute_result"
    }
   ],
   "source": [
    "string = \" machine\"\n",
    "string.capitalize()"
   ]
  },
  {
   "cell_type": "code",
   "execution_count": 7,
   "id": "1c9f5026",
   "metadata": {},
   "outputs": [
    {
     "data": {
      "text/plain": [
       "'Machi@ne'"
      ]
     },
     "execution_count": 7,
     "metadata": {},
     "output_type": "execute_result"
    }
   ],
   "source": [
    "string = \"Machi@ne\"\n",
    "string.capitalize()"
   ]
  },
  {
   "cell_type": "markdown",
   "id": "0c516f1e",
   "metadata": {},
   "source": [
    "# 2. Upper()"
   ]
  },
  {
   "cell_type": "code",
   "execution_count": null,
   "id": "cdfd2ef1",
   "metadata": {},
   "outputs": [],
   "source": [
    "It will convert all char into upper case"
   ]
  },
  {
   "cell_type": "code",
   "execution_count": 8,
   "id": "2dde59c4",
   "metadata": {},
   "outputs": [
    {
     "data": {
      "text/plain": [
       "'MACHINE'"
      ]
     },
     "execution_count": 8,
     "metadata": {},
     "output_type": "execute_result"
    }
   ],
   "source": [
    "string = \"machine\"\n",
    "string.upper()"
   ]
  },
  {
   "cell_type": "code",
   "execution_count": 9,
   "id": "b6be4d25",
   "metadata": {},
   "outputs": [
    {
     "data": {
      "text/plain": [
       "'MCHAINE LEARNING'"
      ]
     },
     "execution_count": 9,
     "metadata": {},
     "output_type": "execute_result"
    }
   ],
   "source": [
    "string = \"Mchaine Learning\"\n",
    "string.upper()"
   ]
  },
  {
   "cell_type": "code",
   "execution_count": 11,
   "id": "4ae2ed5f",
   "metadata": {},
   "outputs": [
    {
     "data": {
      "text/plain": [
       "'MCHAINE LEARNING'"
      ]
     },
     "execution_count": 11,
     "metadata": {},
     "output_type": "execute_result"
    }
   ],
   "source": [
    "string = \"Mchaine Learning\"\n",
    "string = string.upper()\n",
    "string"
   ]
  },
  {
   "cell_type": "markdown",
   "id": "2d892a4a",
   "metadata": {},
   "source": [
    "# 3. lower()"
   ]
  },
  {
   "cell_type": "code",
   "execution_count": null,
   "id": "7f18b05a",
   "metadata": {},
   "outputs": [],
   "source": [
    "It will convert all char into lower case"
   ]
  },
  {
   "cell_type": "code",
   "execution_count": 12,
   "id": "8c22937f",
   "metadata": {},
   "outputs": [
    {
     "data": {
      "text/plain": [
       "'mchaine learning'"
      ]
     },
     "execution_count": 12,
     "metadata": {},
     "output_type": "execute_result"
    }
   ],
   "source": [
    "string = \"Mchaine Learning\"\n",
    "string.lower()\n"
   ]
  },
  {
   "cell_type": "code",
   "execution_count": 13,
   "id": "34d7e9e7",
   "metadata": {},
   "outputs": [
    {
     "data": {
      "text/plain": [
       "'machine learning'"
      ]
     },
     "execution_count": 13,
     "metadata": {},
     "output_type": "execute_result"
    }
   ],
   "source": [
    "string = \"MACHINE LEARNING\"\n",
    "string.lower()"
   ]
  },
  {
   "cell_type": "markdown",
   "id": "9432c399",
   "metadata": {},
   "source": [
    "# 4.title"
   ]
  },
  {
   "cell_type": "code",
   "execution_count": null,
   "id": "ae272f56",
   "metadata": {},
   "outputs": [],
   "source": [
    "It will convert string into title case "
   ]
  },
  {
   "cell_type": "code",
   "execution_count": 14,
   "id": "dc621d36",
   "metadata": {},
   "outputs": [
    {
     "data": {
      "text/plain": [
       "'Machine Learning'"
      ]
     },
     "execution_count": 14,
     "metadata": {},
     "output_type": "execute_result"
    }
   ],
   "source": [
    "string = \"MACHINE LEARNING\"\n",
    "string.title()"
   ]
  },
  {
   "cell_type": "code",
   "execution_count": 15,
   "id": "17024a8d",
   "metadata": {},
   "outputs": [
    {
     "data": {
      "text/plain": [
       "'Python And Data Science Class'"
      ]
     },
     "execution_count": 15,
     "metadata": {},
     "output_type": "execute_result"
    }
   ],
   "source": [
    "string = \"python and data science class\"\n",
    "string.title()"
   ]
  },
  {
   "cell_type": "code",
   "execution_count": null,
   "id": "f8f7c60a",
   "metadata": {},
   "outputs": [],
   "source": [
    "pan_card = \"mahesh gore\"\n",
    "adhar_card = \"MAHESH GORE\"\n"
   ]
  },
  {
   "cell_type": "code",
   "execution_count": null,
   "id": "1b73150a",
   "metadata": {},
   "outputs": [],
   "source": [
    "pan_card = \"Mahesh Gore\"\n",
    "adhar_card = \"MAHESH GORE\""
   ]
  },
  {
   "cell_type": "code",
   "execution_count": 16,
   "id": "b80f3c69",
   "metadata": {},
   "outputs": [
    {
     "data": {
      "text/plain": [
       "False"
      ]
     },
     "execution_count": 16,
     "metadata": {},
     "output_type": "execute_result"
    }
   ],
   "source": [
    "str1 = \"python\"\n",
    "str2 = \"Python\"\n",
    "\n",
    "str1 == str2"
   ]
  },
  {
   "cell_type": "code",
   "execution_count": 17,
   "id": "4d286f22",
   "metadata": {},
   "outputs": [
    {
     "data": {
      "text/plain": [
       "True"
      ]
     },
     "execution_count": 17,
     "metadata": {},
     "output_type": "execute_result"
    }
   ],
   "source": [
    "str1 = \"python\"\n",
    "str2 = \"python\"\n",
    "\n",
    "str1 == str2"
   ]
  },
  {
   "cell_type": "code",
   "execution_count": 18,
   "id": "f988c3d2",
   "metadata": {},
   "outputs": [
    {
     "name": "stdout",
     "output_type": "stream",
     "text": [
      "Both strings are same\n"
     ]
    }
   ],
   "source": [
    "str1 = \"python\"\n",
    "str2 = \"python\"\n",
    "\n",
    "if str1 == str2:  # True\n",
    "    print(\"Both strings are same\")"
   ]
  },
  {
   "cell_type": "code",
   "execution_count": 19,
   "id": "ecc50640",
   "metadata": {},
   "outputs": [
    {
     "data": {
      "text/plain": [
       "False"
      ]
     },
     "execution_count": 19,
     "metadata": {},
     "output_type": "execute_result"
    }
   ],
   "source": [
    "pan_card_name = \"mahesh gore\"\n",
    "adhar_card_name = \"MAHESH GORE\"\n",
    "\n",
    "pan_card_name == adhar_card_name"
   ]
  },
  {
   "cell_type": "code",
   "execution_count": 20,
   "id": "8891eabb",
   "metadata": {},
   "outputs": [
    {
     "name": "stdout",
     "output_type": "stream",
     "text": [
      "Both documents are of differnt person\n"
     ]
    }
   ],
   "source": [
    "pan_card_name = \"mahesh gore\"\n",
    "adhar_card_name = \"MAHESH GORE\"\n",
    "\n",
    "if pan_card_name == adhar_card_name: #Flase\n",
    "    print(\"Both documents are of same person\")\n",
    "    \n",
    "else:\n",
    "    print(\"Both documents are of differnt person\")"
   ]
  },
  {
   "cell_type": "code",
   "execution_count": 21,
   "id": "0eada06a",
   "metadata": {},
   "outputs": [
    {
     "name": "stdout",
     "output_type": "stream",
     "text": [
      "Both documents are of same person\n"
     ]
    }
   ],
   "source": [
    "pan_card_name = \"mahesh gore\"\n",
    "adhar_card_name = \"MAHESH GORE\"\n",
    "\n",
    "\n",
    "\n",
    "pan_card_name = pan_card_name.upper() # MAHESH GORE\n",
    "adhar_card_name = adhar_card_name.upper() # MAHESH GORE\n",
    "\n",
    "\n",
    "if pan_card_name == adhar_card_name: \n",
    "    print(\"Both documents are of same person\")\n",
    "    \n",
    "else:\n",
    "    print(\"Both documents are of differnt person\")"
   ]
  },
  {
   "cell_type": "code",
   "execution_count": 22,
   "id": "858197c2",
   "metadata": {},
   "outputs": [
    {
     "name": "stdout",
     "output_type": "stream",
     "text": [
      "Both documents are of same person\n"
     ]
    }
   ],
   "source": [
    "pan_card_name = \"mahesh gore\"\n",
    "adhar_card_name = \"MAHESH GORE\"\n",
    "\n",
    "\n",
    "\n",
    "pan_card_name = pan_card_name.lower() # MAHESH GORE\n",
    "adhar_card_name = adhar_card_name.lower() # MAHESH GORE\n",
    "\n",
    "\n",
    "if pan_card_name == adhar_card_name: \n",
    "    print(\"Both documents are of same person\")\n",
    "    \n",
    "else:\n",
    "    print(\"Both documents are of differnt person\")"
   ]
  },
  {
   "cell_type": "code",
   "execution_count": 23,
   "id": "f5945b17",
   "metadata": {},
   "outputs": [
    {
     "name": "stdout",
     "output_type": "stream",
     "text": [
      "Both documents are of same person\n"
     ]
    }
   ],
   "source": [
    "pan_card_name = \"mahesh gore\"\n",
    "adhar_card_name = \"MAHESH GORE\"\n",
    "\n",
    "\n",
    "\n",
    "pan_card_name = pan_card_name.title()\n",
    "adhar_card_name = adhar_card_name.title()\n",
    "\n",
    "\n",
    "if pan_card_name == adhar_card_name: \n",
    "    print(\"Both documents are of same person\")\n",
    "    \n",
    "else:\n",
    "    print(\"Both documents are of differnt person\")"
   ]
  },
  {
   "cell_type": "markdown",
   "id": "e349c005",
   "metadata": {},
   "source": [
    "# 5. swapcase"
   ]
  },
  {
   "cell_type": "code",
   "execution_count": null,
   "id": "0b98dc0f",
   "metadata": {},
   "outputs": [],
   "source": [
    "It swap or convert the case all of all character\n",
    "\n",
    "Upper case  >>> Lower case\n",
    "\n",
    "Lower case >>>> upper case"
   ]
  },
  {
   "cell_type": "code",
   "execution_count": 1,
   "id": "5f5fb817",
   "metadata": {},
   "outputs": [
    {
     "data": {
      "text/plain": [
       "'PYHTON'"
      ]
     },
     "execution_count": 1,
     "metadata": {},
     "output_type": "execute_result"
    }
   ],
   "source": [
    "str1 = \"pyhton\"\n",
    "str1.swapcase()"
   ]
  },
  {
   "cell_type": "code",
   "execution_count": 2,
   "id": "1ef3a965",
   "metadata": {},
   "outputs": [
    {
     "data": {
      "text/plain": [
       "'pYHtON maCHINE lEARNINg'"
      ]
     },
     "execution_count": 2,
     "metadata": {},
     "output_type": "execute_result"
    }
   ],
   "source": [
    "str1 = \"PyhTon MAchine LearninG\"\n",
    "str1.swapcase()"
   ]
  },
  {
   "cell_type": "markdown",
   "id": "7c4cb24c",
   "metadata": {},
   "source": [
    "# 6. lstrip"
   ]
  },
  {
   "cell_type": "code",
   "execution_count": null,
   "id": "1b4aea33",
   "metadata": {},
   "outputs": [],
   "source": [
    "It removes  only leading white spaces"
   ]
  },
  {
   "cell_type": "code",
   "execution_count": 3,
   "id": "ac75744e",
   "metadata": {},
   "outputs": [
    {
     "name": "stdout",
     "output_type": "stream",
     "text": [
      "     pyhton\n"
     ]
    }
   ],
   "source": [
    "str1 = \"     pyhton\"\n",
    "print(str1)"
   ]
  },
  {
   "cell_type": "code",
   "execution_count": 4,
   "id": "2155f579",
   "metadata": {},
   "outputs": [
    {
     "data": {
      "text/plain": [
       "'pyhton'"
      ]
     },
     "execution_count": 4,
     "metadata": {},
     "output_type": "execute_result"
    }
   ],
   "source": [
    "str1 = \"     pyhton\"\n",
    "str1.lstrip()"
   ]
  },
  {
   "cell_type": "code",
   "execution_count": 5,
   "id": "e1ed5293",
   "metadata": {},
   "outputs": [
    {
     "data": {
      "text/plain": [
       "'pyhton'"
      ]
     },
     "execution_count": 5,
     "metadata": {},
     "output_type": "execute_result"
    }
   ],
   "source": [
    "str1 = \"                       pyhton\"\n",
    "str1.lstrip()"
   ]
  },
  {
   "cell_type": "code",
   "execution_count": 7,
   "id": "baff7564",
   "metadata": {},
   "outputs": [
    {
     "data": {
      "text/plain": [
       "'pyh   ton'"
      ]
     },
     "execution_count": 7,
     "metadata": {},
     "output_type": "execute_result"
    }
   ],
   "source": [
    "str1 = \"     pyh   ton\"\n",
    "str1.lstrip()"
   ]
  },
  {
   "cell_type": "markdown",
   "id": "420e58aa",
   "metadata": {},
   "source": [
    "# 7. rstrip"
   ]
  },
  {
   "cell_type": "code",
   "execution_count": null,
   "id": "99ed547b",
   "metadata": {},
   "outputs": [],
   "source": [
    "It removes all Trailing white spaces"
   ]
  },
  {
   "cell_type": "code",
   "execution_count": 8,
   "id": "c76051d7",
   "metadata": {},
   "outputs": [
    {
     "data": {
      "text/plain": [
       "'pyhton         '"
      ]
     },
     "execution_count": 8,
     "metadata": {},
     "output_type": "execute_result"
    }
   ],
   "source": [
    "str1 = \"pyhton         \"\n",
    "str1.lstrip()"
   ]
  },
  {
   "cell_type": "code",
   "execution_count": 9,
   "id": "eabe97c5",
   "metadata": {},
   "outputs": [
    {
     "data": {
      "text/plain": [
       "'pyhton'"
      ]
     },
     "execution_count": 9,
     "metadata": {},
     "output_type": "execute_result"
    }
   ],
   "source": [
    "str1 = \"pyhton         \"\n",
    "str1.rstrip()"
   ]
  },
  {
   "cell_type": "code",
   "execution_count": 15,
   "id": "756203fd",
   "metadata": {},
   "outputs": [
    {
     "name": "stdout",
     "output_type": "stream",
     "text": [
      "    pyhton\n"
     ]
    },
    {
     "data": {
      "text/plain": [
       "'pyhton'"
      ]
     },
     "execution_count": 15,
     "metadata": {},
     "output_type": "execute_result"
    }
   ],
   "source": [
    "str1 = \"    pyhton         \"\n",
    "string = str1.rstrip()  # \"    pyhton\"\n",
    "print(string)\n",
    "string.lstrip()"
   ]
  },
  {
   "cell_type": "code",
   "execution_count": 14,
   "id": "23a69567",
   "metadata": {},
   "outputs": [
    {
     "data": {
      "text/plain": [
       "'pyhton'"
      ]
     },
     "execution_count": 14,
     "metadata": {},
     "output_type": "execute_result"
    }
   ],
   "source": [
    "str1 = \"    pyhton         \"\n",
    "string = str1.rstrip().lstrip()\n",
    "string"
   ]
  },
  {
   "cell_type": "code",
   "execution_count": 18,
   "id": "00d42876",
   "metadata": {},
   "outputs": [
    {
     "data": {
      "text/plain": [
       "'PYHTON'"
      ]
     },
     "execution_count": 18,
     "metadata": {},
     "output_type": "execute_result"
    }
   ],
   "source": [
    "str1 = \"    pyhton         \"\n",
    "string = str1.lstrip().rstrip().upper()\n",
    "string"
   ]
  },
  {
   "cell_type": "code",
   "execution_count": null,
   "id": "b2b14d6e",
   "metadata": {},
   "outputs": [],
   "source": []
  },
  {
   "cell_type": "code",
   "execution_count": 20,
   "id": "20ce7fd0",
   "metadata": {
    "collapsed": true
   },
   "outputs": [
    {
     "data": {
      "text/plain": [
       "'PYHTON'"
      ]
     },
     "execution_count": 20,
     "metadata": {},
     "output_type": "execute_result"
    }
   ],
   "source": [
    "str1 = \"    pyhton         \"\n",
    "str1 = str1.lstrip().rstrip().swapcase()\n",
    "str1"
   ]
  },
  {
   "cell_type": "code",
   "execution_count": null,
   "id": "499e1ff8",
   "metadata": {},
   "outputs": [],
   "source": []
  },
  {
   "cell_type": "markdown",
   "id": "1858be88",
   "metadata": {},
   "source": [
    "# 8.strip"
   ]
  },
  {
   "cell_type": "code",
   "execution_count": null,
   "id": "98ab8f4f",
   "metadata": {},
   "outputs": [],
   "source": [
    "It is used to remove both leading and trailing white spaces (only) at a time\n",
    "\n",
    "strip = lstrip + rstrip"
   ]
  },
  {
   "cell_type": "code",
   "execution_count": 21,
   "id": "7643467c",
   "metadata": {},
   "outputs": [
    {
     "data": {
      "text/plain": [
       "'pyhton'"
      ]
     },
     "execution_count": 21,
     "metadata": {},
     "output_type": "execute_result"
    }
   ],
   "source": [
    "str1 = \"    pyhton         \"\n",
    "str1.strip()"
   ]
  },
  {
   "cell_type": "code",
   "execution_count": 22,
   "id": "54280072",
   "metadata": {},
   "outputs": [
    {
     "data": {
      "text/plain": [
       "'pyhton'"
      ]
     },
     "execution_count": 22,
     "metadata": {},
     "output_type": "execute_result"
    }
   ],
   "source": [
    "str1 = \"    pyhton\"\n",
    "str1.strip()"
   ]
  },
  {
   "cell_type": "code",
   "execution_count": 23,
   "id": "226df352",
   "metadata": {},
   "outputs": [
    {
     "data": {
      "text/plain": [
       "'pyhton'"
      ]
     },
     "execution_count": 23,
     "metadata": {},
     "output_type": "execute_result"
    }
   ],
   "source": [
    "str1 = \"pyhton         \"\n",
    "str1.strip()"
   ]
  },
  {
   "cell_type": "code",
   "execution_count": 24,
   "id": "ab425888",
   "metadata": {},
   "outputs": [
    {
     "data": {
      "text/plain": [
       "'pyhton and         Machine Learning'"
      ]
     },
     "execution_count": 24,
     "metadata": {},
     "output_type": "execute_result"
    }
   ],
   "source": [
    "str1 = \"    pyhton and         Machine Learning         \"\n",
    "str1.strip()"
   ]
  },
  {
   "cell_type": "markdown",
   "id": "78c9fbc2",
   "metadata": {},
   "source": [
    "# 9. casefold\n"
   ]
  },
  {
   "cell_type": "code",
   "execution_count": null,
   "id": "db2d2c0f",
   "metadata": {},
   "outputs": [],
   "source": [
    "It is similar to lower() but it is stronger and helps to lowercase in other languages"
   ]
  },
  {
   "cell_type": "code",
   "execution_count": 25,
   "id": "b5a8b63c",
   "metadata": {},
   "outputs": [
    {
     "data": {
      "text/plain": [
       "'python'"
      ]
     },
     "execution_count": 25,
     "metadata": {},
     "output_type": "execute_result"
    }
   ],
   "source": [
    "str1 = \"PYTHON\"\n",
    "str1.lower()"
   ]
  },
  {
   "cell_type": "code",
   "execution_count": 26,
   "id": "4370eb8f",
   "metadata": {},
   "outputs": [
    {
     "data": {
      "text/plain": [
       "'python'"
      ]
     },
     "execution_count": 26,
     "metadata": {},
     "output_type": "execute_result"
    }
   ],
   "source": [
    "str1 = \"PYTHON\"\n",
    "str1.casefold()"
   ]
  },
  {
   "cell_type": "code",
   "execution_count": 27,
   "id": "dd793ffc",
   "metadata": {},
   "outputs": [
    {
     "data": {
      "text/plain": [
       "'scheieße'"
      ]
     },
     "execution_count": 27,
     "metadata": {},
     "output_type": "execute_result"
    }
   ],
   "source": [
    "str1 = \"Scheieße\"\n",
    "str1.lower()"
   ]
  },
  {
   "cell_type": "code",
   "execution_count": 28,
   "id": "71577853",
   "metadata": {},
   "outputs": [
    {
     "data": {
      "text/plain": [
       "'scheiesse'"
      ]
     },
     "execution_count": 28,
     "metadata": {},
     "output_type": "execute_result"
    }
   ],
   "source": [
    "str1 = \"Scheieße\"\n",
    "str1.casefold()"
   ]
  },
  {
   "cell_type": "markdown",
   "id": "1f6ba252",
   "metadata": {},
   "source": [
    "# 10. replace"
   ]
  },
  {
   "cell_type": "code",
   "execution_count": null,
   "id": "3420bee3",
   "metadata": {},
   "outputs": [],
   "source": [
    "str1.replace(old_substring ,new_substring,[count])\n",
    "\n",
    "substring >> single char, word, whole string, any char"
   ]
  },
  {
   "cell_type": "code",
   "execution_count": 29,
   "id": "9a89c3b8",
   "metadata": {},
   "outputs": [
    {
     "data": {
      "text/plain": [
       "'Python and Machine Science'"
      ]
     },
     "execution_count": 29,
     "metadata": {},
     "output_type": "execute_result"
    }
   ],
   "source": [
    "str1 = \"Python and data Science\"\n",
    "str1.replace(\"data\",\"Machine\")"
   ]
  },
  {
   "cell_type": "code",
   "execution_count": 30,
   "id": "1637ee9f",
   "metadata": {},
   "outputs": [
    {
     "data": {
      "text/plain": [
       "'C++ and data Science'"
      ]
     },
     "execution_count": 30,
     "metadata": {},
     "output_type": "execute_result"
    }
   ],
   "source": [
    "str1 = \"Python and data Science\"\n",
    "str1.replace(\"Python\",\"C++\")"
   ]
  },
  {
   "cell_type": "code",
   "execution_count": 31,
   "id": "4bbd120d",
   "metadata": {},
   "outputs": [
    {
     "data": {
      "text/plain": [
       "'Python and data Science'"
      ]
     },
     "execution_count": 31,
     "metadata": {},
     "output_type": "execute_result"
    }
   ],
   "source": [
    "str1 = \"Python and data Science\"\n",
    "str1.replace(\"python\",\"C++\")   #p of python is small letter"
   ]
  },
  {
   "cell_type": "code",
   "execution_count": 32,
   "id": "9d3a18c8",
   "metadata": {},
   "outputs": [
    {
     "data": {
      "text/plain": [
       "'Python#and#data#Science'"
      ]
     },
     "execution_count": 32,
     "metadata": {},
     "output_type": "execute_result"
    }
   ],
   "source": [
    "str1 = \"Python and data Science\"\n",
    "str1.replace(\" \",\"#\")"
   ]
  },
  {
   "cell_type": "code",
   "execution_count": 33,
   "id": "537bff17",
   "metadata": {},
   "outputs": [
    {
     "data": {
      "text/plain": [
       "'+++++++++Python+++and+++data+++Science'"
      ]
     },
     "execution_count": 33,
     "metadata": {},
     "output_type": "execute_result"
    }
   ],
   "source": [
    "str1 = \"   Python and data Science\"\n",
    "str1.replace(\" \",\"+++\")"
   ]
  },
  {
   "cell_type": "code",
   "execution_count": 34,
   "id": "6f7a0516",
   "metadata": {},
   "outputs": [
    {
     "data": {
      "text/plain": [
       "'+++Python and data Science'"
      ]
     },
     "execution_count": 34,
     "metadata": {},
     "output_type": "execute_result"
    }
   ],
   "source": [
    "str1 = \"   Python and data Science\"\n",
    "str1.replace(\"   \",\"+++\")"
   ]
  },
  {
   "cell_type": "code",
   "execution_count": 35,
   "id": "2071b556",
   "metadata": {},
   "outputs": [
    {
     "data": {
      "text/plain": [
       "'PythonanddataScience'"
      ]
     },
     "execution_count": 35,
     "metadata": {},
     "output_type": "execute_result"
    }
   ],
   "source": [
    "str1 = \"   Python and data Science\"\n",
    "str1.replace(\" \",\"\")"
   ]
  },
  {
   "cell_type": "code",
   "execution_count": null,
   "id": "c0566838",
   "metadata": {},
   "outputs": [],
   "source": [
    "home work >>replace all Vowels with @\n",
    "\n",
    "str1 = \"Python and data Science\""
   ]
  },
  {
   "cell_type": "code",
   "execution_count": 36,
   "id": "622cc1c2",
   "metadata": {},
   "outputs": [
    {
     "data": {
      "text/plain": [
       "'JAVA and data Science JAVA JAVA'"
      ]
     },
     "execution_count": 36,
     "metadata": {},
     "output_type": "execute_result"
    }
   ],
   "source": [
    "str1 = \"Python and data Science Python Python\" \n",
    "\n",
    "str1.replace(\"Python\",\"JAVA\")"
   ]
  },
  {
   "cell_type": "code",
   "execution_count": 37,
   "id": "e28221b9",
   "metadata": {},
   "outputs": [
    {
     "data": {
      "text/plain": [
       "'JAVA and data Science Python Python'"
      ]
     },
     "execution_count": 37,
     "metadata": {},
     "output_type": "execute_result"
    }
   ],
   "source": [
    "str1 = \"Python and data Science Python Python\" \n",
    "\n",
    "str1.replace(\"Python\",\"JAVA\",1)"
   ]
  },
  {
   "cell_type": "code",
   "execution_count": 38,
   "id": "72222e35",
   "metadata": {},
   "outputs": [
    {
     "data": {
      "text/plain": [
       "'JAVA and data Science JAVA Python'"
      ]
     },
     "execution_count": 38,
     "metadata": {},
     "output_type": "execute_result"
    }
   ],
   "source": [
    "str1 = \"Python and data Science Python Python\" \n",
    "\n",
    "str1.replace(\"Python\",\"JAVA\",2)"
   ]
  },
  {
   "cell_type": "markdown",
   "id": "9d2592bb",
   "metadata": {},
   "source": [
    "# 11. count()"
   ]
  },
  {
   "cell_type": "code",
   "execution_count": null,
   "id": "0aaa9f59",
   "metadata": {},
   "outputs": [],
   "source": [
    "str1.count(substring,[start_index],[end_index])"
   ]
  },
  {
   "cell_type": "code",
   "execution_count": 39,
   "id": "5558d56f",
   "metadata": {},
   "outputs": [
    {
     "data": {
      "text/plain": [
       "3"
      ]
     },
     "execution_count": 39,
     "metadata": {},
     "output_type": "execute_result"
    }
   ],
   "source": [
    "str1 = \"Python and data Science Python Python\" \n",
    "\n",
    "str1.count(\"Python\")"
   ]
  },
  {
   "cell_type": "code",
   "execution_count": 40,
   "id": "40ee62e1",
   "metadata": {},
   "outputs": [
    {
     "data": {
      "text/plain": [
       "0"
      ]
     },
     "execution_count": 40,
     "metadata": {},
     "output_type": "execute_result"
    }
   ],
   "source": [
    "str1 = \"Python and data Science Python Python\" \n",
    "\n",
    "str1.count(\"p\")"
   ]
  },
  {
   "cell_type": "code",
   "execution_count": 41,
   "id": "6dcc298e",
   "metadata": {},
   "outputs": [
    {
     "data": {
      "text/plain": [
       "3"
      ]
     },
     "execution_count": 41,
     "metadata": {},
     "output_type": "execute_result"
    }
   ],
   "source": [
    "str1 = \"Python and data Science Python Python\" \n",
    "\n",
    "str1.count(\"o\")"
   ]
  },
  {
   "cell_type": "code",
   "execution_count": 43,
   "id": "28e964c0",
   "metadata": {},
   "outputs": [
    {
     "data": {
      "text/plain": [
       "'PYTHON AND DATA SCIENCE PYTHON PYTHON'"
      ]
     },
     "execution_count": 43,
     "metadata": {},
     "output_type": "execute_result"
    }
   ],
   "source": [
    "str1 = \"Python and data Science python python\" \n",
    "\n",
    "string = str1.upper()\n",
    "string"
   ]
  },
  {
   "cell_type": "code",
   "execution_count": 45,
   "id": "777180f6",
   "metadata": {},
   "outputs": [
    {
     "data": {
      "text/plain": [
       "3"
      ]
     },
     "execution_count": 45,
     "metadata": {},
     "output_type": "execute_result"
    }
   ],
   "source": [
    "string.count(\"P\")"
   ]
  },
  {
   "cell_type": "code",
   "execution_count": 47,
   "id": "d422d712",
   "metadata": {},
   "outputs": [
    {
     "data": {
      "text/plain": [
       "3"
      ]
     },
     "execution_count": 47,
     "metadata": {},
     "output_type": "execute_result"
    }
   ],
   "source": [
    "str1 = \"Python and data Science python python\" \n",
    "\n",
    "string = str1.upper().count(\"P\")\n",
    "string"
   ]
  },
  {
   "cell_type": "code",
   "execution_count": 48,
   "id": "6d788268",
   "metadata": {},
   "outputs": [
    {
     "data": {
      "text/plain": [
       "3"
      ]
     },
     "execution_count": 48,
     "metadata": {},
     "output_type": "execute_result"
    }
   ],
   "source": [
    "str1 = \"Python and data Science python python\" \n",
    "substring = \"P\"\n",
    "string = str1.upper().count(substring)\n",
    "string"
   ]
  },
  {
   "cell_type": "code",
   "execution_count": null,
   "id": "5768c581",
   "metadata": {},
   "outputs": [],
   "source": [
    "#Home work\n",
    "str1 = \"    Python      and data Science python python       @ *     \" \n",
    "\n",
    "output = \"Python and Data Science\""
   ]
  },
  {
   "cell_type": "code",
   "execution_count": 49,
   "id": "7c8ef76f",
   "metadata": {},
   "outputs": [
    {
     "data": {
      "text/plain": [
       "1"
      ]
     },
     "execution_count": 49,
     "metadata": {},
     "output_type": "execute_result"
    }
   ],
   "source": [
    "str1 = \"Python and data Science Python Python\" \n",
    "\n",
    "str1.count(\"P\",0,5)"
   ]
  },
  {
   "cell_type": "code",
   "execution_count": 52,
   "id": "33b40db1",
   "metadata": {},
   "outputs": [
    {
     "data": {
      "text/plain": [
       "2"
      ]
     },
     "execution_count": 52,
     "metadata": {},
     "output_type": "execute_result"
    }
   ],
   "source": [
    "str1 = \"Python and data Science Python Python\" \n",
    "\n",
    "str1.count(\"P\",0,25)"
   ]
  },
  {
   "cell_type": "code",
   "execution_count": 54,
   "id": "51ee8f21",
   "metadata": {},
   "outputs": [
    {
     "data": {
      "text/plain": [
       "2"
      ]
     },
     "execution_count": 54,
     "metadata": {},
     "output_type": "execute_result"
    }
   ],
   "source": [
    "str1 = \"Python and data Science Python Python\" \n",
    "\n",
    "str1.count(\"P\",1,35)"
   ]
  },
  {
   "cell_type": "markdown",
   "id": "4d61a252",
   "metadata": {},
   "source": [
    "# 12. index()"
   ]
  },
  {
   "cell_type": "code",
   "execution_count": null,
   "id": "d3f416d8",
   "metadata": {},
   "outputs": [],
   "source": [
    "It will show index of char/substring/word\n",
    "\n",
    "str1.index(substring,strat_index, end_index)"
   ]
  },
  {
   "cell_type": "code",
   "execution_count": 55,
   "id": "de2476db",
   "metadata": {},
   "outputs": [
    {
     "data": {
      "text/plain": [
       "0"
      ]
     },
     "execution_count": 55,
     "metadata": {},
     "output_type": "execute_result"
    }
   ],
   "source": [
    "str1 = \"Python and data Science Python Python\" \n",
    "\n",
    "str1.index('P')"
   ]
  },
  {
   "cell_type": "code",
   "execution_count": 56,
   "id": "34209910",
   "metadata": {},
   "outputs": [
    {
     "data": {
      "text/plain": [
       "7"
      ]
     },
     "execution_count": 56,
     "metadata": {},
     "output_type": "execute_result"
    }
   ],
   "source": [
    "str1 = \"Python and data Science Python Python\" \n",
    "\n",
    "str1.index('a')"
   ]
  },
  {
   "cell_type": "code",
   "execution_count": 57,
   "id": "9007ac43",
   "metadata": {},
   "outputs": [
    {
     "data": {
      "text/plain": [
       "0"
      ]
     },
     "execution_count": 57,
     "metadata": {},
     "output_type": "execute_result"
    }
   ],
   "source": [
    "str1 = \"Python and data Science Python Python\" \n",
    "substring = \"Pyt\"\n",
    "str1.index(substring)"
   ]
  },
  {
   "cell_type": "code",
   "execution_count": 58,
   "id": "a61536e6",
   "metadata": {},
   "outputs": [
    {
     "data": {
      "text/plain": [
       "11"
      ]
     },
     "execution_count": 58,
     "metadata": {},
     "output_type": "execute_result"
    }
   ],
   "source": [
    "str1 = \"Python and data Science Python Python\" \n",
    "\n",
    "str1.index(\"data\")"
   ]
  },
  {
   "cell_type": "code",
   "execution_count": 59,
   "id": "c482f8d1",
   "metadata": {},
   "outputs": [
    {
     "ename": "ValueError",
     "evalue": "substring not found",
     "output_type": "error",
     "traceback": [
      "\u001b[1;31m---------------------------------------------------------------------------\u001b[0m",
      "\u001b[1;31mValueError\u001b[0m                                Traceback (most recent call last)",
      "\u001b[1;32m<ipython-input-59-57e5905e9996>\u001b[0m in \u001b[0;36m<module>\u001b[1;34m\u001b[0m\n\u001b[0;32m      1\u001b[0m \u001b[0mstr1\u001b[0m \u001b[1;33m=\u001b[0m \u001b[1;34m\"Python and data Science Python Python\"\u001b[0m\u001b[1;33m\u001b[0m\u001b[1;33m\u001b[0m\u001b[0m\n\u001b[0;32m      2\u001b[0m \u001b[1;33m\u001b[0m\u001b[0m\n\u001b[1;32m----> 3\u001b[1;33m \u001b[0mstr1\u001b[0m\u001b[1;33m.\u001b[0m\u001b[0mindex\u001b[0m\u001b[1;33m(\u001b[0m\u001b[1;34m\"Data\"\u001b[0m\u001b[1;33m)\u001b[0m\u001b[1;33m\u001b[0m\u001b[1;33m\u001b[0m\u001b[0m\n\u001b[0m",
      "\u001b[1;31mValueError\u001b[0m: substring not found"
     ]
    }
   ],
   "source": [
    "str1 = \"Python and data Science Python Python\" \n",
    "\n",
    "str1.index(\"Data\")"
   ]
  },
  {
   "cell_type": "code",
   "execution_count": 60,
   "id": "828e861e",
   "metadata": {},
   "outputs": [
    {
     "data": {
      "text/plain": [
       "False"
      ]
     },
     "execution_count": 60,
     "metadata": {},
     "output_type": "execute_result"
    }
   ],
   "source": [
    "str1 = \"Python and data Science Python Python\" \n",
    "substring = \"Data\"\n",
    "substring in str1"
   ]
  },
  {
   "cell_type": "code",
   "execution_count": 61,
   "id": "e64f6f74",
   "metadata": {},
   "outputs": [
    {
     "data": {
      "text/plain": [
       "True"
      ]
     },
     "execution_count": 61,
     "metadata": {},
     "output_type": "execute_result"
    }
   ],
   "source": [
    "str1 = \"Python and data Science Python Python\" \n",
    "substring = \"data\"\n",
    "substring in str1 # True"
   ]
  },
  {
   "cell_type": "code",
   "execution_count": 62,
   "id": "ede0c1d7",
   "metadata": {},
   "outputs": [
    {
     "name": "stdout",
     "output_type": "stream",
     "text": [
      "Substring is present in given string\n"
     ]
    }
   ],
   "source": [
    "str1 = \"Python and data Science Python Python\" \n",
    "substring = \"data\"\n",
    "\n",
    "if substring in str1:#True\n",
    "    print(\"Substring is present in given string\")\n",
    "    \n",
    "    \n",
    "else:\n",
    "    print(\"Substring is not present in given string\")"
   ]
  },
  {
   "cell_type": "code",
   "execution_count": 63,
   "id": "3469349e",
   "metadata": {},
   "outputs": [
    {
     "name": "stdout",
     "output_type": "stream",
     "text": [
      "Substring is not present in given string\n"
     ]
    }
   ],
   "source": [
    "str1 = \"Python and data Science Python Python\" \n",
    "substring = \"Data\"\n",
    "\n",
    "if substring in str1:#False\n",
    "    print(\"Substring is present in given string\")\n",
    "    \n",
    "    \n",
    "else:\n",
    "    print(\"Substring is not present in given string\")"
   ]
  },
  {
   "cell_type": "code",
   "execution_count": 66,
   "id": "047f1ae9",
   "metadata": {},
   "outputs": [
    {
     "name": "stdout",
     "output_type": "stream",
     "text": [
      "Data is not present in given string\n"
     ]
    }
   ],
   "source": [
    "str1 = \"Python and data Science Python Python\" \n",
    "substring = \"Data\"\n",
    "\n",
    "if substring in str1:#False\n",
    "    print(f\"{substring} is present in given string\")\n",
    "    \n",
    "    \n",
    "else:\n",
    "    print(f\"{substring} is not present in given string\")"
   ]
  },
  {
   "cell_type": "markdown",
   "id": "d09b94f4",
   "metadata": {},
   "source": [
    "# 13.Find"
   ]
  },
  {
   "cell_type": "code",
   "execution_count": null,
   "id": "e73fb340",
   "metadata": {},
   "outputs": [],
   "source": [
    "It will find the index of word/char\n",
    "\n",
    "str1.find(substring,strat_index,end_index)\n",
    "\n",
    "If substring will not found the given string it  will return -1"
   ]
  },
  {
   "cell_type": "code",
   "execution_count": 67,
   "id": "2df28a08",
   "metadata": {},
   "outputs": [
    {
     "data": {
      "text/plain": [
       "11"
      ]
     },
     "execution_count": 67,
     "metadata": {},
     "output_type": "execute_result"
    }
   ],
   "source": [
    "str1 = \"Python and data Science Python Python\" \n",
    "\n",
    "str1.find(\"data\")"
   ]
  },
  {
   "cell_type": "code",
   "execution_count": 68,
   "id": "8649d3ee",
   "metadata": {},
   "outputs": [
    {
     "data": {
      "text/plain": [
       "11"
      ]
     },
     "execution_count": 68,
     "metadata": {},
     "output_type": "execute_result"
    }
   ],
   "source": [
    "str1 = \"Python and data Science Python Python\" \n",
    "\n",
    "str1.index(\"data\")"
   ]
  },
  {
   "cell_type": "code",
   "execution_count": 69,
   "id": "608cc5cc",
   "metadata": {},
   "outputs": [
    {
     "ename": "ValueError",
     "evalue": "substring not found",
     "output_type": "error",
     "traceback": [
      "\u001b[1;31m---------------------------------------------------------------------------\u001b[0m",
      "\u001b[1;31mValueError\u001b[0m                                Traceback (most recent call last)",
      "\u001b[1;32m<ipython-input-69-57e5905e9996>\u001b[0m in \u001b[0;36m<module>\u001b[1;34m\u001b[0m\n\u001b[0;32m      1\u001b[0m \u001b[0mstr1\u001b[0m \u001b[1;33m=\u001b[0m \u001b[1;34m\"Python and data Science Python Python\"\u001b[0m\u001b[1;33m\u001b[0m\u001b[1;33m\u001b[0m\u001b[0m\n\u001b[0;32m      2\u001b[0m \u001b[1;33m\u001b[0m\u001b[0m\n\u001b[1;32m----> 3\u001b[1;33m \u001b[0mstr1\u001b[0m\u001b[1;33m.\u001b[0m\u001b[0mindex\u001b[0m\u001b[1;33m(\u001b[0m\u001b[1;34m\"Data\"\u001b[0m\u001b[1;33m)\u001b[0m\u001b[1;33m\u001b[0m\u001b[1;33m\u001b[0m\u001b[0m\n\u001b[0m",
      "\u001b[1;31mValueError\u001b[0m: substring not found"
     ]
    }
   ],
   "source": [
    "str1 = \"Python and data Science Python Python\" \n",
    "\n",
    "str1.index(\"Data\")"
   ]
  },
  {
   "cell_type": "code",
   "execution_count": 71,
   "id": "53dd6cd2",
   "metadata": {},
   "outputs": [
    {
     "data": {
      "text/plain": [
       "-1"
      ]
     },
     "execution_count": 71,
     "metadata": {},
     "output_type": "execute_result"
    }
   ],
   "source": [
    "str1 = \"Python and data Science Python Python\" \n",
    "\n",
    "str1.find(\"Data\")"
   ]
  },
  {
   "cell_type": "code",
   "execution_count": 74,
   "id": "5e182fed",
   "metadata": {},
   "outputs": [
    {
     "name": "stdout",
     "output_type": "stream",
     "text": [
      "Substring is not found\n"
     ]
    }
   ],
   "source": [
    "str1 = \"Python and data Science Python Python\" \n",
    "\n",
    "index = str1.find(\"Data\")\n",
    "index\n",
    "\n",
    "if index == -1:\n",
    "    print(\"Substring is not found\")\n",
    "    \n",
    "else:\n",
    "    print(\"Substring is found\")"
   ]
  },
  {
   "cell_type": "code",
   "execution_count": null,
   "id": "d7266c5d",
   "metadata": {},
   "outputs": [],
   "source": [
    "=  >> Assignment operator\n",
    "== >> Equal "
   ]
  },
  {
   "cell_type": "code",
   "execution_count": 77,
   "id": "23095d92",
   "metadata": {},
   "outputs": [
    {
     "data": {
      "text/plain": [
       "True"
      ]
     },
     "execution_count": 77,
     "metadata": {},
     "output_type": "execute_result"
    }
   ],
   "source": [
    "\"Priya\" == \"Priya\""
   ]
  },
  {
   "cell_type": "code",
   "execution_count": 78,
   "id": "5879b9df",
   "metadata": {},
   "outputs": [
    {
     "data": {
      "text/plain": [
       "True"
      ]
     },
     "execution_count": 78,
     "metadata": {},
     "output_type": "execute_result"
    }
   ],
   "source": [
    "10 == 10"
   ]
  },
  {
   "cell_type": "code",
   "execution_count": 76,
   "id": "b23bd55f",
   "metadata": {},
   "outputs": [
    {
     "name": "stdout",
     "output_type": "stream",
     "text": [
      "Data is not found in given string\n"
     ]
    }
   ],
   "source": [
    "str1 = \"Python and data Science Python Python\" \n",
    "substring = \"Data\"\n",
    "index = str1.find(substring) #-1\n",
    "index\n",
    "\n",
    "if index == -1:\n",
    "    print(f\"{substring} is not found in given string\")\n",
    "    \n",
    "else:\n",
    "    print(f\"{substring} is found in given string\")"
   ]
  },
  {
   "cell_type": "code",
   "execution_count": 79,
   "id": "c6d3f229",
   "metadata": {},
   "outputs": [
    {
     "data": {
      "text/plain": [
       "-1"
      ]
     },
     "execution_count": 79,
     "metadata": {},
     "output_type": "execute_result"
    }
   ],
   "source": [
    "str1.find(substring)"
   ]
  },
  {
   "cell_type": "code",
   "execution_count": 80,
   "id": "e7ac44c4",
   "metadata": {},
   "outputs": [
    {
     "name": "stdout",
     "output_type": "stream",
     "text": [
      "Data is not found in given string\n"
     ]
    }
   ],
   "source": [
    "str1 = \"Python and data Science Python Python\" \n",
    "substring = \"Data\"\n",
    " #-1\n",
    "\n",
    "\n",
    "if str1.find(substring) == -1:   # -1 == -1 >> False\n",
    "    print(f\"{substring} is not found in given string\")\n",
    "    \n",
    "else:\n",
    "    print(f\"{substring} is found in given string\")"
   ]
  },
  {
   "cell_type": "code",
   "execution_count": 81,
   "id": "ec254649",
   "metadata": {},
   "outputs": [
    {
     "data": {
      "text/plain": [
       "''"
      ]
     },
     "execution_count": 81,
     "metadata": {},
     "output_type": "execute_result"
    }
   ],
   "source": [
    "# Null string\n",
    "\n",
    "# end index < than start index step size is 1\n",
    "#               OR\n",
    "# start index is greater than end index & step size is 1\n",
    "string = \"Python\"\n",
    "string[-1:-2:1]\n",
    "string[5:2:1]  \n",
    "\n",
    "\n",
    "\n",
    "# end index > start index and step size is -1\n",
    "#                OR\n",
    "# start index is less than end index step size is -1\n",
    "\n",
    "string[2:5:-1]\n",
    "string[-2:-1:-1]"
   ]
  },
  {
   "cell_type": "markdown",
   "id": "592a229f",
   "metadata": {},
   "source": [
    "# 14.split()"
   ]
  },
  {
   "cell_type": "code",
   "execution_count": null,
   "id": "f71efa90",
   "metadata": {},
   "outputs": [],
   "source": [
    "It is used to convert string into list data type\n",
    "\n",
    "It returns list of words seperated by white spaces"
   ]
  },
  {
   "cell_type": "code",
   "execution_count": 2,
   "id": "738f86e7",
   "metadata": {},
   "outputs": [
    {
     "data": {
      "text/plain": [
       "list"
      ]
     },
     "execution_count": 2,
     "metadata": {},
     "output_type": "execute_result"
    }
   ],
   "source": [
    "list1 = [1,2,3,4,5]\n",
    "type(list1)\n",
    "p"
   ]
  },
  {
   "cell_type": "code",
   "execution_count": 19,
   "id": "b9f5a16c",
   "metadata": {},
   "outputs": [
    {
     "name": "stdout",
     "output_type": "stream",
     "text": [
      "[1, 2, 3, 4, 5]\n"
     ]
    }
   ],
   "source": [
    "print(list1)"
   ]
  },
  {
   "cell_type": "code",
   "execution_count": 3,
   "id": "7f37490b",
   "metadata": {},
   "outputs": [
    {
     "data": {
      "text/plain": [
       "['Python', 'and', 'data', 'Science', 'Python', 'Python']"
      ]
     },
     "execution_count": 3,
     "metadata": {},
     "output_type": "execute_result"
    }
   ],
   "source": [
    "str1 = \"Python and data Science Python Python\" \n",
    "\n",
    "str1.split()"
   ]
  },
  {
   "cell_type": "code",
   "execution_count": 4,
   "id": "53b7e342",
   "metadata": {},
   "outputs": [
    {
     "data": {
      "text/plain": [
       "['afsgfsdhg', 'dsgusegkj']"
      ]
     },
     "execution_count": 4,
     "metadata": {},
     "output_type": "execute_result"
    }
   ],
   "source": [
    "str1 = \"afsgfsdhg dsgusegkj\" \n",
    "\n",
    "str1.split()"
   ]
  },
  {
   "cell_type": "code",
   "execution_count": 9,
   "id": "9ff8b4c9",
   "metadata": {},
   "outputs": [
    {
     "name": "stdout",
     "output_type": "stream",
     "text": [
      "['Machine', 'learning', 'is', 'a', 'field', 'devoted', 'to', 'understanding', 'and', 'building', 'methods', 'that', 'let', 'machines', '\"learn\"', '–', 'that', 'is,', 'methods', 'that', 'leverage', 'data', 'to', 'improve', 'computer', 'performance', 'on', 'some', 'set', 'of', 'tasks.']\n"
     ]
    }
   ],
   "source": [
    "str2 = '''Machine learning is a field devoted to understanding and building methods that \n",
    "let machines \"learn\" – that is, methods that leverage data to improve computer performance \n",
    "on some set of tasks.'''\n",
    "\n",
    "print(str2.split())"
   ]
  },
  {
   "cell_type": "code",
   "execution_count": 10,
   "id": "5c648a33",
   "metadata": {},
   "outputs": [
    {
     "data": {
      "text/plain": [
       "31"
      ]
     },
     "execution_count": 10,
     "metadata": {},
     "output_type": "execute_result"
    }
   ],
   "source": [
    "len(str2.split())"
   ]
  },
  {
   "cell_type": "code",
   "execution_count": 11,
   "id": "5bd301f9",
   "metadata": {},
   "outputs": [
    {
     "data": {
      "text/plain": [
       "['Python', 'and', '@', 'data', 'Science', 'Python', 'Python']"
      ]
     },
     "execution_count": 11,
     "metadata": {},
     "output_type": "execute_result"
    }
   ],
   "source": [
    "str1 = \"Python   and @   data Science Python Python\" \n",
    "\n",
    "str1.split()"
   ]
  },
  {
   "cell_type": "code",
   "execution_count": 12,
   "id": "bc419672",
   "metadata": {},
   "outputs": [
    {
     "data": {
      "text/plain": [
       "['Python', 'and', '@', 'data', 'Science', 'Python', 'Python']"
      ]
     },
     "execution_count": 12,
     "metadata": {},
     "output_type": "execute_result"
    }
   ],
   "source": [
    "str1 = \"  Python   and @   data Science Python Python   \" \n",
    "\n",
    "str1.split()"
   ]
  },
  {
   "cell_type": "code",
   "execution_count": 13,
   "id": "faae91f8",
   "metadata": {},
   "outputs": [
    {
     "data": {
      "text/plain": [
       "['Python and ', ' data Science Python Python']"
      ]
     },
     "execution_count": 13,
     "metadata": {},
     "output_type": "execute_result"
    }
   ],
   "source": [
    "str1 = \"Python and @ data Science Python Python\" \n",
    "\n",
    "str1.split(\"@\")"
   ]
  },
  {
   "cell_type": "code",
   "execution_count": 15,
   "id": "f6131eb9",
   "metadata": {},
   "outputs": [
    {
     "data": {
      "text/plain": [
       "['Machine learning is a field devoted to understanding and building methods that \\nlet machines \"learn\" – that is, methods that leverage data to improve computer performance \\non some set of tasks',\n",
       " ' \\nAccording to Oxford Dictionaries, machine learning is “the use and \\ndevelopment of computer systems that are able to learn and adapt without following explicit \\ninstructions, by using algorithms and statistical models to analyse and draw inferences from\\npatterns in data”']"
      ]
     },
     "execution_count": 15,
     "metadata": {},
     "output_type": "execute_result"
    }
   ],
   "source": [
    "str2 = '''Machine learning is a field devoted to understanding and building methods that \n",
    "let machines \"learn\" – that is, methods that leverage data to improve computer performance \n",
    "on some set of tasks. \n",
    "According to Oxford Dictionaries, machine learning is “the use and \n",
    "development of computer systems that are able to learn and adapt without following explicit \n",
    "instructions, by using algorithms and statistical models to analyse and draw inferences from\n",
    "patterns in data”'''\n",
    "\n",
    "str2.split(\".\")"
   ]
  },
  {
   "cell_type": "code",
   "execution_count": 16,
   "id": "a6cd3ec5",
   "metadata": {},
   "outputs": [
    {
     "data": {
      "text/plain": [
       "['Machine learning is a field devoted to understanding and building methods that ',\n",
       " 'let machines \"learn\" – that is, methods that leverage data to improve computer performance ',\n",
       " 'on some set of tasks.']"
      ]
     },
     "execution_count": 16,
     "metadata": {},
     "output_type": "execute_result"
    }
   ],
   "source": [
    "str2 = '''Machine learning is a field devoted to understanding and building methods that \n",
    "let machines \"learn\" – that is, methods that leverage data to improve computer performance \n",
    "on some set of tasks.'''\n",
    "\n",
    "str2.split(\"\\n\")"
   ]
  },
  {
   "cell_type": "code",
   "execution_count": 17,
   "id": "0eee7ca4",
   "metadata": {},
   "outputs": [
    {
     "data": {
      "text/plain": [
       "3"
      ]
     },
     "execution_count": 17,
     "metadata": {},
     "output_type": "execute_result"
    }
   ],
   "source": [
    "len(str2.split(\"\\n\"))"
   ]
  },
  {
   "cell_type": "code",
   "execution_count": 18,
   "id": "0bc13e1f",
   "metadata": {},
   "outputs": [
    {
     "data": {
      "text/plain": [
       "['Python ', ' @ data Science Python Python']"
      ]
     },
     "execution_count": 18,
     "metadata": {},
     "output_type": "execute_result"
    }
   ],
   "source": [
    "str1 = \"Python and @ data Science Python Python\" \n",
    "\n",
    "str1.split('and')"
   ]
  },
  {
   "cell_type": "code",
   "execution_count": 24,
   "id": "154eb886",
   "metadata": {},
   "outputs": [
    {
     "data": {
      "text/plain": [
       "['E:\\\\03', 'Jun', 'EVe\\\\06_14_String', 'Functions\\\\String', 'Functions.ipynb']"
      ]
     },
     "execution_count": 24,
     "metadata": {},
     "output_type": "execute_result"
    }
   ],
   "source": [
    "path = r\"E:\\03 Jun EVe\\06_14_String Functions\\String Functions.ipynb\"\n",
    "path.split()"
   ]
  },
  {
   "cell_type": "code",
   "execution_count": 35,
   "id": "beef001e",
   "metadata": {},
   "outputs": [
    {
     "data": {
      "text/plain": [
       "['E:', '03 Jun EVe', '06_14_String Functions', 'String Functions.ipynb']"
      ]
     },
     "execution_count": 35,
     "metadata": {},
     "output_type": "execute_result"
    }
   ],
   "source": [
    "path = r\"E:\\03 Jun EVe\\06_14_String Functions\\String Functions.ipynb\"\n",
    "list1 = path.split(\"\\\\\")\n",
    "list1"
   ]
  },
  {
   "cell_type": "code",
   "execution_count": 33,
   "id": "0371146a",
   "metadata": {},
   "outputs": [
    {
     "data": {
      "text/plain": [
       "list"
      ]
     },
     "execution_count": 33,
     "metadata": {},
     "output_type": "execute_result"
    }
   ],
   "source": [
    "type(path.split(\"\\\\\"))"
   ]
  },
  {
   "cell_type": "code",
   "execution_count": 37,
   "id": "f3df0689",
   "metadata": {},
   "outputs": [
    {
     "data": {
      "text/plain": [
       "'String Functions.ipynb'"
      ]
     },
     "execution_count": 37,
     "metadata": {},
     "output_type": "execute_result"
    }
   ],
   "source": [
    "list1[3]"
   ]
  },
  {
   "cell_type": "code",
   "execution_count": 40,
   "id": "5e34c03f",
   "metadata": {},
   "outputs": [
    {
     "data": {
      "text/plain": [
       "'String Functions.ipynb'"
      ]
     },
     "execution_count": 40,
     "metadata": {},
     "output_type": "execute_result"
    }
   ],
   "source": [
    "list1[-1]"
   ]
  },
  {
   "cell_type": "code",
   "execution_count": 39,
   "id": "29d38dd7",
   "metadata": {},
   "outputs": [
    {
     "data": {
      "text/plain": [
       "'String Functions.ipynb'"
      ]
     },
     "execution_count": 39,
     "metadata": {},
     "output_type": "execute_result"
    }
   ],
   "source": [
    "path = r\"E:\\03 Jun EVe\\06_14_String Functions\\String Functions.ipynb\"\n",
    "path.split(\"\\\\\")[-1]"
   ]
  },
  {
   "cell_type": "markdown",
   "id": "be2702ff",
   "metadata": {},
   "source": [
    "# 15. join()"
   ]
  },
  {
   "cell_type": "code",
   "execution_count": null,
   "id": "5649b928",
   "metadata": {},
   "outputs": [],
   "source": [
    "Convert list into string\n",
    "\n",
    "\"substring\".join(list)"
   ]
  },
  {
   "cell_type": "code",
   "execution_count": 41,
   "id": "6bbcec45",
   "metadata": {},
   "outputs": [
    {
     "data": {
      "text/plain": [
       "'Python and @ data Science Python Python'"
      ]
     },
     "execution_count": 41,
     "metadata": {},
     "output_type": "execute_result"
    }
   ],
   "source": [
    "list1 = ['Python', 'and', '@', 'data', 'Science', 'Python', 'Python']\n",
    "\n",
    "\" \".join(list1)"
   ]
  },
  {
   "cell_type": "code",
   "execution_count": 42,
   "id": "3521cdc0",
   "metadata": {},
   "outputs": [
    {
     "data": {
      "text/plain": [
       "'Python   and   @   data   Science   Python   Python'"
      ]
     },
     "execution_count": 42,
     "metadata": {},
     "output_type": "execute_result"
    }
   ],
   "source": [
    "list1 = ['Python', 'and', '@', 'data', 'Science', 'Python', 'Python']\n",
    "\n",
    "\"   \".join(list1)"
   ]
  },
  {
   "cell_type": "code",
   "execution_count": 43,
   "id": "b37df2dd",
   "metadata": {},
   "outputs": [
    {
     "data": {
      "text/plain": [
       "'Python+and+@+data+Science+Python+Python'"
      ]
     },
     "execution_count": 43,
     "metadata": {},
     "output_type": "execute_result"
    }
   ],
   "source": [
    "list1 = ['Python', 'and', '@', 'data', 'Science', 'Python', 'Python']\n",
    "\n",
    "\"+\".join(list1)"
   ]
  },
  {
   "cell_type": "code",
   "execution_count": 46,
   "id": "67d5dddd",
   "metadata": {},
   "outputs": [
    {
     "name": "stdout",
     "output_type": "stream",
     "text": [
      "Python\n",
      "and\n",
      "@\n",
      "data\n",
      "Science\n",
      "Python\n",
      "Python\n"
     ]
    }
   ],
   "source": [
    "list1 = ['Python', 'and', '@', 'data', 'Science', 'Python', 'Python']\n",
    "\n",
    "str1 = \"\\n\".join(list1)\n",
    "print(str1)"
   ]
  },
  {
   "cell_type": "code",
   "execution_count": 47,
   "id": "396750dc",
   "metadata": {},
   "outputs": [
    {
     "data": {
      "text/plain": [
       "'Python###and###@###data###Science###Python###Python'"
      ]
     },
     "execution_count": 47,
     "metadata": {},
     "output_type": "execute_result"
    }
   ],
   "source": [
    "list1 = ['Python', 'and', '@', 'data', 'Science', 'Python', 'Python']\n",
    "\n",
    "\"###\".join(list1)"
   ]
  },
  {
   "cell_type": "code",
   "execution_count": null,
   "id": "bbc8fe11",
   "metadata": {},
   "outputs": [],
   "source": [
    "#Home Work\n",
    "str1 = \"Machine\"\n",
    "output = \"M-a-c-h-i-n-e\""
   ]
  },
  {
   "cell_type": "code",
   "execution_count": 48,
   "id": "97c74947",
   "metadata": {},
   "outputs": [
    {
     "data": {
      "text/plain": [
       "['B', 'h', 'A', 'R', 'A', 'T']"
      ]
     },
     "execution_count": 48,
     "metadata": {},
     "output_type": "execute_result"
    }
   ],
   "source": [
    "str2 = \"BhARAT\"\n",
    "list(str2)"
   ]
  },
  {
   "cell_type": "markdown",
   "id": "2678b2b7",
   "metadata": {},
   "source": [
    "# 16.endswith()"
   ]
  },
  {
   "cell_type": "code",
   "execution_count": null,
   "id": "32e80a77",
   "metadata": {},
   "outputs": [],
   "source": [
    "It returns boolean values (True / False)\n",
    "str1.endswith(\"Substring\")"
   ]
  },
  {
   "cell_type": "code",
   "execution_count": 50,
   "id": "8c96998d",
   "metadata": {},
   "outputs": [
    {
     "data": {
      "text/plain": [
       "bool"
      ]
     },
     "execution_count": 50,
     "metadata": {},
     "output_type": "execute_result"
    }
   ],
   "source": [
    "type(True)"
   ]
  },
  {
   "cell_type": "code",
   "execution_count": 51,
   "id": "d0274bc8",
   "metadata": {},
   "outputs": [
    {
     "data": {
      "text/plain": [
       "True"
      ]
     },
     "execution_count": 51,
     "metadata": {},
     "output_type": "execute_result"
    }
   ],
   "source": [
    "a = \"Python\"\n",
    "a.endswith(\"n\")"
   ]
  },
  {
   "cell_type": "code",
   "execution_count": 52,
   "id": "5320b5ff",
   "metadata": {},
   "outputs": [
    {
     "data": {
      "text/plain": [
       "False"
      ]
     },
     "execution_count": 52,
     "metadata": {},
     "output_type": "execute_result"
    }
   ],
   "source": [
    "a = \"Python\"\n",
    "a.endswith(\"N\")"
   ]
  },
  {
   "cell_type": "code",
   "execution_count": 53,
   "id": "79d9c484",
   "metadata": {},
   "outputs": [
    {
     "data": {
      "text/plain": [
       "True"
      ]
     },
     "execution_count": 53,
     "metadata": {},
     "output_type": "execute_result"
    }
   ],
   "source": [
    "str1 = \"Python and Data Science\"\n",
    "str1.endswith(\"Science\")"
   ]
  },
  {
   "cell_type": "code",
   "execution_count": 54,
   "id": "c273b446",
   "metadata": {},
   "outputs": [
    {
     "data": {
      "text/plain": [
       "False"
      ]
     },
     "execution_count": 54,
     "metadata": {},
     "output_type": "execute_result"
    }
   ],
   "source": [
    "str1 = \"Python and Data Science\"\n",
    "str1.endswith(\"and\")"
   ]
  },
  {
   "cell_type": "code",
   "execution_count": 56,
   "id": "f7018be1",
   "metadata": {},
   "outputs": [
    {
     "data": {
      "text/plain": [
       "True"
      ]
     },
     "execution_count": 56,
     "metadata": {},
     "output_type": "execute_result"
    }
   ],
   "source": [
    "path = r\"E:\\03 Jun EVe\\06_14_String Functions\\String Functions.ipynb\"\n",
    "path.endswith(\".ipynb\")"
   ]
  },
  {
   "cell_type": "code",
   "execution_count": 59,
   "id": "9486ebfa",
   "metadata": {},
   "outputs": [
    {
     "data": {
      "text/plain": [
       "True"
      ]
     },
     "execution_count": 59,
     "metadata": {},
     "output_type": "execute_result"
    }
   ],
   "source": [
    "text_file_path ='E:\\03 Jun EVe\\06_14_String Functions\\abc.txt'\n",
    "text_file_path.endswith(\".txt\")"
   ]
  },
  {
   "cell_type": "markdown",
   "id": "76ccaf7f",
   "metadata": {},
   "source": [
    "# 17. Startswith()"
   ]
  },
  {
   "cell_type": "code",
   "execution_count": 60,
   "id": "fcabcbee",
   "metadata": {},
   "outputs": [
    {
     "data": {
      "text/plain": [
       "True"
      ]
     },
     "execution_count": 60,
     "metadata": {},
     "output_type": "execute_result"
    }
   ],
   "source": [
    "str1 = \"Pythonm\"\n",
    "str1.startswith(\"P\")"
   ]
  },
  {
   "cell_type": "code",
   "execution_count": 61,
   "id": "d11e0418",
   "metadata": {},
   "outputs": [
    {
     "data": {
      "text/plain": [
       "True"
      ]
     },
     "execution_count": 61,
     "metadata": {},
     "output_type": "execute_result"
    }
   ],
   "source": [
    "str1 = \"Python and Data science\"\n",
    "str1.startswith(\"Python\")"
   ]
  },
  {
   "cell_type": "code",
   "execution_count": 62,
   "id": "7b9aa73a",
   "metadata": {},
   "outputs": [
    {
     "data": {
      "text/plain": [
       "False"
      ]
     },
     "execution_count": 62,
     "metadata": {},
     "output_type": "execute_result"
    }
   ],
   "source": [
    "str1 = \"Python and Data science\"\n",
    "str1.startswith(\"python\")"
   ]
  },
  {
   "cell_type": "markdown",
   "id": "327d24c4",
   "metadata": {},
   "source": [
    "# 18. isalnum()"
   ]
  },
  {
   "cell_type": "code",
   "execution_count": null,
   "id": "46f22bfd",
   "metadata": {},
   "outputs": [],
   "source": [
    "isalnum >> Is alpha Numeric?\n",
    "\n",
    "Apha    >>  a-z,A-Z,\n",
    "Numeric >>  0-9\n",
    "\n",
    "Note:\n",
    "    1. Space & Special character is not allowed\n",
    "    2. Returns True/False"
   ]
  },
  {
   "cell_type": "code",
   "execution_count": 64,
   "id": "70a8c88c",
   "metadata": {},
   "outputs": [
    {
     "data": {
      "text/plain": [
       "True"
      ]
     },
     "execution_count": 64,
     "metadata": {},
     "output_type": "execute_result"
    }
   ],
   "source": [
    "str1 = \"Sachine\"\n",
    "str1.isalnum()"
   ]
  },
  {
   "cell_type": "code",
   "execution_count": 65,
   "id": "289afc24",
   "metadata": {},
   "outputs": [
    {
     "data": {
      "text/plain": [
       "True"
      ]
     },
     "execution_count": 65,
     "metadata": {},
     "output_type": "execute_result"
    }
   ],
   "source": [
    "str1 = \"Sachine123456\"\n",
    "str1.isalnum()"
   ]
  },
  {
   "cell_type": "code",
   "execution_count": 66,
   "id": "2ae11dd1",
   "metadata": {},
   "outputs": [
    {
     "data": {
      "text/plain": [
       "True"
      ]
     },
     "execution_count": 66,
     "metadata": {},
     "output_type": "execute_result"
    }
   ],
   "source": [
    "str1 = \"12345\"\n",
    "str1.isalnum()"
   ]
  },
  {
   "cell_type": "code",
   "execution_count": 67,
   "id": "8bafdf4d",
   "metadata": {},
   "outputs": [
    {
     "data": {
      "text/plain": [
       "False"
      ]
     },
     "execution_count": 67,
     "metadata": {},
     "output_type": "execute_result"
    }
   ],
   "source": [
    "str1 = \"Sachine 123456\"  # Space is added\n",
    "str1.isalnum()"
   ]
  },
  {
   "cell_type": "code",
   "execution_count": 68,
   "id": "f5fedfa2",
   "metadata": {},
   "outputs": [
    {
     "data": {
      "text/plain": [
       "True"
      ]
     },
     "execution_count": 68,
     "metadata": {},
     "output_type": "execute_result"
    }
   ],
   "source": [
    "str1 = \"SACIHIN123456\"\n",
    "str1.isalnum()"
   ]
  },
  {
   "cell_type": "code",
   "execution_count": 69,
   "id": "bd511eaf",
   "metadata": {},
   "outputs": [
    {
     "data": {
      "text/plain": [
       "True"
      ]
     },
     "execution_count": 69,
     "metadata": {},
     "output_type": "execute_result"
    }
   ],
   "source": [
    "str1 = \"00SACIHIN123456\"\n",
    "str1.isalnum()"
   ]
  },
  {
   "cell_type": "code",
   "execution_count": 70,
   "id": "704df392",
   "metadata": {},
   "outputs": [
    {
     "data": {
      "text/plain": [
       "False"
      ]
     },
     "execution_count": 70,
     "metadata": {},
     "output_type": "execute_result"
    }
   ],
   "source": [
    "str1 = \"SACIHIN@123456\"\n",
    "str1.isalnum()"
   ]
  },
  {
   "cell_type": "markdown",
   "id": "3e93d83b",
   "metadata": {},
   "source": [
    "# 19. isalpha"
   ]
  },
  {
   "cell_type": "code",
   "execution_count": null,
   "id": "7d268c9f",
   "metadata": {},
   "outputs": [],
   "source": [
    "isalpha >> a-z, A-Z\n",
    "Note :\n",
    "    1. Space is not allowed"
   ]
  },
  {
   "cell_type": "code",
   "execution_count": 71,
   "id": "a5a2b5c7",
   "metadata": {},
   "outputs": [
    {
     "data": {
      "text/plain": [
       "True"
      ]
     },
     "execution_count": 71,
     "metadata": {},
     "output_type": "execute_result"
    }
   ],
   "source": [
    "str1 = \"Bharat\"\n",
    "str1.isalpha()"
   ]
  },
  {
   "cell_type": "code",
   "execution_count": 72,
   "id": "2e43339f",
   "metadata": {},
   "outputs": [
    {
     "data": {
      "text/plain": [
       "True"
      ]
     },
     "execution_count": 72,
     "metadata": {},
     "output_type": "execute_result"
    }
   ],
   "source": [
    "str1 = \"INDIA\"\n",
    "str1.isalpha()"
   ]
  },
  {
   "cell_type": "code",
   "execution_count": 73,
   "id": "0021f3e9",
   "metadata": {},
   "outputs": [
    {
     "data": {
      "text/plain": [
       "False"
      ]
     },
     "execution_count": 73,
     "metadata": {},
     "output_type": "execute_result"
    }
   ],
   "source": [
    "str1 = \"INDIA@777\"\n",
    "str1.isalpha()"
   ]
  },
  {
   "cell_type": "code",
   "execution_count": 74,
   "id": "6bbf3208",
   "metadata": {},
   "outputs": [
    {
     "data": {
      "text/plain": [
       "False"
      ]
     },
     "execution_count": 74,
     "metadata": {},
     "output_type": "execute_result"
    }
   ],
   "source": [
    "str1 = \"777\"\n",
    "str1.isalpha()"
   ]
  },
  {
   "cell_type": "code",
   "execution_count": 76,
   "id": "b3dda633",
   "metadata": {},
   "outputs": [
    {
     "data": {
      "text/plain": [
       "False"
      ]
     },
     "execution_count": 76,
     "metadata": {},
     "output_type": "execute_result"
    }
   ],
   "source": [
    "str1 = \"IND IA\"\n",
    "str1.isalpha()"
   ]
  },
  {
   "cell_type": "code",
   "execution_count": 77,
   "id": "fd208ea7",
   "metadata": {},
   "outputs": [
    {
     "name": "stdout",
     "output_type": "stream",
     "text": [
      "True\n",
      "True\n"
     ]
    }
   ],
   "source": [
    "str1 = \"INDIA\"\n",
    "print(str1.isalpha())\n",
    "print(str1.isalnum())"
   ]
  },
  {
   "cell_type": "markdown",
   "id": "e473b9c4",
   "metadata": {},
   "source": [
    "# 20.isdecimal()"
   ]
  },
  {
   "cell_type": "code",
   "execution_count": null,
   "id": "b63be6db",
   "metadata": {},
   "outputs": [],
   "source": [
    "only decimal >> 0-9\n",
    "\n",
    "Note:\n",
    "    1.True >> If the string contains only digits and unicode for digits\n",
    "    \n",
    "    0 >> '\\u0030'\n",
    "    1 >> '\\u0031'\n",
    "    .\n",
    "    .\n",
    "    .\n",
    "    9 >> \"\\u0039\"\n",
    "    \n",
    "    2. Space is not allowed\n",
    "    3. Dot is not allowed"
   ]
  },
  {
   "cell_type": "code",
   "execution_count": 1,
   "id": "0b628bd7",
   "metadata": {},
   "outputs": [
    {
     "data": {
      "text/plain": [
       "'0'"
      ]
     },
     "execution_count": 1,
     "metadata": {},
     "output_type": "execute_result"
    }
   ],
   "source": [
    "'\\u0030'"
   ]
  },
  {
   "cell_type": "code",
   "execution_count": 2,
   "id": "1f94ab94",
   "metadata": {},
   "outputs": [
    {
     "data": {
      "text/plain": [
       "'5'"
      ]
     },
     "execution_count": 2,
     "metadata": {},
     "output_type": "execute_result"
    }
   ],
   "source": [
    "'\\u0035'"
   ]
  },
  {
   "cell_type": "code",
   "execution_count": 78,
   "id": "f16bd2dd",
   "metadata": {},
   "outputs": [
    {
     "data": {
      "text/plain": [
       "True"
      ]
     },
     "execution_count": 78,
     "metadata": {},
     "output_type": "execute_result"
    }
   ],
   "source": [
    "str1 = \"1234\"\n",
    "str1.isdecimal()"
   ]
  },
  {
   "cell_type": "code",
   "execution_count": 79,
   "id": "8da8090a",
   "metadata": {},
   "outputs": [
    {
     "data": {
      "text/plain": [
       "False"
      ]
     },
     "execution_count": 79,
     "metadata": {},
     "output_type": "execute_result"
    }
   ],
   "source": [
    "str1 = \"Bhushan\"\n",
    "str1.isdecimal()"
   ]
  },
  {
   "cell_type": "code",
   "execution_count": 80,
   "id": "2e73d7ff",
   "metadata": {},
   "outputs": [
    {
     "data": {
      "text/plain": [
       "False"
      ]
     },
     "execution_count": 80,
     "metadata": {},
     "output_type": "execute_result"
    }
   ],
   "source": [
    "str1 = \"1234Python\"\n",
    "str1.isdecimal()"
   ]
  },
  {
   "cell_type": "code",
   "execution_count": 81,
   "id": "5130146b",
   "metadata": {},
   "outputs": [
    {
     "data": {
      "text/plain": [
       "False"
      ]
     },
     "execution_count": 81,
     "metadata": {},
     "output_type": "execute_result"
    }
   ],
   "source": [
    "str1 = \"12.34\"\n",
    "str1.isdecimal()"
   ]
  },
  {
   "cell_type": "code",
   "execution_count": 82,
   "id": "20f9a41b",
   "metadata": {},
   "outputs": [
    {
     "data": {
      "text/plain": [
       "False"
      ]
     },
     "execution_count": 82,
     "metadata": {},
     "output_type": "execute_result"
    }
   ],
   "source": [
    "str1 = \"1234 2345 5432\"\n",
    "str1.isdecimal()"
   ]
  },
  {
   "cell_type": "code",
   "execution_count": 83,
   "id": "2addae99",
   "metadata": {},
   "outputs": [
    {
     "data": {
      "text/plain": [
       "True"
      ]
     },
     "execution_count": 83,
     "metadata": {},
     "output_type": "execute_result"
    }
   ],
   "source": [
    "str1 = \"\\u0030\"\n",
    "str1.isdecimal()"
   ]
  },
  {
   "cell_type": "code",
   "execution_count": 84,
   "id": "96eaa72c",
   "metadata": {},
   "outputs": [
    {
     "data": {
      "text/plain": [
       "True"
      ]
     },
     "execution_count": 84,
     "metadata": {},
     "output_type": "execute_result"
    }
   ],
   "source": [
    "str1 = \"\\u0035\"\n",
    "str1.isdecimal()"
   ]
  },
  {
   "cell_type": "code",
   "execution_count": 85,
   "id": "9e87014b",
   "metadata": {},
   "outputs": [
    {
     "data": {
      "text/plain": [
       "False"
      ]
     },
     "execution_count": 85,
     "metadata": {},
     "output_type": "execute_result"
    }
   ],
   "source": [
    "str1 = \"12@34\"\n",
    "str1.isdecimal()"
   ]
  },
  {
   "cell_type": "code",
   "execution_count": 86,
   "id": "21041ccc",
   "metadata": {},
   "outputs": [
    {
     "data": {
      "text/plain": [
       "'I am Indian'"
      ]
     },
     "execution_count": 86,
     "metadata": {},
     "output_type": "execute_result"
    }
   ],
   "source": [
    "list1 = [\"I\",\"am\",\"Indian\"]\n",
    "\n",
    "\" \".join(list1)"
   ]
  },
  {
   "cell_type": "markdown",
   "id": "0a2b174d",
   "metadata": {},
   "source": [
    "# 21 isdigit()"
   ]
  },
  {
   "cell_type": "code",
   "execution_count": null,
   "id": "403c0e6d",
   "metadata": {},
   "outputs": [],
   "source": [
    "True >> If the string contains digits, unicodes for digits(0-9)\n",
    "True >> If the string contains subscripts , suerscripts(unicode)\n",
    "\n",
    "    0 >> '\\u0030'\n",
    "    1 >> '\\u0031'\n",
    "    .\n",
    "    .\n",
    "    .\n",
    "    9 >> \"\\u0039\"\n",
    "    \n",
    "    Spaces are not allowed\n",
    "    dot is not allowed"
   ]
  },
  {
   "cell_type": "code",
   "execution_count": 19,
   "id": "0616d96b",
   "metadata": {},
   "outputs": [
    {
     "data": {
      "text/plain": [
       "True"
      ]
     },
     "execution_count": 19,
     "metadata": {},
     "output_type": "execute_result"
    }
   ],
   "source": [
    "str1  = \"1234\"\n",
    "str1.isdigit()"
   ]
  },
  {
   "cell_type": "code",
   "execution_count": 20,
   "id": "123efd2f",
   "metadata": {},
   "outputs": [
    {
     "data": {
      "text/plain": [
       "False"
      ]
     },
     "execution_count": 20,
     "metadata": {},
     "output_type": "execute_result"
    }
   ],
   "source": [
    "str1  = \"12 34\"\n",
    "str1.isdigit()"
   ]
  },
  {
   "cell_type": "code",
   "execution_count": 21,
   "id": "242b5a4b",
   "metadata": {},
   "outputs": [
    {
     "data": {
      "text/plain": [
       "False"
      ]
     },
     "execution_count": 21,
     "metadata": {},
     "output_type": "execute_result"
    }
   ],
   "source": [
    "str1  = \"12.34\"\n",
    "str1.isdigit()"
   ]
  },
  {
   "cell_type": "code",
   "execution_count": null,
   "id": "c49ca804",
   "metadata": {},
   "outputs": [],
   "source": [
    "superscripts>> \n",
    "\"\\u2079\"\n",
    "\n",
    "U+00Bx  "
   ]
  },
  {
   "cell_type": "code",
   "execution_count": 25,
   "id": "116b2ed4",
   "metadata": {},
   "outputs": [
    {
     "data": {
      "text/plain": [
       "'¾'"
      ]
     },
     "execution_count": 25,
     "metadata": {},
     "output_type": "execute_result"
    }
   ],
   "source": [
    "\"\\u00BE\""
   ]
  },
  {
   "cell_type": "code",
   "execution_count": null,
   "id": "87bb1871",
   "metadata": {},
   "outputs": [],
   "source": [
    "Substripts >>\n",
    "\n",
    "U+208x >> Numbers\n",
    "U+209x >> alphabets"
   ]
  },
  {
   "cell_type": "code",
   "execution_count": 26,
   "id": "b0a5cd5d",
   "metadata": {},
   "outputs": [
    {
     "data": {
      "text/plain": [
       "'₁'"
      ]
     },
     "execution_count": 26,
     "metadata": {},
     "output_type": "execute_result"
    }
   ],
   "source": [
    "\"\\u2081\""
   ]
  },
  {
   "cell_type": "code",
   "execution_count": 27,
   "id": "1bf73cc0",
   "metadata": {},
   "outputs": [
    {
     "data": {
      "text/plain": [
       "'₂'"
      ]
     },
     "execution_count": 27,
     "metadata": {},
     "output_type": "execute_result"
    }
   ],
   "source": [
    "\"\\u2082\""
   ]
  },
  {
   "cell_type": "code",
   "execution_count": 28,
   "id": "94e210e0",
   "metadata": {},
   "outputs": [
    {
     "data": {
      "text/plain": [
       "'ₑ'"
      ]
     },
     "execution_count": 28,
     "metadata": {},
     "output_type": "execute_result"
    }
   ],
   "source": [
    "\"\\u2091\""
   ]
  },
  {
   "cell_type": "code",
   "execution_count": 29,
   "id": "b4d1491f",
   "metadata": {},
   "outputs": [
    {
     "data": {
      "text/plain": [
       "'ₓ'"
      ]
     },
     "execution_count": 29,
     "metadata": {},
     "output_type": "execute_result"
    }
   ],
   "source": [
    "\"\\u2093\""
   ]
  },
  {
   "cell_type": "code",
   "execution_count": 30,
   "id": "bc20986c",
   "metadata": {},
   "outputs": [
    {
     "data": {
      "text/plain": [
       "True"
      ]
     },
     "execution_count": 30,
     "metadata": {},
     "output_type": "execute_result"
    }
   ],
   "source": [
    "str1  = '₂' # \"\\u2082\"\n",
    "str1.isdigit()"
   ]
  },
  {
   "cell_type": "code",
   "execution_count": 31,
   "id": "b581e849",
   "metadata": {},
   "outputs": [
    {
     "data": {
      "text/plain": [
       "False"
      ]
     },
     "execution_count": 31,
     "metadata": {},
     "output_type": "execute_result"
    }
   ],
   "source": [
    "str1  = \"\\u2093\"   #'ₓ'\n",
    "str1.isdigit()"
   ]
  },
  {
   "cell_type": "code",
   "execution_count": null,
   "id": "3a9d645b",
   "metadata": {},
   "outputs": [],
   "source": []
  },
  {
   "cell_type": "markdown",
   "id": "095625ee",
   "metadata": {},
   "source": [
    "# 21 isnumeric()"
   ]
  },
  {
   "cell_type": "code",
   "execution_count": null,
   "id": "e3bc8f56",
   "metadata": {},
   "outputs": [],
   "source": [
    "True >> If the string contains digits, unicodes for digits(0-9)\n",
    "True >> If the string contains subscripts , suerscripts(unicode), vulgar fraction(6/5)\n",
    "\n",
    "    0 >> '\\u0030'\n",
    "    1 >> '\\u0031'\n",
    "    .\n",
    "    .\n",
    "    .\n",
    "    9 >> \"\\u0039\"\n",
    "    \n",
    "    Spaces are not allowed\n",
    "    dot is not allowed"
   ]
  },
  {
   "cell_type": "code",
   "execution_count": 3,
   "id": "7e5d20d0",
   "metadata": {},
   "outputs": [
    {
     "data": {
      "text/plain": [
       "False"
      ]
     },
     "execution_count": 3,
     "metadata": {},
     "output_type": "execute_result"
    }
   ],
   "source": [
    "str1 = \"pyhton\"\n",
    "\n",
    "str1.isnumeric()"
   ]
  },
  {
   "cell_type": "code",
   "execution_count": 4,
   "id": "a8b28870",
   "metadata": {},
   "outputs": [
    {
     "data": {
      "text/plain": [
       "True"
      ]
     },
     "execution_count": 4,
     "metadata": {},
     "output_type": "execute_result"
    }
   ],
   "source": [
    "str1 = \"12345\"\n",
    "\n",
    "str1.isnumeric()"
   ]
  },
  {
   "cell_type": "code",
   "execution_count": 5,
   "id": "585835e5",
   "metadata": {},
   "outputs": [
    {
     "data": {
      "text/plain": [
       "False"
      ]
     },
     "execution_count": 5,
     "metadata": {},
     "output_type": "execute_result"
    }
   ],
   "source": [
    "str1 = \"123 45\"\n",
    "\n",
    "str1.isnumeric()"
   ]
  },
  {
   "cell_type": "code",
   "execution_count": 6,
   "id": "26f4bfdf",
   "metadata": {},
   "outputs": [
    {
     "data": {
      "text/plain": [
       "False"
      ]
     },
     "execution_count": 6,
     "metadata": {},
     "output_type": "execute_result"
    }
   ],
   "source": [
    "str1 = \"123-45\"\n",
    "\n",
    "str1.isnumeric()"
   ]
  },
  {
   "cell_type": "code",
   "execution_count": 7,
   "id": "c5f87336",
   "metadata": {},
   "outputs": [
    {
     "data": {
      "text/plain": [
       "False"
      ]
     },
     "execution_count": 7,
     "metadata": {},
     "output_type": "execute_result"
    }
   ],
   "source": [
    "str1 = \"123.45\"\n",
    "\n",
    "str1.isnumeric()"
   ]
  },
  {
   "cell_type": "code",
   "execution_count": 8,
   "id": "fa767503",
   "metadata": {},
   "outputs": [
    {
     "data": {
      "text/plain": [
       "True"
      ]
     },
     "execution_count": 8,
     "metadata": {},
     "output_type": "execute_result"
    }
   ],
   "source": [
    "str1 = \"\\u0030\"   # 0\n",
    "\n",
    "str1.isnumeric()"
   ]
  },
  {
   "cell_type": "code",
   "execution_count": 9,
   "id": "fa2d57f3",
   "metadata": {},
   "outputs": [
    {
     "data": {
      "text/plain": [
       "True"
      ]
     },
     "execution_count": 9,
     "metadata": {},
     "output_type": "execute_result"
    }
   ],
   "source": [
    "str1 = \"\\u0039\"   # 0\n",
    "\n",
    "str1.isnumeric()"
   ]
  },
  {
   "cell_type": "code",
   "execution_count": 10,
   "id": "891fdf5f",
   "metadata": {},
   "outputs": [
    {
     "data": {
      "text/plain": [
       "'@'"
      ]
     },
     "execution_count": 10,
     "metadata": {},
     "output_type": "execute_result"
    }
   ],
   "source": [
    "\"\\u0040\""
   ]
  },
  {
   "cell_type": "code",
   "execution_count": 11,
   "id": "86a0770b",
   "metadata": {},
   "outputs": [
    {
     "data": {
      "text/plain": [
       "False"
      ]
     },
     "execution_count": 11,
     "metadata": {},
     "output_type": "execute_result"
    }
   ],
   "source": [
    "str1 = \"\\u0040\"   # @\n",
    "\n",
    "str1.isnumeric()"
   ]
  },
  {
   "cell_type": "code",
   "execution_count": 12,
   "id": "480de154",
   "metadata": {},
   "outputs": [
    {
     "data": {
      "text/plain": [
       "'⁹'"
      ]
     },
     "execution_count": 12,
     "metadata": {},
     "output_type": "execute_result"
    }
   ],
   "source": [
    "\"\\u2079\" #>> superscript"
   ]
  },
  {
   "cell_type": "code",
   "execution_count": 13,
   "id": "db8a2fc6",
   "metadata": {},
   "outputs": [
    {
     "data": {
      "text/plain": [
       "'9'"
      ]
     },
     "execution_count": 13,
     "metadata": {},
     "output_type": "execute_result"
    }
   ],
   "source": [
    "\"\\u0039\""
   ]
  },
  {
   "cell_type": "code",
   "execution_count": 14,
   "id": "21507ee2",
   "metadata": {},
   "outputs": [
    {
     "data": {
      "text/plain": [
       "True"
      ]
     },
     "execution_count": 14,
     "metadata": {},
     "output_type": "execute_result"
    }
   ],
   "source": [
    "str1 = \"\\u2079\"   \n",
    "\n",
    "str1.isnumeric()"
   ]
  },
  {
   "cell_type": "code",
   "execution_count": 15,
   "id": "b22d2d3d",
   "metadata": {},
   "outputs": [
    {
     "data": {
      "text/plain": [
       "'½'"
      ]
     },
     "execution_count": 15,
     "metadata": {},
     "output_type": "execute_result"
    }
   ],
   "source": [
    "\"\\u00BD\""
   ]
  },
  {
   "cell_type": "code",
   "execution_count": 17,
   "id": "96a10851",
   "metadata": {},
   "outputs": [
    {
     "data": {
      "text/plain": [
       "'¾'"
      ]
     },
     "execution_count": 17,
     "metadata": {},
     "output_type": "execute_result"
    }
   ],
   "source": [
    "\"\\u00BE\""
   ]
  },
  {
   "cell_type": "code",
   "execution_count": 16,
   "id": "db0a6519",
   "metadata": {},
   "outputs": [
    {
     "data": {
      "text/plain": [
       "True"
      ]
     },
     "execution_count": 16,
     "metadata": {},
     "output_type": "execute_result"
    }
   ],
   "source": [
    "str1 = \"\\u00BD\"   \n",
    "\n",
    "str1.isnumeric()"
   ]
  },
  {
   "cell_type": "code",
   "execution_count": 18,
   "id": "0e942b69",
   "metadata": {},
   "outputs": [
    {
     "data": {
      "text/plain": [
       "False"
      ]
     },
     "execution_count": 18,
     "metadata": {},
     "output_type": "execute_result"
    }
   ],
   "source": [
    "str1 = \"1/2\"\n",
    "str1.isnumeric()"
   ]
  },
  {
   "cell_type": "code",
   "execution_count": null,
   "id": "66f17490",
   "metadata": {},
   "outputs": [],
   "source": [
    "isdecimal  >> 0-9 , unicode(0-9)\n",
    "isdigit    >> 0-9 , unicode(0-9), subscripts and superscripts\n",
    "isnumeric  >> 0-9 , unicode(0-9), subscripts and superscripts, vulgar fraction"
   ]
  },
  {
   "cell_type": "code",
   "execution_count": 33,
   "id": "e03b78c6",
   "metadata": {},
   "outputs": [
    {
     "name": "stdout",
     "output_type": "stream",
     "text": [
      "False\n",
      "False\n",
      "False\n"
     ]
    }
   ],
   "source": [
    "str1 = \"123python\"\n",
    "print(str1.isdecimal())\n",
    "print(str1.isdigit())\n",
    "print(str1.isnumeric())"
   ]
  },
  {
   "cell_type": "code",
   "execution_count": 34,
   "id": "ddb2215d",
   "metadata": {},
   "outputs": [
    {
     "name": "stdout",
     "output_type": "stream",
     "text": [
      "True\n",
      "True\n",
      "True\n"
     ]
    }
   ],
   "source": [
    "str1 = \"123\"\n",
    "print(str1.isdecimal())\n",
    "print(str1.isdigit())\n",
    "print(str1.isnumeric())"
   ]
  },
  {
   "cell_type": "code",
   "execution_count": 35,
   "id": "7c2fecab",
   "metadata": {},
   "outputs": [
    {
     "name": "stdout",
     "output_type": "stream",
     "text": [
      "False\n",
      "False\n",
      "False\n"
     ]
    }
   ],
   "source": [
    "str1 = \"123 234\"\n",
    "print(str1.isdecimal())\n",
    "print(str1.isdigit())\n",
    "print(str1.isnumeric())"
   ]
  },
  {
   "cell_type": "code",
   "execution_count": 36,
   "id": "52f8bccd",
   "metadata": {},
   "outputs": [
    {
     "data": {
      "text/plain": [
       "'²'"
      ]
     },
     "execution_count": 36,
     "metadata": {},
     "output_type": "execute_result"
    }
   ],
   "source": [
    "\"\\u00B2\""
   ]
  },
  {
   "cell_type": "code",
   "execution_count": 37,
   "id": "ea97d749",
   "metadata": {},
   "outputs": [
    {
     "name": "stdout",
     "output_type": "stream",
     "text": [
      "False\n",
      "True\n",
      "True\n"
     ]
    }
   ],
   "source": [
    "str1 = \"\\u00B2\"\n",
    "print(str1.isdecimal()) #False \n",
    "print(str1.isdigit())   #True\n",
    "print(str1.isnumeric()) #True"
   ]
  },
  {
   "cell_type": "code",
   "execution_count": 38,
   "id": "6f41ad48",
   "metadata": {},
   "outputs": [
    {
     "data": {
      "text/plain": [
       "'¾'"
      ]
     },
     "execution_count": 38,
     "metadata": {},
     "output_type": "execute_result"
    }
   ],
   "source": [
    "\"\\u00BE\""
   ]
  },
  {
   "cell_type": "code",
   "execution_count": 39,
   "id": "ea41583d",
   "metadata": {},
   "outputs": [
    {
     "name": "stdout",
     "output_type": "stream",
     "text": [
      "False\n",
      "False\n",
      "True\n"
     ]
    }
   ],
   "source": [
    "str1 = \"\\u00BE\"\n",
    "print(str1.isdecimal()) #False \n",
    "print(str1.isdigit())   #Flase\n",
    "print(str1.isnumeric()) #True"
   ]
  },
  {
   "cell_type": "code",
   "execution_count": 42,
   "id": "8293ea2d",
   "metadata": {},
   "outputs": [
    {
     "name": "stdout",
     "output_type": "stream",
     "text": [
      "False\n",
      "False\n",
      "False\n"
     ]
    }
   ],
   "source": [
    "str1 = '∞'\n",
    "print(str1.isdecimal()) #False \n",
    "print(str1.isdigit())   #Flase\n",
    "print(str1.isnumeric()) #True"
   ]
  },
  {
   "cell_type": "markdown",
   "id": "1f1a7da0",
   "metadata": {},
   "source": [
    "# 22. islower()"
   ]
  },
  {
   "cell_type": "code",
   "execution_count": null,
   "id": "555e27eb",
   "metadata": {},
   "outputs": [],
   "source": [
    "True >> if all alphabets are in lower case\n",
    "\n",
    "Space and special char are allowed"
   ]
  },
  {
   "cell_type": "code",
   "execution_count": 43,
   "id": "05c9ec26",
   "metadata": {},
   "outputs": [
    {
     "data": {
      "text/plain": [
       "True"
      ]
     },
     "execution_count": 43,
     "metadata": {},
     "output_type": "execute_result"
    }
   ],
   "source": [
    "str1 = \"python\"\n",
    "str1.islower()"
   ]
  },
  {
   "cell_type": "code",
   "execution_count": 44,
   "id": "82aad8fc",
   "metadata": {},
   "outputs": [
    {
     "data": {
      "text/plain": [
       "False"
      ]
     },
     "execution_count": 44,
     "metadata": {},
     "output_type": "execute_result"
    }
   ],
   "source": [
    "str1 = \"python and machien Learing\"\n",
    "str1.islower()"
   ]
  },
  {
   "cell_type": "code",
   "execution_count": 45,
   "id": "86ee4de6",
   "metadata": {},
   "outputs": [
    {
     "data": {
      "text/plain": [
       "True"
      ]
     },
     "execution_count": 45,
     "metadata": {},
     "output_type": "execute_result"
    }
   ],
   "source": [
    "str1 = \"pyt hon\"\n",
    "str1.islower()"
   ]
  },
  {
   "cell_type": "code",
   "execution_count": 46,
   "id": "b6b62d36",
   "metadata": {},
   "outputs": [
    {
     "data": {
      "text/plain": [
       "True"
      ]
     },
     "execution_count": 46,
     "metadata": {},
     "output_type": "execute_result"
    }
   ],
   "source": [
    "str1 = \"pyt hon#\"\n",
    "str1.islower()"
   ]
  },
  {
   "cell_type": "code",
   "execution_count": 47,
   "id": "2153877f",
   "metadata": {},
   "outputs": [
    {
     "data": {
      "text/plain": [
       "True"
      ]
     },
     "execution_count": 47,
     "metadata": {},
     "output_type": "execute_result"
    }
   ],
   "source": [
    "str1 = \"pyt hon@\"\n",
    "str1.islower()"
   ]
  },
  {
   "cell_type": "markdown",
   "id": "1b784fe0",
   "metadata": {},
   "source": [
    "# 23.isupper()"
   ]
  },
  {
   "cell_type": "code",
   "execution_count": null,
   "id": "b0721d2d",
   "metadata": {},
   "outputs": [],
   "source": [
    "True >> if all alphabets are in upper case\n",
    "\n",
    "Space and special char are allowed"
   ]
  },
  {
   "cell_type": "code",
   "execution_count": 49,
   "id": "7643287e",
   "metadata": {},
   "outputs": [
    {
     "data": {
      "text/plain": [
       "True"
      ]
     },
     "execution_count": 49,
     "metadata": {},
     "output_type": "execute_result"
    }
   ],
   "source": [
    "str1 = \"PYTHON\"\n",
    "str1.isupper()"
   ]
  },
  {
   "cell_type": "code",
   "execution_count": 50,
   "id": "36ae287d",
   "metadata": {},
   "outputs": [
    {
     "data": {
      "text/plain": [
       "True"
      ]
     },
     "execution_count": 50,
     "metadata": {},
     "output_type": "execute_result"
    }
   ],
   "source": [
    "str1 = \"PYT HON \"\n",
    "str1.isupper()"
   ]
  },
  {
   "cell_type": "code",
   "execution_count": 51,
   "id": "9cd9ab9e",
   "metadata": {},
   "outputs": [
    {
     "data": {
      "text/plain": [
       "True"
      ]
     },
     "execution_count": 51,
     "metadata": {},
     "output_type": "execute_result"
    }
   ],
   "source": [
    "str1 = \"PYT HON $ \"\n",
    "str1.isupper()"
   ]
  },
  {
   "cell_type": "code",
   "execution_count": 52,
   "id": "4fab6540",
   "metadata": {},
   "outputs": [
    {
     "data": {
      "text/plain": [
       "False"
      ]
     },
     "execution_count": 52,
     "metadata": {},
     "output_type": "execute_result"
    }
   ],
   "source": [
    "str1 = \"PYTHON and DATA SCIENCE\"\n",
    "str1.isupper()"
   ]
  },
  {
   "cell_type": "markdown",
   "id": "e815f896",
   "metadata": {},
   "source": [
    "# 25.istitle()"
   ]
  },
  {
   "cell_type": "code",
   "execution_count": null,
   "id": "e8a95d68",
   "metadata": {},
   "outputs": [],
   "source": [
    "True >> If all the string present in title case\n",
    "\n",
    "space and special char are allowed"
   ]
  },
  {
   "cell_type": "code",
   "execution_count": 53,
   "id": "db941787",
   "metadata": {},
   "outputs": [
    {
     "data": {
      "text/plain": [
       "True"
      ]
     },
     "execution_count": 53,
     "metadata": {},
     "output_type": "execute_result"
    }
   ],
   "source": [
    "str1 = \"Mohoit Sharama\"\n",
    "str1.istitle()"
   ]
  },
  {
   "cell_type": "code",
   "execution_count": 54,
   "id": "4bc04c68",
   "metadata": {},
   "outputs": [
    {
     "data": {
      "text/plain": [
       "False"
      ]
     },
     "execution_count": 54,
     "metadata": {},
     "output_type": "execute_result"
    }
   ],
   "source": [
    "str1 = \"Python and Data Science\"\n",
    "str1.istitle()"
   ]
  },
  {
   "cell_type": "code",
   "execution_count": 55,
   "id": "9f55b8a1",
   "metadata": {},
   "outputs": [
    {
     "data": {
      "text/plain": [
       "True"
      ]
     },
     "execution_count": 55,
     "metadata": {},
     "output_type": "execute_result"
    }
   ],
   "source": [
    "str1 = \"Python And Data Science\"\n",
    "str1.istitle()"
   ]
  },
  {
   "cell_type": "code",
   "execution_count": 56,
   "id": "d93feff6",
   "metadata": {},
   "outputs": [
    {
     "data": {
      "text/plain": [
       "False"
      ]
     },
     "execution_count": 56,
     "metadata": {},
     "output_type": "execute_result"
    }
   ],
   "source": [
    "str1 = \" \"\n",
    "str1.istitle()"
   ]
  },
  {
   "cell_type": "code",
   "execution_count": 57,
   "id": "879f49b1",
   "metadata": {},
   "outputs": [
    {
     "data": {
      "text/plain": [
       "True"
      ]
     },
     "execution_count": 57,
     "metadata": {},
     "output_type": "execute_result"
    }
   ],
   "source": [
    "str1 = \" Pyhton_Data\"\n",
    "str1.istitle()"
   ]
  },
  {
   "cell_type": "code",
   "execution_count": 58,
   "id": "2dec64a7",
   "metadata": {},
   "outputs": [
    {
     "data": {
      "text/plain": [
       "True"
      ]
     },
     "execution_count": 58,
     "metadata": {},
     "output_type": "execute_result"
    }
   ],
   "source": [
    "str1 = \" Pyhton.Data\"\n",
    "str1.istitle()"
   ]
  },
  {
   "cell_type": "code",
   "execution_count": 59,
   "id": "197736e1",
   "metadata": {},
   "outputs": [
    {
     "data": {
      "text/plain": [
       "False"
      ]
     },
     "execution_count": 59,
     "metadata": {},
     "output_type": "execute_result"
    }
   ],
   "source": [
    "str1 = \" Pyhton.data\"\n",
    "str1.istitle()"
   ]
  },
  {
   "cell_type": "markdown",
   "id": "a4ad4e29",
   "metadata": {},
   "source": [
    "# 26.isspace"
   ]
  },
  {
   "cell_type": "code",
   "execution_count": null,
   "id": "adb97163",
   "metadata": {},
   "outputs": [],
   "source": [
    "True >> If string contains only space(one or more spaces)"
   ]
  },
  {
   "cell_type": "code",
   "execution_count": 60,
   "id": "55681465",
   "metadata": {},
   "outputs": [
    {
     "data": {
      "text/plain": [
       "True"
      ]
     },
     "execution_count": 60,
     "metadata": {},
     "output_type": "execute_result"
    }
   ],
   "source": [
    "str1 = \" \"\n",
    "str1.isspace()"
   ]
  },
  {
   "cell_type": "code",
   "execution_count": 61,
   "id": "4488a7ba",
   "metadata": {},
   "outputs": [
    {
     "data": {
      "text/plain": [
       "True"
      ]
     },
     "execution_count": 61,
     "metadata": {},
     "output_type": "execute_result"
    }
   ],
   "source": [
    "str1 = \"        \"\n",
    "str1.isspace()"
   ]
  },
  {
   "cell_type": "code",
   "execution_count": 62,
   "id": "8cdead81",
   "metadata": {},
   "outputs": [
    {
     "data": {
      "text/plain": [
       "False"
      ]
     },
     "execution_count": 62,
     "metadata": {},
     "output_type": "execute_result"
    }
   ],
   "source": [
    "str1 = \"        a\"\n",
    "str1.isspace()"
   ]
  },
  {
   "cell_type": "code",
   "execution_count": 63,
   "id": "2d1db26a",
   "metadata": {},
   "outputs": [
    {
     "data": {
      "text/plain": [
       "False"
      ]
     },
     "execution_count": 63,
     "metadata": {},
     "output_type": "execute_result"
    }
   ],
   "source": [
    "str1 = \"        @\"\n",
    "str1.isspace()"
   ]
  },
  {
   "cell_type": "markdown",
   "id": "25e4e9d1",
   "metadata": {},
   "source": [
    "# 27. Zfill"
   ]
  },
  {
   "cell_type": "code",
   "execution_count": null,
   "id": "12406f4b",
   "metadata": {},
   "outputs": [],
   "source": [
    "Zero filling"
   ]
  },
  {
   "cell_type": "code",
   "execution_count": 64,
   "id": "5441da15",
   "metadata": {},
   "outputs": [
    {
     "data": {
      "text/plain": [
       "6"
      ]
     },
     "execution_count": 64,
     "metadata": {},
     "output_type": "execute_result"
    }
   ],
   "source": [
    "str1 = \"python\"\n",
    "len(str1)"
   ]
  },
  {
   "cell_type": "code",
   "execution_count": 65,
   "id": "7ff532be",
   "metadata": {},
   "outputs": [
    {
     "data": {
      "text/plain": [
       "'0Bhakt'"
      ]
     },
     "execution_count": 65,
     "metadata": {},
     "output_type": "execute_result"
    }
   ],
   "source": [
    "str1 = \"Bhakt\"\n",
    "str1.zfill(6)"
   ]
  },
  {
   "cell_type": "code",
   "execution_count": 66,
   "id": "eb8ced31",
   "metadata": {},
   "outputs": [
    {
     "data": {
      "text/plain": [
       "'00Bhakt'"
      ]
     },
     "execution_count": 66,
     "metadata": {},
     "output_type": "execute_result"
    }
   ],
   "source": [
    "str1 = \"Bhakt\"\n",
    "str1.zfill(7) # 7 >> string length"
   ]
  },
  {
   "cell_type": "code",
   "execution_count": 67,
   "id": "12da4907",
   "metadata": {},
   "outputs": [
    {
     "data": {
      "text/plain": [
       "'Bhakt'"
      ]
     },
     "execution_count": 67,
     "metadata": {},
     "output_type": "execute_result"
    }
   ],
   "source": [
    "str1 = \"Bhakt\"\n",
    "str1.zfill(4)"
   ]
  },
  {
   "cell_type": "markdown",
   "id": "e570168c",
   "metadata": {},
   "source": [
    "# 27.center"
   ]
  },
  {
   "cell_type": "code",
   "execution_count": 68,
   "id": "63fc35a6",
   "metadata": {},
   "outputs": [
    {
     "data": {
      "text/plain": [
       "'-78'"
      ]
     },
     "execution_count": 68,
     "metadata": {},
     "output_type": "execute_result"
    }
   ],
   "source": [
    "str1 = \"-78\"\n",
    "str1"
   ]
  },
  {
   "cell_type": "code",
   "execution_count": 69,
   "id": "39a1162d",
   "metadata": {},
   "outputs": [
    {
     "data": {
      "text/plain": [
       "' python '"
      ]
     },
     "execution_count": 69,
     "metadata": {},
     "output_type": "execute_result"
    }
   ],
   "source": [
    "str1 = \"python\"\n",
    "str1.center(8)"
   ]
  },
  {
   "cell_type": "code",
   "execution_count": 70,
   "id": "7e41b131",
   "metadata": {},
   "outputs": [
    {
     "data": {
      "text/plain": [
       "'       python       '"
      ]
     },
     "execution_count": 70,
     "metadata": {},
     "output_type": "execute_result"
    }
   ],
   "source": [
    "str1 = \"python\"\n",
    "str1.center(20)"
   ]
  },
  {
   "cell_type": "code",
   "execution_count": 71,
   "id": "c76d3156",
   "metadata": {},
   "outputs": [
    {
     "data": {
      "text/plain": [
       "'*************************************python*************************************'"
      ]
     },
     "execution_count": 71,
     "metadata": {},
     "output_type": "execute_result"
    }
   ],
   "source": [
    "str1 = \"python\"\n",
    "str1.center(80,\"*\")"
   ]
  },
  {
   "cell_type": "code",
   "execution_count": 72,
   "id": "e270fedb",
   "metadata": {},
   "outputs": [
    {
     "data": {
      "text/plain": [
       "'#####################################python#####################################'"
      ]
     },
     "execution_count": 72,
     "metadata": {},
     "output_type": "execute_result"
    }
   ],
   "source": [
    "str1 = \"python\"\n",
    "str1.center(80,\"#\")"
   ]
  },
  {
   "cell_type": "code",
   "execution_count": 75,
   "id": "db2e605e",
   "metadata": {},
   "outputs": [
    {
     "name": "stdout",
     "output_type": "stream",
     "text": [
      "****python***\n",
      "13\n"
     ]
    }
   ],
   "source": [
    "str1 = \"python\"\n",
    "print(str1.center(13,\"*\")) # 13 >> len(string)\n",
    "print(len(str1.center(13,\"*\")))"
   ]
  },
  {
   "cell_type": "code",
   "execution_count": 76,
   "id": "55b8b19e",
   "metadata": {},
   "outputs": [
    {
     "data": {
      "text/plain": [
       "'***python@***'"
      ]
     },
     "execution_count": 76,
     "metadata": {},
     "output_type": "execute_result"
    }
   ],
   "source": [
    "str1 = \"python@\"\n",
    "str1.center(13,\"*\")"
   ]
  },
  {
   "cell_type": "code",
   "execution_count": 77,
   "id": "116bb646",
   "metadata": {},
   "outputs": [
    {
     "data": {
      "text/plain": [
       "'555python@555'"
      ]
     },
     "execution_count": 77,
     "metadata": {},
     "output_type": "execute_result"
    }
   ],
   "source": [
    "str1 = \"python@\"\n",
    "str1.center(13,\"5\")"
   ]
  },
  {
   "cell_type": "code",
   "execution_count": null,
   "id": "f69c2a08",
   "metadata": {},
   "outputs": [],
   "source": []
  }
 ],
 "metadata": {
  "kernelspec": {
   "display_name": "Python 3",
   "language": "python",
   "name": "python3"
  },
  "language_info": {
   "codemirror_mode": {
    "name": "ipython",
    "version": 3
   },
   "file_extension": ".py",
   "mimetype": "text/x-python",
   "name": "python",
   "nbconvert_exporter": "python",
   "pygments_lexer": "ipython3",
   "version": "3.8.8"
  }
 },
 "nbformat": 4,
 "nbformat_minor": 5
}
