{
 "cells": [
  {
   "cell_type": "code",
   "execution_count": 1,
   "id": "74a3a09e",
   "metadata": {},
   "outputs": [
    {
     "name": "stdout",
     "output_type": "stream",
     "text": [
      "30\n"
     ]
    }
   ],
   "source": [
    "x = 10\n",
    "y = 20\n",
    "\n",
    "print(x+y)"
   ]
  },
  {
   "cell_type": "code",
   "execution_count": 2,
   "id": "9d27bf61",
   "metadata": {},
   "outputs": [
    {
     "name": "stdout",
     "output_type": "stream",
     "text": [
      "1020\n"
     ]
    }
   ],
   "source": [
    "x = '10'  #str\n",
    "y = '20' #str\n",
    "\n",
    "print(x+y)"
   ]
  },
  {
   "cell_type": "markdown",
   "id": "fa6d2feb",
   "metadata": {},
   "source": [
    "# String Functions"
   ]
  },
  {
   "cell_type": "markdown",
   "id": "82dedc21",
   "metadata": {},
   "source": [
    "# 1. Capitalize()"
   ]
  },
  {
   "cell_type": "code",
   "execution_count": null,
   "id": "9f10b6bd",
   "metadata": {},
   "outputs": [],
   "source": [
    "It will capitalize only first char of given string and all remaining chaacters will in lower case\n",
    "\n",
    "First char >> Zero index charcater"
   ]
  },
  {
   "cell_type": "code",
   "execution_count": 3,
   "id": "ed467ac2",
   "metadata": {},
   "outputs": [
    {
     "data": {
      "text/plain": [
       "'Machine'"
      ]
     },
     "execution_count": 3,
     "metadata": {},
     "output_type": "execute_result"
    }
   ],
   "source": [
    "string = \"machine\"\n",
    "string.capitalize()"
   ]
  },
  {
   "cell_type": "code",
   "execution_count": 4,
   "id": "8f6b2725",
   "metadata": {},
   "outputs": [
    {
     "data": {
      "text/plain": [
       "'Machine learning'"
      ]
     },
     "execution_count": 4,
     "metadata": {},
     "output_type": "execute_result"
    }
   ],
   "source": [
    "string = \"MACHINE LEARNING\"\n",
    "string.capitalize()"
   ]
  },
  {
   "cell_type": "code",
   "execution_count": 5,
   "id": "cdfafcec",
   "metadata": {},
   "outputs": [
    {
     "data": {
      "text/plain": [
       "'Mchaine learning'"
      ]
     },
     "execution_count": 5,
     "metadata": {},
     "output_type": "execute_result"
    }
   ],
   "source": [
    "string = \"Mchaine Learning\"\n",
    "string.capitalize()"
   ]
  },
  {
   "cell_type": "code",
   "execution_count": 6,
   "id": "b07d0ef4",
   "metadata": {},
   "outputs": [
    {
     "data": {
      "text/plain": [
       "' machine'"
      ]
     },
     "execution_count": 6,
     "metadata": {},
     "output_type": "execute_result"
    }
   ],
   "source": [
    "string = \" machine\"\n",
    "string.capitalize()"
   ]
  },
  {
   "cell_type": "code",
   "execution_count": 7,
   "id": "1c9f5026",
   "metadata": {},
   "outputs": [
    {
     "data": {
      "text/plain": [
       "'Machi@ne'"
      ]
     },
     "execution_count": 7,
     "metadata": {},
     "output_type": "execute_result"
    }
   ],
   "source": [
    "string = \"Machi@ne\"\n",
    "string.capitalize()"
   ]
  },
  {
   "cell_type": "markdown",
   "id": "0c516f1e",
   "metadata": {},
   "source": [
    "# 2. Upper()"
   ]
  },
  {
   "cell_type": "code",
   "execution_count": null,
   "id": "cdfd2ef1",
   "metadata": {},
   "outputs": [],
   "source": [
    "It will convert all char into upper case"
   ]
  },
  {
   "cell_type": "code",
   "execution_count": 8,
   "id": "2dde59c4",
   "metadata": {},
   "outputs": [
    {
     "data": {
      "text/plain": [
       "'MACHINE'"
      ]
     },
     "execution_count": 8,
     "metadata": {},
     "output_type": "execute_result"
    }
   ],
   "source": [
    "string = \"machine\"\n",
    "string.upper()"
   ]
  },
  {
   "cell_type": "code",
   "execution_count": 9,
   "id": "b6be4d25",
   "metadata": {},
   "outputs": [
    {
     "data": {
      "text/plain": [
       "'MCHAINE LEARNING'"
      ]
     },
     "execution_count": 9,
     "metadata": {},
     "output_type": "execute_result"
    }
   ],
   "source": [
    "string = \"Mchaine Learning\"\n",
    "string.upper()"
   ]
  },
  {
   "cell_type": "code",
   "execution_count": 11,
   "id": "4ae2ed5f",
   "metadata": {},
   "outputs": [
    {
     "data": {
      "text/plain": [
       "'MCHAINE LEARNING'"
      ]
     },
     "execution_count": 11,
     "metadata": {},
     "output_type": "execute_result"
    }
   ],
   "source": [
    "string = \"Mchaine Learning\"\n",
    "string = string.upper()\n",
    "string"
   ]
  },
  {
   "cell_type": "markdown",
   "id": "2d892a4a",
   "metadata": {},
   "source": [
    "# 3. lower()"
   ]
  },
  {
   "cell_type": "code",
   "execution_count": null,
   "id": "7f18b05a",
   "metadata": {},
   "outputs": [],
   "source": [
    "It will convert all char into lower case"
   ]
  },
  {
   "cell_type": "code",
   "execution_count": 12,
   "id": "8c22937f",
   "metadata": {},
   "outputs": [
    {
     "data": {
      "text/plain": [
       "'mchaine learning'"
      ]
     },
     "execution_count": 12,
     "metadata": {},
     "output_type": "execute_result"
    }
   ],
   "source": [
    "string = \"Mchaine Learning\"\n",
    "string.lower()\n"
   ]
  },
  {
   "cell_type": "code",
   "execution_count": 13,
   "id": "34d7e9e7",
   "metadata": {},
   "outputs": [
    {
     "data": {
      "text/plain": [
       "'machine learning'"
      ]
     },
     "execution_count": 13,
     "metadata": {},
     "output_type": "execute_result"
    }
   ],
   "source": [
    "string = \"MACHINE LEARNING\"\n",
    "string.lower()"
   ]
  },
  {
   "cell_type": "markdown",
   "id": "9432c399",
   "metadata": {},
   "source": [
    "# 4.title"
   ]
  },
  {
   "cell_type": "code",
   "execution_count": null,
   "id": "ae272f56",
   "metadata": {},
   "outputs": [],
   "source": [
    "It will convert string into title case "
   ]
  },
  {
   "cell_type": "code",
   "execution_count": 14,
   "id": "dc621d36",
   "metadata": {},
   "outputs": [
    {
     "data": {
      "text/plain": [
       "'Machine Learning'"
      ]
     },
     "execution_count": 14,
     "metadata": {},
     "output_type": "execute_result"
    }
   ],
   "source": [
    "string = \"MACHINE LEARNING\"\n",
    "string.title()"
   ]
  },
  {
   "cell_type": "code",
   "execution_count": 15,
   "id": "17024a8d",
   "metadata": {},
   "outputs": [
    {
     "data": {
      "text/plain": [
       "'Python And Data Science Class'"
      ]
     },
     "execution_count": 15,
     "metadata": {},
     "output_type": "execute_result"
    }
   ],
   "source": [
    "string = \"python and data science class\"\n",
    "string.title()"
   ]
  },
  {
   "cell_type": "code",
   "execution_count": null,
   "id": "f8f7c60a",
   "metadata": {},
   "outputs": [],
   "source": [
    "pan_card = \"mahesh gore\"\n",
    "adhar_card = \"MAHESH GORE\"\n"
   ]
  },
  {
   "cell_type": "code",
   "execution_count": null,
   "id": "1b73150a",
   "metadata": {},
   "outputs": [],
   "source": [
    "pan_card = \"Mahesh Gore\"\n",
    "adhar_card = \"MAHESH GORE\""
   ]
  },
  {
   "cell_type": "code",
   "execution_count": 16,
   "id": "b80f3c69",
   "metadata": {},
   "outputs": [
    {
     "data": {
      "text/plain": [
       "False"
      ]
     },
     "execution_count": 16,
     "metadata": {},
     "output_type": "execute_result"
    }
   ],
   "source": [
    "str1 = \"python\"\n",
    "str2 = \"Python\"\n",
    "\n",
    "str1 == str2"
   ]
  },
  {
   "cell_type": "code",
   "execution_count": 17,
   "id": "4d286f22",
   "metadata": {},
   "outputs": [
    {
     "data": {
      "text/plain": [
       "True"
      ]
     },
     "execution_count": 17,
     "metadata": {},
     "output_type": "execute_result"
    }
   ],
   "source": [
    "str1 = \"python\"\n",
    "str2 = \"python\"\n",
    "\n",
    "str1 == str2"
   ]
  },
  {
   "cell_type": "code",
   "execution_count": 18,
   "id": "f988c3d2",
   "metadata": {},
   "outputs": [
    {
     "name": "stdout",
     "output_type": "stream",
     "text": [
      "Both strings are same\n"
     ]
    }
   ],
   "source": [
    "str1 = \"python\"\n",
    "str2 = \"python\"\n",
    "\n",
    "if str1 == str2:  # True\n",
    "    print(\"Both strings are same\")"
   ]
  },
  {
   "cell_type": "code",
   "execution_count": 19,
   "id": "ecc50640",
   "metadata": {},
   "outputs": [
    {
     "data": {
      "text/plain": [
       "False"
      ]
     },
     "execution_count": 19,
     "metadata": {},
     "output_type": "execute_result"
    }
   ],
   "source": [
    "pan_card_name = \"mahesh gore\"\n",
    "adhar_card_name = \"MAHESH GORE\"\n",
    "\n",
    "pan_card_name == adhar_card_name"
   ]
  },
  {
   "cell_type": "code",
   "execution_count": 20,
   "id": "8891eabb",
   "metadata": {},
   "outputs": [
    {
     "name": "stdout",
     "output_type": "stream",
     "text": [
      "Both documents are of differnt person\n"
     ]
    }
   ],
   "source": [
    "pan_card_name = \"mahesh gore\"\n",
    "adhar_card_name = \"MAHESH GORE\"\n",
    "\n",
    "if pan_card_name == adhar_card_name: #Flase\n",
    "    print(\"Both documents are of same person\")\n",
    "    \n",
    "else:\n",
    "    print(\"Both documents are of differnt person\")"
   ]
  },
  {
   "cell_type": "code",
   "execution_count": 21,
   "id": "0eada06a",
   "metadata": {},
   "outputs": [
    {
     "name": "stdout",
     "output_type": "stream",
     "text": [
      "Both documents are of same person\n"
     ]
    }
   ],
   "source": [
    "pan_card_name = \"mahesh gore\"\n",
    "adhar_card_name = \"MAHESH GORE\"\n",
    "\n",
    "\n",
    "\n",
    "pan_card_name = pan_card_name.upper() # MAHESH GORE\n",
    "adhar_card_name = adhar_card_name.upper() # MAHESH GORE\n",
    "\n",
    "\n",
    "if pan_card_name == adhar_card_name: \n",
    "    print(\"Both documents are of same person\")\n",
    "    \n",
    "else:\n",
    "    print(\"Both documents are of differnt person\")"
   ]
  },
  {
   "cell_type": "code",
   "execution_count": 22,
   "id": "858197c2",
   "metadata": {},
   "outputs": [
    {
     "name": "stdout",
     "output_type": "stream",
     "text": [
      "Both documents are of same person\n"
     ]
    }
   ],
   "source": [
    "pan_card_name = \"mahesh gore\"\n",
    "adhar_card_name = \"MAHESH GORE\"\n",
    "\n",
    "\n",
    "\n",
    "pan_card_name = pan_card_name.lower() # MAHESH GORE\n",
    "adhar_card_name = adhar_card_name.lower() # MAHESH GORE\n",
    "\n",
    "\n",
    "if pan_card_name == adhar_card_name: \n",
    "    print(\"Both documents are of same person\")\n",
    "    \n",
    "else:\n",
    "    print(\"Both documents are of differnt person\")"
   ]
  },
  {
   "cell_type": "code",
   "execution_count": 23,
   "id": "f5945b17",
   "metadata": {},
   "outputs": [
    {
     "name": "stdout",
     "output_type": "stream",
     "text": [
      "Both documents are of same person\n"
     ]
    }
   ],
   "source": [
    "pan_card_name = \"mahesh gore\"\n",
    "adhar_card_name = \"MAHESH GORE\"\n",
    "\n",
    "\n",
    "\n",
    "pan_card_name = pan_card_name.title()\n",
    "adhar_card_name = adhar_card_name.title()\n",
    "\n",
    "\n",
    "if pan_card_name == adhar_card_name: \n",
    "    print(\"Both documents are of same person\")\n",
    "    \n",
    "else:\n",
    "    print(\"Both documents are of differnt person\")"
   ]
  },
  {
   "cell_type": "markdown",
   "id": "e349c005",
   "metadata": {},
   "source": [
    "# 5. swapcase"
   ]
  },
  {
   "cell_type": "code",
   "execution_count": null,
   "id": "0b98dc0f",
   "metadata": {},
   "outputs": [],
   "source": [
    "It swap or convert the case all of all character\n",
    "\n",
    "Upper case  >>> Lower case\n",
    "\n",
    "Lower case >>>> upper case"
   ]
  },
  {
   "cell_type": "code",
   "execution_count": 1,
   "id": "5f5fb817",
   "metadata": {},
   "outputs": [
    {
     "data": {
      "text/plain": [
       "'PYHTON'"
      ]
     },
     "execution_count": 1,
     "metadata": {},
     "output_type": "execute_result"
    }
   ],
   "source": [
    "str1 = \"pyhton\"\n",
    "str1.swapcase()"
   ]
  },
  {
   "cell_type": "code",
   "execution_count": 2,
   "id": "1ef3a965",
   "metadata": {},
   "outputs": [
    {
     "data": {
      "text/plain": [
       "'pYHtON maCHINE lEARNINg'"
      ]
     },
     "execution_count": 2,
     "metadata": {},
     "output_type": "execute_result"
    }
   ],
   "source": [
    "str1 = \"PyhTon MAchine LearninG\"\n",
    "str1.swapcase()"
   ]
  },
  {
   "cell_type": "markdown",
   "id": "7c4cb24c",
   "metadata": {},
   "source": [
    "# 6. lstrip"
   ]
  },
  {
   "cell_type": "code",
   "execution_count": null,
   "id": "1b4aea33",
   "metadata": {},
   "outputs": [],
   "source": [
    "It removes  only leading white spaces"
   ]
  },
  {
   "cell_type": "code",
   "execution_count": 3,
   "id": "ac75744e",
   "metadata": {},
   "outputs": [
    {
     "name": "stdout",
     "output_type": "stream",
     "text": [
      "     pyhton\n"
     ]
    }
   ],
   "source": [
    "str1 = \"     pyhton\"\n",
    "print(str1)"
   ]
  },
  {
   "cell_type": "code",
   "execution_count": 4,
   "id": "2155f579",
   "metadata": {},
   "outputs": [
    {
     "data": {
      "text/plain": [
       "'pyhton'"
      ]
     },
     "execution_count": 4,
     "metadata": {},
     "output_type": "execute_result"
    }
   ],
   "source": [
    "str1 = \"     pyhton\"\n",
    "str1.lstrip()"
   ]
  },
  {
   "cell_type": "code",
   "execution_count": 5,
   "id": "e1ed5293",
   "metadata": {},
   "outputs": [
    {
     "data": {
      "text/plain": [
       "'pyhton'"
      ]
     },
     "execution_count": 5,
     "metadata": {},
     "output_type": "execute_result"
    }
   ],
   "source": [
    "str1 = \"                       pyhton\"\n",
    "str1.lstrip()"
   ]
  },
  {
   "cell_type": "code",
   "execution_count": 7,
   "id": "baff7564",
   "metadata": {},
   "outputs": [
    {
     "data": {
      "text/plain": [
       "'pyh   ton'"
      ]
     },
     "execution_count": 7,
     "metadata": {},
     "output_type": "execute_result"
    }
   ],
   "source": [
    "str1 = \"     pyh   ton\"\n",
    "str1.lstrip()"
   ]
  },
  {
   "cell_type": "markdown",
   "id": "420e58aa",
   "metadata": {},
   "source": [
    "# 7. rstrip"
   ]
  },
  {
   "cell_type": "code",
   "execution_count": null,
   "id": "99ed547b",
   "metadata": {},
   "outputs": [],
   "source": [
    "It removes all Trailing white spaces"
   ]
  },
  {
   "cell_type": "code",
   "execution_count": 8,
   "id": "c76051d7",
   "metadata": {},
   "outputs": [
    {
     "data": {
      "text/plain": [
       "'pyhton         '"
      ]
     },
     "execution_count": 8,
     "metadata": {},
     "output_type": "execute_result"
    }
   ],
   "source": [
    "str1 = \"pyhton         \"\n",
    "str1.lstrip()"
   ]
  },
  {
   "cell_type": "code",
   "execution_count": 9,
   "id": "eabe97c5",
   "metadata": {},
   "outputs": [
    {
     "data": {
      "text/plain": [
       "'pyhton'"
      ]
     },
     "execution_count": 9,
     "metadata": {},
     "output_type": "execute_result"
    }
   ],
   "source": [
    "str1 = \"pyhton         \"\n",
    "str1.rstrip()"
   ]
  },
  {
   "cell_type": "code",
   "execution_count": 15,
   "id": "756203fd",
   "metadata": {},
   "outputs": [
    {
     "name": "stdout",
     "output_type": "stream",
     "text": [
      "    pyhton\n"
     ]
    },
    {
     "data": {
      "text/plain": [
       "'pyhton'"
      ]
     },
     "execution_count": 15,
     "metadata": {},
     "output_type": "execute_result"
    }
   ],
   "source": [
    "str1 = \"    pyhton         \"\n",
    "string = str1.rstrip()  # \"    pyhton\"\n",
    "print(string)\n",
    "string.lstrip()"
   ]
  },
  {
   "cell_type": "code",
   "execution_count": 14,
   "id": "23a69567",
   "metadata": {},
   "outputs": [
    {
     "data": {
      "text/plain": [
       "'pyhton'"
      ]
     },
     "execution_count": 14,
     "metadata": {},
     "output_type": "execute_result"
    }
   ],
   "source": [
    "str1 = \"    pyhton         \"\n",
    "string = str1.rstrip().lstrip()\n",
    "string"
   ]
  },
  {
   "cell_type": "code",
   "execution_count": 18,
   "id": "00d42876",
   "metadata": {},
   "outputs": [
    {
     "data": {
      "text/plain": [
       "'PYHTON'"
      ]
     },
     "execution_count": 18,
     "metadata": {},
     "output_type": "execute_result"
    }
   ],
   "source": [
    "str1 = \"    pyhton         \"\n",
    "string = str1.lstrip().rstrip().upper()\n",
    "string"
   ]
  },
  {
   "cell_type": "code",
   "execution_count": null,
   "id": "b2b14d6e",
   "metadata": {},
   "outputs": [],
   "source": []
  },
  {
   "cell_type": "code",
   "execution_count": 20,
   "id": "20ce7fd0",
   "metadata": {
    "collapsed": true
   },
   "outputs": [
    {
     "data": {
      "text/plain": [
       "'PYHTON'"
      ]
     },
     "execution_count": 20,
     "metadata": {},
     "output_type": "execute_result"
    }
   ],
   "source": [
    "str1 = \"    pyhton         \"\n",
    "str1 = str1.lstrip().rstrip().swapcase()\n",
    "str1"
   ]
  },
  {
   "cell_type": "code",
   "execution_count": null,
   "id": "499e1ff8",
   "metadata": {},
   "outputs": [],
   "source": []
  },
  {
   "cell_type": "markdown",
   "id": "1858be88",
   "metadata": {},
   "source": [
    "# 8.strip"
   ]
  },
  {
   "cell_type": "code",
   "execution_count": null,
   "id": "98ab8f4f",
   "metadata": {},
   "outputs": [],
   "source": [
    "It is used to remove both leading and trailing white spaces (only) at a time"
   ]
  },
  {
   "cell_type": "code",
   "execution_count": 21,
   "id": "7643467c",
   "metadata": {},
   "outputs": [
    {
     "data": {
      "text/plain": [
       "'pyhton'"
      ]
     },
     "execution_count": 21,
     "metadata": {},
     "output_type": "execute_result"
    }
   ],
   "source": [
    "str1 = \"    pyhton         \"\n",
    "str1.strip()"
   ]
  },
  {
   "cell_type": "code",
   "execution_count": 22,
   "id": "54280072",
   "metadata": {},
   "outputs": [
    {
     "data": {
      "text/plain": [
       "'pyhton'"
      ]
     },
     "execution_count": 22,
     "metadata": {},
     "output_type": "execute_result"
    }
   ],
   "source": [
    "str1 = \"    pyhton\"\n",
    "str1.strip()"
   ]
  },
  {
   "cell_type": "code",
   "execution_count": 23,
   "id": "226df352",
   "metadata": {},
   "outputs": [
    {
     "data": {
      "text/plain": [
       "'pyhton'"
      ]
     },
     "execution_count": 23,
     "metadata": {},
     "output_type": "execute_result"
    }
   ],
   "source": [
    "str1 = \"pyhton         \"\n",
    "str1.strip()"
   ]
  },
  {
   "cell_type": "code",
   "execution_count": 24,
   "id": "ab425888",
   "metadata": {},
   "outputs": [
    {
     "data": {
      "text/plain": [
       "'pyhton and         Machine Learning'"
      ]
     },
     "execution_count": 24,
     "metadata": {},
     "output_type": "execute_result"
    }
   ],
   "source": [
    "str1 = \"    pyhton and         Machine Learning         \"\n",
    "str1.strip()"
   ]
  },
  {
   "cell_type": "markdown",
   "id": "78c9fbc2",
   "metadata": {},
   "source": [
    "# 9. casefold\n"
   ]
  },
  {
   "cell_type": "code",
   "execution_count": null,
   "id": "db2d2c0f",
   "metadata": {},
   "outputs": [],
   "source": [
    "It is similar to lower() but it is stronger and helps to lowercase in other languages"
   ]
  },
  {
   "cell_type": "code",
   "execution_count": 25,
   "id": "b5a8b63c",
   "metadata": {},
   "outputs": [
    {
     "data": {
      "text/plain": [
       "'python'"
      ]
     },
     "execution_count": 25,
     "metadata": {},
     "output_type": "execute_result"
    }
   ],
   "source": [
    "str1 = \"PYTHON\"\n",
    "str1.lower()"
   ]
  },
  {
   "cell_type": "code",
   "execution_count": 26,
   "id": "4370eb8f",
   "metadata": {},
   "outputs": [
    {
     "data": {
      "text/plain": [
       "'python'"
      ]
     },
     "execution_count": 26,
     "metadata": {},
     "output_type": "execute_result"
    }
   ],
   "source": [
    "str1 = \"PYTHON\"\n",
    "str1.casefold()"
   ]
  },
  {
   "cell_type": "code",
   "execution_count": 27,
   "id": "dd793ffc",
   "metadata": {},
   "outputs": [
    {
     "data": {
      "text/plain": [
       "'scheieße'"
      ]
     },
     "execution_count": 27,
     "metadata": {},
     "output_type": "execute_result"
    }
   ],
   "source": [
    "str1 = \"Scheieße\"\n",
    "str1.lower()"
   ]
  },
  {
   "cell_type": "code",
   "execution_count": 28,
   "id": "71577853",
   "metadata": {},
   "outputs": [
    {
     "data": {
      "text/plain": [
       "'scheiesse'"
      ]
     },
     "execution_count": 28,
     "metadata": {},
     "output_type": "execute_result"
    }
   ],
   "source": [
    "str1 = \"Scheieße\"\n",
    "str1.casefold()"
   ]
  },
  {
   "cell_type": "markdown",
   "id": "1f6ba252",
   "metadata": {},
   "source": [
    "# 10. replace"
   ]
  },
  {
   "cell_type": "code",
   "execution_count": null,
   "id": "3420bee3",
   "metadata": {},
   "outputs": [],
   "source": [
    "str1.replace(old_substring ,new_substring,[count])\n",
    "\n",
    "substring >> single char, word, whole string, any char"
   ]
  },
  {
   "cell_type": "code",
   "execution_count": 29,
   "id": "9a89c3b8",
   "metadata": {},
   "outputs": [
    {
     "data": {
      "text/plain": [
       "'Python and Machine Science'"
      ]
     },
     "execution_count": 29,
     "metadata": {},
     "output_type": "execute_result"
    }
   ],
   "source": [
    "str1 = \"Python and data Science\"\n",
    "str1.replace(\"data\",\"Machine\")"
   ]
  },
  {
   "cell_type": "code",
   "execution_count": 30,
   "id": "1637ee9f",
   "metadata": {},
   "outputs": [
    {
     "data": {
      "text/plain": [
       "'C++ and data Science'"
      ]
     },
     "execution_count": 30,
     "metadata": {},
     "output_type": "execute_result"
    }
   ],
   "source": [
    "str1 = \"Python and data Science\"\n",
    "str1.replace(\"Python\",\"C++\")"
   ]
  },
  {
   "cell_type": "code",
   "execution_count": 31,
   "id": "4bbd120d",
   "metadata": {},
   "outputs": [
    {
     "data": {
      "text/plain": [
       "'Python and data Science'"
      ]
     },
     "execution_count": 31,
     "metadata": {},
     "output_type": "execute_result"
    }
   ],
   "source": [
    "str1 = \"Python and data Science\"\n",
    "str1.replace(\"python\",\"C++\")   #p of python is small letter"
   ]
  },
  {
   "cell_type": "code",
   "execution_count": 32,
   "id": "9d3a18c8",
   "metadata": {},
   "outputs": [
    {
     "data": {
      "text/plain": [
       "'Python#and#data#Science'"
      ]
     },
     "execution_count": 32,
     "metadata": {},
     "output_type": "execute_result"
    }
   ],
   "source": [
    "str1 = \"Python and data Science\"\n",
    "str1.replace(\" \",\"#\")"
   ]
  },
  {
   "cell_type": "code",
   "execution_count": 33,
   "id": "537bff17",
   "metadata": {},
   "outputs": [
    {
     "data": {
      "text/plain": [
       "'+++++++++Python+++and+++data+++Science'"
      ]
     },
     "execution_count": 33,
     "metadata": {},
     "output_type": "execute_result"
    }
   ],
   "source": [
    "str1 = \"   Python and data Science\"\n",
    "str1.replace(\" \",\"+++\")"
   ]
  },
  {
   "cell_type": "code",
   "execution_count": 34,
   "id": "6f7a0516",
   "metadata": {},
   "outputs": [
    {
     "data": {
      "text/plain": [
       "'+++Python and data Science'"
      ]
     },
     "execution_count": 34,
     "metadata": {},
     "output_type": "execute_result"
    }
   ],
   "source": [
    "str1 = \"   Python and data Science\"\n",
    "str1.replace(\"   \",\"+++\")"
   ]
  },
  {
   "cell_type": "code",
   "execution_count": 35,
   "id": "2071b556",
   "metadata": {},
   "outputs": [
    {
     "data": {
      "text/plain": [
       "'PythonanddataScience'"
      ]
     },
     "execution_count": 35,
     "metadata": {},
     "output_type": "execute_result"
    }
   ],
   "source": [
    "str1 = \"   Python and data Science\"\n",
    "str1.replace(\" \",\"\")"
   ]
  },
  {
   "cell_type": "code",
   "execution_count": null,
   "id": "c0566838",
   "metadata": {},
   "outputs": [],
   "source": [
    "home work >>replace all Vowels with @\n",
    "\n",
    "str1 = \"Python and data Science\""
   ]
  },
  {
   "cell_type": "code",
   "execution_count": 36,
   "id": "622cc1c2",
   "metadata": {},
   "outputs": [
    {
     "data": {
      "text/plain": [
       "'JAVA and data Science JAVA JAVA'"
      ]
     },
     "execution_count": 36,
     "metadata": {},
     "output_type": "execute_result"
    }
   ],
   "source": [
    "str1 = \"Python and data Science Python Python\" \n",
    "\n",
    "str1.replace(\"Python\",\"JAVA\")"
   ]
  },
  {
   "cell_type": "code",
   "execution_count": 37,
   "id": "e28221b9",
   "metadata": {},
   "outputs": [
    {
     "data": {
      "text/plain": [
       "'JAVA and data Science Python Python'"
      ]
     },
     "execution_count": 37,
     "metadata": {},
     "output_type": "execute_result"
    }
   ],
   "source": [
    "str1 = \"Python and data Science Python Python\" \n",
    "\n",
    "str1.replace(\"Python\",\"JAVA\",1)"
   ]
  },
  {
   "cell_type": "code",
   "execution_count": 38,
   "id": "72222e35",
   "metadata": {},
   "outputs": [
    {
     "data": {
      "text/plain": [
       "'JAVA and data Science JAVA Python'"
      ]
     },
     "execution_count": 38,
     "metadata": {},
     "output_type": "execute_result"
    }
   ],
   "source": [
    "str1 = \"Python and data Science Python Python\" \n",
    "\n",
    "str1.replace(\"Python\",\"JAVA\",2)"
   ]
  },
  {
   "cell_type": "markdown",
   "id": "9d2592bb",
   "metadata": {},
   "source": [
    "# 11. count()"
   ]
  },
  {
   "cell_type": "code",
   "execution_count": null,
   "id": "0aaa9f59",
   "metadata": {},
   "outputs": [],
   "source": [
    "str1.count(substring,[start_index],[end_index])"
   ]
  },
  {
   "cell_type": "code",
   "execution_count": 39,
   "id": "5558d56f",
   "metadata": {},
   "outputs": [
    {
     "data": {
      "text/plain": [
       "3"
      ]
     },
     "execution_count": 39,
     "metadata": {},
     "output_type": "execute_result"
    }
   ],
   "source": [
    "str1 = \"Python and data Science Python Python\" \n",
    "\n",
    "str1.count(\"Python\")"
   ]
  },
  {
   "cell_type": "code",
   "execution_count": 40,
   "id": "40ee62e1",
   "metadata": {},
   "outputs": [
    {
     "data": {
      "text/plain": [
       "0"
      ]
     },
     "execution_count": 40,
     "metadata": {},
     "output_type": "execute_result"
    }
   ],
   "source": [
    "str1 = \"Python and data Science Python Python\" \n",
    "\n",
    "str1.count(\"p\")"
   ]
  },
  {
   "cell_type": "code",
   "execution_count": 41,
   "id": "6dcc298e",
   "metadata": {},
   "outputs": [
    {
     "data": {
      "text/plain": [
       "3"
      ]
     },
     "execution_count": 41,
     "metadata": {},
     "output_type": "execute_result"
    }
   ],
   "source": [
    "str1 = \"Python and data Science Python Python\" \n",
    "\n",
    "str1.count(\"o\")"
   ]
  },
  {
   "cell_type": "code",
   "execution_count": 43,
   "id": "28e964c0",
   "metadata": {},
   "outputs": [
    {
     "data": {
      "text/plain": [
       "'PYTHON AND DATA SCIENCE PYTHON PYTHON'"
      ]
     },
     "execution_count": 43,
     "metadata": {},
     "output_type": "execute_result"
    }
   ],
   "source": [
    "str1 = \"Python and data Science python python\" \n",
    "\n",
    "string = str1.upper()\n",
    "string"
   ]
  },
  {
   "cell_type": "code",
   "execution_count": 45,
   "id": "777180f6",
   "metadata": {},
   "outputs": [
    {
     "data": {
      "text/plain": [
       "3"
      ]
     },
     "execution_count": 45,
     "metadata": {},
     "output_type": "execute_result"
    }
   ],
   "source": [
    "string.count(\"P\")"
   ]
  },
  {
   "cell_type": "code",
   "execution_count": 47,
   "id": "d422d712",
   "metadata": {},
   "outputs": [
    {
     "data": {
      "text/plain": [
       "3"
      ]
     },
     "execution_count": 47,
     "metadata": {},
     "output_type": "execute_result"
    }
   ],
   "source": [
    "str1 = \"Python and data Science python python\" \n",
    "\n",
    "string = str1.upper().count(\"P\")\n",
    "string"
   ]
  },
  {
   "cell_type": "code",
   "execution_count": 48,
   "id": "6d788268",
   "metadata": {},
   "outputs": [
    {
     "data": {
      "text/plain": [
       "3"
      ]
     },
     "execution_count": 48,
     "metadata": {},
     "output_type": "execute_result"
    }
   ],
   "source": [
    "str1 = \"Python and data Science python python\" \n",
    "substring = \"P\"\n",
    "string = str1.upper().count(substring)\n",
    "string"
   ]
  },
  {
   "cell_type": "code",
   "execution_count": null,
   "id": "5768c581",
   "metadata": {},
   "outputs": [],
   "source": [
    "#Home work\n",
    "str1 = \"    Python      and data Science python python       @ *     \" \n",
    "\n",
    "output = \"Python and Data Science\""
   ]
  },
  {
   "cell_type": "code",
   "execution_count": 49,
   "id": "7c8ef76f",
   "metadata": {},
   "outputs": [
    {
     "data": {
      "text/plain": [
       "1"
      ]
     },
     "execution_count": 49,
     "metadata": {},
     "output_type": "execute_result"
    }
   ],
   "source": [
    "str1 = \"Python and data Science Python Python\" \n",
    "\n",
    "str1.count(\"P\",0,5)"
   ]
  },
  {
   "cell_type": "code",
   "execution_count": 52,
   "id": "33b40db1",
   "metadata": {},
   "outputs": [
    {
     "data": {
      "text/plain": [
       "2"
      ]
     },
     "execution_count": 52,
     "metadata": {},
     "output_type": "execute_result"
    }
   ],
   "source": [
    "str1 = \"Python and data Science Python Python\" \n",
    "\n",
    "str1.count(\"P\",0,25)"
   ]
  },
  {
   "cell_type": "code",
   "execution_count": 54,
   "id": "51ee8f21",
   "metadata": {},
   "outputs": [
    {
     "data": {
      "text/plain": [
       "2"
      ]
     },
     "execution_count": 54,
     "metadata": {},
     "output_type": "execute_result"
    }
   ],
   "source": [
    "str1 = \"Python and data Science Python Python\" \n",
    "\n",
    "str1.count(\"P\",1,35)"
   ]
  },
  {
   "cell_type": "markdown",
   "id": "4d61a252",
   "metadata": {},
   "source": [
    "# 12. index()"
   ]
  },
  {
   "cell_type": "code",
   "execution_count": null,
   "id": "d3f416d8",
   "metadata": {},
   "outputs": [],
   "source": [
    "It will show index of char/substring/word\n",
    "\n",
    "str1.index(substring,strat_index, end_index)"
   ]
  },
  {
   "cell_type": "code",
   "execution_count": 55,
   "id": "de2476db",
   "metadata": {},
   "outputs": [
    {
     "data": {
      "text/plain": [
       "0"
      ]
     },
     "execution_count": 55,
     "metadata": {},
     "output_type": "execute_result"
    }
   ],
   "source": [
    "str1 = \"Python and data Science Python Python\" \n",
    "\n",
    "str1.index('P')"
   ]
  },
  {
   "cell_type": "code",
   "execution_count": 56,
   "id": "34209910",
   "metadata": {},
   "outputs": [
    {
     "data": {
      "text/plain": [
       "7"
      ]
     },
     "execution_count": 56,
     "metadata": {},
     "output_type": "execute_result"
    }
   ],
   "source": [
    "str1 = \"Python and data Science Python Python\" \n",
    "\n",
    "str1.index('a')"
   ]
  },
  {
   "cell_type": "code",
   "execution_count": 57,
   "id": "9007ac43",
   "metadata": {},
   "outputs": [
    {
     "data": {
      "text/plain": [
       "0"
      ]
     },
     "execution_count": 57,
     "metadata": {},
     "output_type": "execute_result"
    }
   ],
   "source": [
    "str1 = \"Python and data Science Python Python\" \n",
    "substring = \"Pyt\"\n",
    "str1.index(substring)"
   ]
  },
  {
   "cell_type": "code",
   "execution_count": 58,
   "id": "a61536e6",
   "metadata": {},
   "outputs": [
    {
     "data": {
      "text/plain": [
       "11"
      ]
     },
     "execution_count": 58,
     "metadata": {},
     "output_type": "execute_result"
    }
   ],
   "source": [
    "str1 = \"Python and data Science Python Python\" \n",
    "\n",
    "str1.index(\"data\")"
   ]
  },
  {
   "cell_type": "code",
   "execution_count": 59,
   "id": "c482f8d1",
   "metadata": {},
   "outputs": [
    {
     "ename": "ValueError",
     "evalue": "substring not found",
     "output_type": "error",
     "traceback": [
      "\u001b[1;31m---------------------------------------------------------------------------\u001b[0m",
      "\u001b[1;31mValueError\u001b[0m                                Traceback (most recent call last)",
      "\u001b[1;32m<ipython-input-59-57e5905e9996>\u001b[0m in \u001b[0;36m<module>\u001b[1;34m\u001b[0m\n\u001b[0;32m      1\u001b[0m \u001b[0mstr1\u001b[0m \u001b[1;33m=\u001b[0m \u001b[1;34m\"Python and data Science Python Python\"\u001b[0m\u001b[1;33m\u001b[0m\u001b[1;33m\u001b[0m\u001b[0m\n\u001b[0;32m      2\u001b[0m \u001b[1;33m\u001b[0m\u001b[0m\n\u001b[1;32m----> 3\u001b[1;33m \u001b[0mstr1\u001b[0m\u001b[1;33m.\u001b[0m\u001b[0mindex\u001b[0m\u001b[1;33m(\u001b[0m\u001b[1;34m\"Data\"\u001b[0m\u001b[1;33m)\u001b[0m\u001b[1;33m\u001b[0m\u001b[1;33m\u001b[0m\u001b[0m\n\u001b[0m",
      "\u001b[1;31mValueError\u001b[0m: substring not found"
     ]
    }
   ],
   "source": [
    "str1 = \"Python and data Science Python Python\" \n",
    "\n",
    "str1.index(\"Data\")"
   ]
  },
  {
   "cell_type": "code",
   "execution_count": 60,
   "id": "828e861e",
   "metadata": {},
   "outputs": [
    {
     "data": {
      "text/plain": [
       "False"
      ]
     },
     "execution_count": 60,
     "metadata": {},
     "output_type": "execute_result"
    }
   ],
   "source": [
    "str1 = \"Python and data Science Python Python\" \n",
    "substring = \"Data\"\n",
    "substring in str1"
   ]
  },
  {
   "cell_type": "code",
   "execution_count": 61,
   "id": "e64f6f74",
   "metadata": {},
   "outputs": [
    {
     "data": {
      "text/plain": [
       "True"
      ]
     },
     "execution_count": 61,
     "metadata": {},
     "output_type": "execute_result"
    }
   ],
   "source": [
    "str1 = \"Python and data Science Python Python\" \n",
    "substring = \"data\"\n",
    "substring in str1 # True"
   ]
  },
  {
   "cell_type": "code",
   "execution_count": 62,
   "id": "ede0c1d7",
   "metadata": {},
   "outputs": [
    {
     "name": "stdout",
     "output_type": "stream",
     "text": [
      "Substring is present in given string\n"
     ]
    }
   ],
   "source": [
    "str1 = \"Python and data Science Python Python\" \n",
    "substring = \"data\"\n",
    "\n",
    "if substring in str1:#True\n",
    "    print(\"Substring is present in given string\")\n",
    "    \n",
    "    \n",
    "else:\n",
    "    print(\"Substring is not present in given string\")"
   ]
  },
  {
   "cell_type": "code",
   "execution_count": 63,
   "id": "3469349e",
   "metadata": {},
   "outputs": [
    {
     "name": "stdout",
     "output_type": "stream",
     "text": [
      "Substring is not present in given string\n"
     ]
    }
   ],
   "source": [
    "str1 = \"Python and data Science Python Python\" \n",
    "substring = \"Data\"\n",
    "\n",
    "if substring in str1:#False\n",
    "    print(\"Substring is present in given string\")\n",
    "    \n",
    "    \n",
    "else:\n",
    "    print(\"Substring is not present in given string\")"
   ]
  },
  {
   "cell_type": "code",
   "execution_count": 66,
   "id": "047f1ae9",
   "metadata": {},
   "outputs": [
    {
     "name": "stdout",
     "output_type": "stream",
     "text": [
      "Data is not present in given string\n"
     ]
    }
   ],
   "source": [
    "str1 = \"Python and data Science Python Python\" \n",
    "substring = \"Data\"\n",
    "\n",
    "if substring in str1:#False\n",
    "    print(f\"{substring} is present in given string\")\n",
    "    \n",
    "    \n",
    "else:\n",
    "    print(f\"{substring} is not present in given string\")"
   ]
  },
  {
   "cell_type": "markdown",
   "id": "d09b94f4",
   "metadata": {},
   "source": [
    "# 13.Find"
   ]
  },
  {
   "cell_type": "code",
   "execution_count": null,
   "id": "e73fb340",
   "metadata": {},
   "outputs": [],
   "source": [
    "It will find the index of word/char\n",
    "\n",
    "str1.find(substring,strat_index,end_index)\n",
    "\n",
    "If substring will not found the given string it  will return -1"
   ]
  },
  {
   "cell_type": "code",
   "execution_count": 67,
   "id": "2df28a08",
   "metadata": {},
   "outputs": [
    {
     "data": {
      "text/plain": [
       "11"
      ]
     },
     "execution_count": 67,
     "metadata": {},
     "output_type": "execute_result"
    }
   ],
   "source": [
    "str1 = \"Python and data Science Python Python\" \n",
    "\n",
    "str1.find(\"data\")"
   ]
  },
  {
   "cell_type": "code",
   "execution_count": 68,
   "id": "8649d3ee",
   "metadata": {},
   "outputs": [
    {
     "data": {
      "text/plain": [
       "11"
      ]
     },
     "execution_count": 68,
     "metadata": {},
     "output_type": "execute_result"
    }
   ],
   "source": [
    "str1 = \"Python and data Science Python Python\" \n",
    "\n",
    "str1.index(\"data\")"
   ]
  },
  {
   "cell_type": "code",
   "execution_count": 69,
   "id": "608cc5cc",
   "metadata": {},
   "outputs": [
    {
     "ename": "ValueError",
     "evalue": "substring not found",
     "output_type": "error",
     "traceback": [
      "\u001b[1;31m---------------------------------------------------------------------------\u001b[0m",
      "\u001b[1;31mValueError\u001b[0m                                Traceback (most recent call last)",
      "\u001b[1;32m<ipython-input-69-57e5905e9996>\u001b[0m in \u001b[0;36m<module>\u001b[1;34m\u001b[0m\n\u001b[0;32m      1\u001b[0m \u001b[0mstr1\u001b[0m \u001b[1;33m=\u001b[0m \u001b[1;34m\"Python and data Science Python Python\"\u001b[0m\u001b[1;33m\u001b[0m\u001b[1;33m\u001b[0m\u001b[0m\n\u001b[0;32m      2\u001b[0m \u001b[1;33m\u001b[0m\u001b[0m\n\u001b[1;32m----> 3\u001b[1;33m \u001b[0mstr1\u001b[0m\u001b[1;33m.\u001b[0m\u001b[0mindex\u001b[0m\u001b[1;33m(\u001b[0m\u001b[1;34m\"Data\"\u001b[0m\u001b[1;33m)\u001b[0m\u001b[1;33m\u001b[0m\u001b[1;33m\u001b[0m\u001b[0m\n\u001b[0m",
      "\u001b[1;31mValueError\u001b[0m: substring not found"
     ]
    }
   ],
   "source": [
    "str1 = \"Python and data Science Python Python\" \n",
    "\n",
    "str1.index(\"Data\")"
   ]
  },
  {
   "cell_type": "code",
   "execution_count": 71,
   "id": "53dd6cd2",
   "metadata": {},
   "outputs": [
    {
     "data": {
      "text/plain": [
       "-1"
      ]
     },
     "execution_count": 71,
     "metadata": {},
     "output_type": "execute_result"
    }
   ],
   "source": [
    "str1 = \"Python and data Science Python Python\" \n",
    "\n",
    "str1.find(\"Data\")"
   ]
  },
  {
   "cell_type": "code",
   "execution_count": 74,
   "id": "5e182fed",
   "metadata": {},
   "outputs": [
    {
     "name": "stdout",
     "output_type": "stream",
     "text": [
      "Substring is not found\n"
     ]
    }
   ],
   "source": [
    "str1 = \"Python and data Science Python Python\" \n",
    "\n",
    "index = str1.find(\"Data\")\n",
    "index\n",
    "\n",
    "if index == -1:\n",
    "    print(\"Substring is not found\")\n",
    "    \n",
    "else:\n",
    "    print(\"Substring is found\")"
   ]
  },
  {
   "cell_type": "code",
   "execution_count": null,
   "id": "d7266c5d",
   "metadata": {},
   "outputs": [],
   "source": [
    "=  >> Assignment operator\n",
    "== >> Equal "
   ]
  },
  {
   "cell_type": "code",
   "execution_count": 77,
   "id": "23095d92",
   "metadata": {},
   "outputs": [
    {
     "data": {
      "text/plain": [
       "True"
      ]
     },
     "execution_count": 77,
     "metadata": {},
     "output_type": "execute_result"
    }
   ],
   "source": [
    "\"Priya\" == \"Priya\""
   ]
  },
  {
   "cell_type": "code",
   "execution_count": 78,
   "id": "5879b9df",
   "metadata": {},
   "outputs": [
    {
     "data": {
      "text/plain": [
       "True"
      ]
     },
     "execution_count": 78,
     "metadata": {},
     "output_type": "execute_result"
    }
   ],
   "source": [
    "10 == 10"
   ]
  },
  {
   "cell_type": "code",
   "execution_count": 76,
   "id": "b23bd55f",
   "metadata": {},
   "outputs": [
    {
     "name": "stdout",
     "output_type": "stream",
     "text": [
      "Data is not found in given string\n"
     ]
    }
   ],
   "source": [
    "str1 = \"Python and data Science Python Python\" \n",
    "substring = \"Data\"\n",
    "index = str1.find(substring) #-1\n",
    "index\n",
    "\n",
    "if index == -1:\n",
    "    print(f\"{substring} is not found in given string\")\n",
    "    \n",
    "else:\n",
    "    print(f\"{substring} is found in given string\")"
   ]
  },
  {
   "cell_type": "code",
   "execution_count": 79,
   "id": "c6d3f229",
   "metadata": {},
   "outputs": [
    {
     "data": {
      "text/plain": [
       "-1"
      ]
     },
     "execution_count": 79,
     "metadata": {},
     "output_type": "execute_result"
    }
   ],
   "source": [
    "str1.find(substring)"
   ]
  },
  {
   "cell_type": "code",
   "execution_count": 80,
   "id": "e7ac44c4",
   "metadata": {},
   "outputs": [
    {
     "name": "stdout",
     "output_type": "stream",
     "text": [
      "Data is not found in given string\n"
     ]
    }
   ],
   "source": [
    "str1 = \"Python and data Science Python Python\" \n",
    "substring = \"Data\"\n",
    " #-1\n",
    "\n",
    "\n",
    "if str1.find(substring) == -1:   # -1 == -1 >> False\n",
    "    print(f\"{substring} is not found in given string\")\n",
    "    \n",
    "else:\n",
    "    print(f\"{substring} is found in given string\")"
   ]
  },
  {
   "cell_type": "code",
   "execution_count": 1,
   "id": "ec254649",
   "metadata": {},
   "outputs": [
    {
     "data": {
      "text/plain": [
       "''"
      ]
     },
     "execution_count": 1,
     "metadata": {},
     "output_type": "execute_result"
    }
   ],
   "source": [
    "# Null string\n",
    "\n",
    "# end index < than start index step size is 1\n",
    "#               OR\n",
    "# start index is greater than end index & step size is 1\n",
    "string = \"Python\"\n",
    "string[-1:-2:1]\n",
    "string[5:2:1]  \n",
    "\n",
    "\n",
    "\n",
    "# end index > start index and step size is -1\n",
    "#                OR\n",
    "# start index is less than end index step size is -1\n",
    "\n",
    "string[2:5:-1]\n",
    "string[-2:-1:-1]"
   ]
  },
  {
   "cell_type": "code",
   "execution_count": 60,
   "id": "97fa5667",
   "metadata": {},
   "outputs": [
    {
     "data": {
      "text/plain": [
       "'Python and Data Science'"
      ]
     },
     "execution_count": 60,
     "metadata": {},
     "output_type": "execute_result"
    }
   ],
   "source": [
    "#Home work\n",
    "str1 = \"    Python      and data Science python python       @ *     \" \n",
    "\n",
    "output = \"Python and Data Science\"\n",
    "\n",
    "#Solution :\n",
    "op = str1.strip().strip('*').strip('@ ').rstrip(' python python').replace('      ',' ').replace('data','Data')\n",
    "op"
   ]
  }
 ],
 "metadata": {
  "kernelspec": {
   "display_name": "Python 3 (ipykernel)",
   "language": "python",
   "name": "python3"
  },
  "language_info": {
   "codemirror_mode": {
    "name": "ipython",
    "version": 3
   },
   "file_extension": ".py",
   "mimetype": "text/x-python",
   "name": "python",
   "nbconvert_exporter": "python",
   "pygments_lexer": "ipython3",
   "version": "3.9.16"
  }
 },
 "nbformat": 4,
 "nbformat_minor": 5
}
