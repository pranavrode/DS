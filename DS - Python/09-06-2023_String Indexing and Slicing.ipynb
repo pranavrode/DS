{
 "cells": [
  {
   "cell_type": "markdown",
   "id": "7400399e",
   "metadata": {},
   "source": [
    "# String Indexing and Slicing"
   ]
  },
  {
   "cell_type": "code",
   "execution_count": null,
   "id": "c4c46ec8",
   "metadata": {},
   "outputs": [],
   "source": [
    "Indexing will alwys starts with zero"
   ]
  },
  {
   "cell_type": "code",
   "execution_count": 1,
   "id": "a0ce203f",
   "metadata": {},
   "outputs": [
    {
     "data": {
      "text/plain": [
       "7"
      ]
     },
     "execution_count": 1,
     "metadata": {},
     "output_type": "execute_result"
    }
   ],
   "source": [
    "string = \"Machine\"\n",
    "len(string)"
   ]
  },
  {
   "cell_type": "code",
   "execution_count": 10,
   "id": "730642f1",
   "metadata": {},
   "outputs": [
    {
     "data": {
      "text/plain": [
       "'e'"
      ]
     },
     "execution_count": 10,
     "metadata": {},
     "output_type": "execute_result"
    }
   ],
   "source": [
    "string[0]\n",
    "string[1]\n",
    "string[2]\n",
    "string[3]\n",
    "string[4]\n",
    "string[5]\n",
    "string[6]"
   ]
  },
  {
   "cell_type": "code",
   "execution_count": 22,
   "id": "61ac95bf",
   "metadata": {},
   "outputs": [
    {
     "name": "stdout",
     "output_type": "stream",
     "text": [
      "M\n",
      "a\n",
      "c\n",
      "h\n",
      "i\n",
      "n\n",
      "e\n"
     ]
    }
   ],
   "source": [
    "print(string[0])\n",
    "print(string[1])\n",
    "print(string[2])\n",
    "print(string[3])\n",
    "print(string[4])\n",
    "print(string[5])\n",
    "print(string[6])"
   ]
  },
  {
   "cell_type": "code",
   "execution_count": 14,
   "id": "cfbc8106",
   "metadata": {},
   "outputs": [
    {
     "data": {
      "text/plain": [
       "6"
      ]
     },
     "execution_count": 14,
     "metadata": {},
     "output_type": "execute_result"
    }
   ],
   "source": [
    "var = \"aabbcc\"\n",
    "len(var)"
   ]
  },
  {
   "cell_type": "code",
   "execution_count": 16,
   "id": "e39ce360",
   "metadata": {},
   "outputs": [
    {
     "data": {
      "text/plain": [
       "'a'"
      ]
     },
     "execution_count": 16,
     "metadata": {},
     "output_type": "execute_result"
    }
   ],
   "source": [
    "var[0]"
   ]
  },
  {
   "cell_type": "code",
   "execution_count": 17,
   "id": "11aec701",
   "metadata": {},
   "outputs": [
    {
     "data": {
      "text/plain": [
       "'a'"
      ]
     },
     "execution_count": 17,
     "metadata": {},
     "output_type": "execute_result"
    }
   ],
   "source": [
    "var[1]"
   ]
  },
  {
   "cell_type": "code",
   "execution_count": 18,
   "id": "a0b35233",
   "metadata": {},
   "outputs": [
    {
     "data": {
      "text/plain": [
       "'b'"
      ]
     },
     "execution_count": 18,
     "metadata": {},
     "output_type": "execute_result"
    }
   ],
   "source": [
    "var[2]"
   ]
  },
  {
   "cell_type": "code",
   "execution_count": 19,
   "id": "b73c26b0",
   "metadata": {},
   "outputs": [
    {
     "data": {
      "text/plain": [
       "'b'"
      ]
     },
     "execution_count": 19,
     "metadata": {},
     "output_type": "execute_result"
    }
   ],
   "source": [
    "var[3]"
   ]
  },
  {
   "cell_type": "code",
   "execution_count": null,
   "id": "ef1ca8c6",
   "metadata": {},
   "outputs": [],
   "source": [
    "string =   p    y    t    h    o    n\n",
    "\n",
    "index  =   0    1    2    3    4    5   >>>>  +ve indexing"
   ]
  },
  {
   "cell_type": "markdown",
   "id": "44c56379",
   "metadata": {},
   "source": [
    "### Negative indexing"
   ]
  },
  {
   "cell_type": "code",
   "execution_count": null,
   "id": "dcfa8ce3",
   "metadata": {},
   "outputs": [],
   "source": [
    "string = \"Machine\""
   ]
  },
  {
   "cell_type": "code",
   "execution_count": 32,
   "id": "f9b60121",
   "metadata": {},
   "outputs": [
    {
     "data": {
      "text/plain": [
       "'M'"
      ]
     },
     "execution_count": 32,
     "metadata": {},
     "output_type": "execute_result"
    }
   ],
   "source": [
    "string[-1]  #e\n",
    "string[-2]  #n\n",
    "string[-3]  #i\n",
    "string[-4]  #h\n",
    "string[-5]  #c\n",
    "string[-6]  #a\n",
    "string[-7]  #M"
   ]
  },
  {
   "cell_type": "code",
   "execution_count": null,
   "id": "d854b208",
   "metadata": {},
   "outputs": [],
   "source": [
    "string     =   p    y    t    h    o    n\n",
    "\n",
    "+ve index  =   0    1    2    3    4    5  \n",
    "\n",
    "-ve index  =   -6  -5   -4   -3   -2   -1\n"
   ]
  },
  {
   "cell_type": "code",
   "execution_count": 35,
   "id": "3177431f",
   "metadata": {},
   "outputs": [
    {
     "data": {
      "text/plain": [
       "6"
      ]
     },
     "execution_count": 35,
     "metadata": {},
     "output_type": "execute_result"
    }
   ],
   "source": [
    "string = \"Python\"\n",
    "length = len(string)\n",
    "length"
   ]
  },
  {
   "cell_type": "code",
   "execution_count": 36,
   "id": "c2d87c61",
   "metadata": {},
   "outputs": [
    {
     "data": {
      "text/plain": [
       "'n'"
      ]
     },
     "execution_count": 36,
     "metadata": {},
     "output_type": "execute_result"
    }
   ],
   "source": [
    "string = \"Python\"\n",
    "string[length - 1]  #string[6-1] >> string[5]"
   ]
  },
  {
   "cell_type": "code",
   "execution_count": 37,
   "id": "dbbc1bbb",
   "metadata": {},
   "outputs": [
    {
     "data": {
      "text/plain": [
       "'n'"
      ]
     },
     "execution_count": 37,
     "metadata": {},
     "output_type": "execute_result"
    }
   ],
   "source": [
    "string = \"Python\"\n",
    "string[len(string) - 1]"
   ]
  },
  {
   "cell_type": "code",
   "execution_count": 39,
   "id": "d278f41e",
   "metadata": {},
   "outputs": [
    {
     "name": "stdout",
     "output_type": "stream",
     "text": [
      "n\n",
      "n\n"
     ]
    }
   ],
   "source": [
    "string = \"Python\"\n",
    "print(string[5])\n",
    "print(string[-1])"
   ]
  },
  {
   "cell_type": "code",
   "execution_count": 42,
   "id": "b3943cb7",
   "metadata": {},
   "outputs": [
    {
     "name": "stdout",
     "output_type": "stream",
     "text": [
      "P\n",
      "y\n",
      "@\n",
      " \n",
      "t\n",
      "h\n"
     ]
    }
   ],
   "source": [
    "string = \"Py@ thon\"\n",
    "print(string[0])\n",
    "print(string[1])\n",
    "print(string[2])\n",
    "print(string[3])\n",
    "print(string[4])\n",
    "print(string[5])"
   ]
  },
  {
   "cell_type": "markdown",
   "id": "b82ef7cb",
   "metadata": {},
   "source": [
    "# Slicing"
   ]
  },
  {
   "cell_type": "code",
   "execution_count": null,
   "id": "4013a1c1",
   "metadata": {},
   "outputs": [],
   "source": [
    "string >> [start Index : end_index: step size]\n",
    "\n",
    "start Index  >> Include\n",
    "end_index    >> Exclude"
   ]
  },
  {
   "cell_type": "code",
   "execution_count": null,
   "id": "d69df9b7",
   "metadata": {},
   "outputs": [],
   "source": [
    "string     =   p    y    t    h    o    n\n",
    "\n",
    "+ve index  =   0    1    2    3    4    5  \n",
    "\n",
    "-ve index  =   -6  -5   -4   -3   -2   -1"
   ]
  },
  {
   "cell_type": "code",
   "execution_count": 43,
   "id": "9d916ccb",
   "metadata": {},
   "outputs": [
    {
     "data": {
      "text/plain": [
       "'yth'"
      ]
     },
     "execution_count": 43,
     "metadata": {},
     "output_type": "execute_result"
    }
   ],
   "source": [
    "string = \"Python\"\n",
    "string[1 : 4]  #1,2,3,4 >> 1,2,3, "
   ]
  },
  {
   "cell_type": "code",
   "execution_count": 44,
   "id": "d06e2af0",
   "metadata": {},
   "outputs": [
    {
     "data": {
      "text/plain": [
       "'ytho'"
      ]
     },
     "execution_count": 44,
     "metadata": {},
     "output_type": "execute_result"
    }
   ],
   "source": [
    "string = \"Python\"\n",
    "string[1 : 5]  #char in output >>5-1 =4  >> 1,2,3,4"
   ]
  },
  {
   "cell_type": "code",
   "execution_count": 47,
   "id": "ef633cca",
   "metadata": {},
   "outputs": [
    {
     "data": {
      "text/plain": [
       "6"
      ]
     },
     "execution_count": 47,
     "metadata": {},
     "output_type": "execute_result"
    }
   ],
   "source": [
    "len(string)"
   ]
  },
  {
   "cell_type": "code",
   "execution_count": 48,
   "id": "40b15ce6",
   "metadata": {},
   "outputs": [
    {
     "data": {
      "text/plain": [
       "'Python'"
      ]
     },
     "execution_count": 48,
     "metadata": {},
     "output_type": "execute_result"
    }
   ],
   "source": [
    "string = \"Python\"\n",
    "string[0 : len(string)] "
   ]
  },
  {
   "cell_type": "code",
   "execution_count": 49,
   "id": "7845914e",
   "metadata": {},
   "outputs": [
    {
     "data": {
      "text/plain": [
       "'Python'"
      ]
     },
     "execution_count": 49,
     "metadata": {},
     "output_type": "execute_result"
    }
   ],
   "source": [
    "string = \"Python\"\n",
    "string[ : ] "
   ]
  },
  {
   "cell_type": "code",
   "execution_count": 51,
   "id": "a9430244",
   "metadata": {},
   "outputs": [
    {
     "data": {
      "text/plain": [
       "'Data science is an interdisciplinary academic field that uses statistics processes'"
      ]
     },
     "execution_count": 51,
     "metadata": {},
     "output_type": "execute_result"
    }
   ],
   "source": [
    "DS = \"\"\"Data science is an interdisciplinary academic field that uses statistics processes\"\"\"\n",
    "DS"
   ]
  },
  {
   "cell_type": "code",
   "execution_count": 52,
   "id": "3121eb8a",
   "metadata": {},
   "outputs": [
    {
     "data": {
      "text/plain": [
       "'Data science is an interdisciplinary academic field that uses statistics processes'"
      ]
     },
     "execution_count": 52,
     "metadata": {},
     "output_type": "execute_result"
    }
   ],
   "source": [
    "DS[:]"
   ]
  },
  {
   "cell_type": "code",
   "execution_count": 54,
   "id": "76a202e5",
   "metadata": {},
   "outputs": [
    {
     "data": {
      "text/plain": [
       "'science is an interdisci'"
      ]
     },
     "execution_count": 54,
     "metadata": {},
     "output_type": "execute_result"
    }
   ],
   "source": [
    "DS[5:29]"
   ]
  },
  {
   "cell_type": "code",
   "execution_count": 55,
   "id": "58e80f03",
   "metadata": {},
   "outputs": [
    {
     "data": {
      "text/plain": [
       "'science is an interdisciplinary academic field that uses statistics processes'"
      ]
     },
     "execution_count": 55,
     "metadata": {},
     "output_type": "execute_result"
    }
   ],
   "source": [
    "DS[5: ]"
   ]
  },
  {
   "cell_type": "code",
   "execution_count": 56,
   "id": "f0a1a4c1",
   "metadata": {},
   "outputs": [
    {
     "data": {
      "text/plain": [
       "'Data '"
      ]
     },
     "execution_count": 56,
     "metadata": {},
     "output_type": "execute_result"
    }
   ],
   "source": [
    "DS[ : 5]"
   ]
  },
  {
   "cell_type": "code",
   "execution_count": 57,
   "id": "b47dc07d",
   "metadata": {},
   "outputs": [
    {
     "data": {
      "text/plain": [
       "'Python'"
      ]
     },
     "execution_count": 57,
     "metadata": {},
     "output_type": "execute_result"
    }
   ],
   "source": [
    "string = \"Python\"\n",
    "string[ : : ] "
   ]
  },
  {
   "cell_type": "code",
   "execution_count": 58,
   "id": "59dde050",
   "metadata": {},
   "outputs": [
    {
     "data": {
      "text/plain": [
       "'Python'"
      ]
     },
     "execution_count": 58,
     "metadata": {},
     "output_type": "execute_result"
    }
   ],
   "source": [
    "string = \"Python\"\n",
    "string[ : : 1]   # step size =1"
   ]
  },
  {
   "cell_type": "code",
   "execution_count": 59,
   "id": "41dcd6bc",
   "metadata": {},
   "outputs": [
    {
     "data": {
      "text/plain": [
       "'Pto'"
      ]
     },
     "execution_count": 59,
     "metadata": {},
     "output_type": "execute_result"
    }
   ],
   "source": [
    "string = \"Python\"\n",
    "string[ : : 2]"
   ]
  },
  {
   "cell_type": "code",
   "execution_count": 60,
   "id": "1e54cfcf",
   "metadata": {},
   "outputs": [
    {
     "data": {
      "text/plain": [
       "'Ph'"
      ]
     },
     "execution_count": 60,
     "metadata": {},
     "output_type": "execute_result"
    }
   ],
   "source": [
    "string = \"Python\"\n",
    "string[ : : 3]"
   ]
  },
  {
   "cell_type": "code",
   "execution_count": null,
   "id": "e8668278",
   "metadata": {},
   "outputs": [],
   "source": []
  }
 ],
 "metadata": {
  "kernelspec": {
   "display_name": "Python 3 (ipykernel)",
   "language": "python",
   "name": "python3"
  },
  "language_info": {
   "codemirror_mode": {
    "name": "ipython",
    "version": 3
   },
   "file_extension": ".py",
   "mimetype": "text/x-python",
   "name": "python",
   "nbconvert_exporter": "python",
   "pygments_lexer": "ipython3",
   "version": "3.9.16"
  }
 },
 "nbformat": 4,
 "nbformat_minor": 5
}
