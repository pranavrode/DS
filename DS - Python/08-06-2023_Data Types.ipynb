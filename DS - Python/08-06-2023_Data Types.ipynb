{
 "cells": [
  {
   "cell_type": "markdown",
   "id": "c9a4be99",
   "metadata": {},
   "source": [
    "# Data Type"
   ]
  },
  {
   "cell_type": "raw",
   "id": "d448bdad",
   "metadata": {},
   "source": [
    "1. Numerical data type   : int, float, complex\n",
    "2. Text data type        : string\n",
    "3. Sequence data Type    : list, tuple, range\n",
    "4. Mapping data type     : Dictionary (key value pair)\n",
    "5. Set Data type         : set , frozen set\n",
    "6. Boolean Data type     : bool (True , False)\n",
    "7. Binary Data Type      : bytes, bytesarray\n",
    "8. None Data type        : None\n",
    "    \n",
    "Fundamental data types >> int, float, complex, str,bool"
   ]
  },
  {
   "cell_type": "code",
   "execution_count": null,
   "id": "68b3a5e8",
   "metadata": {},
   "outputs": [],
   "source": [
    "To check data type we have function >> type()"
   ]
  },
  {
   "cell_type": "markdown",
   "id": "b96f3a5a",
   "metadata": {},
   "source": [
    "# 1. int"
   ]
  },
  {
   "cell_type": "code",
   "execution_count": null,
   "id": "c5bb6e75",
   "metadata": {},
   "outputs": [],
   "source": [
    "int :\n",
    "    1. Whole number\n",
    "    2. +ve and -ve\n",
    "    3. without decimal\n",
    "    4. e.g. 1,2,0,-5,-7"
   ]
  },
  {
   "cell_type": "code",
   "execution_count": 2,
   "id": "e4ce3993",
   "metadata": {},
   "outputs": [
    {
     "data": {
      "text/plain": [
       "int"
      ]
     },
     "execution_count": 2,
     "metadata": {},
     "output_type": "execute_result"
    }
   ],
   "source": [
    "x = 30\n",
    "type(x)"
   ]
  },
  {
   "cell_type": "code",
   "execution_count": 5,
   "id": "34bc0dbb",
   "metadata": {},
   "outputs": [
    {
     "name": "stdout",
     "output_type": "stream",
     "text": [
      "Data type of 40 is <class 'int'>\n"
     ]
    }
   ],
   "source": [
    "x = 40\n",
    "print(f\"Data type of {x} is {type(x)}\")"
   ]
  },
  {
   "cell_type": "markdown",
   "id": "9b96e480",
   "metadata": {},
   "source": [
    "# Home work\n",
    "x = 40\n",
    "print(f\"Data type of {x =} variable is {type(x)}\")"
   ]
  },
  {
   "cell_type": "code",
   "execution_count": 6,
   "id": "40ee802f",
   "metadata": {},
   "outputs": [
    {
     "name": "stdout",
     "output_type": "stream",
     "text": [
      "30\n"
     ]
    }
   ],
   "source": [
    "a= 10\n",
    "b= 20\n",
    "\n",
    "add = a+b\n",
    "print(add)"
   ]
  },
  {
   "cell_type": "code",
   "execution_count": null,
   "id": "bd07fa9b",
   "metadata": {},
   "outputs": [],
   "source": []
  },
  {
   "cell_type": "markdown",
   "id": "4b6e9dc3",
   "metadata": {},
   "source": [
    "# Indentation"
   ]
  },
  {
   "cell_type": "code",
   "execution_count": 9,
   "id": "1a9c8416",
   "metadata": {},
   "outputs": [
    {
     "ename": "IndentationError",
     "evalue": "unexpected indent (<ipython-input-9-df2e977f762e>, line 2)",
     "output_type": "error",
     "traceback": [
      "\u001b[1;36m  File \u001b[1;32m\"<ipython-input-9-df2e977f762e>\"\u001b[1;36m, line \u001b[1;32m2\u001b[0m\n\u001b[1;33m    b = 67\u001b[0m\n\u001b[1;37m    ^\u001b[0m\n\u001b[1;31mIndentationError\u001b[0m\u001b[1;31m:\u001b[0m unexpected indent\n"
     ]
    }
   ],
   "source": [
    "a = 54\n",
    " b = 67"
   ]
  },
  {
   "cell_type": "code",
   "execution_count": 12,
   "id": "30bd46b3",
   "metadata": {},
   "outputs": [],
   "source": [
    " a = 10\n",
    "b = 20"
   ]
  },
  {
   "cell_type": "code",
   "execution_count": null,
   "id": "1d7db225",
   "metadata": {},
   "outputs": [],
   "source": [
    "function  >> block of resuable code"
   ]
  },
  {
   "cell_type": "code",
   "execution_count": 13,
   "id": "497bbfbd",
   "metadata": {},
   "outputs": [],
   "source": [
    "def Addition():\n",
    "    a = 10\n",
    "    b = 20\n",
    "    add = a+b\n",
    "    return add\n",
    "    "
   ]
  },
  {
   "cell_type": "code",
   "execution_count": 15,
   "id": "f4947b46",
   "metadata": {},
   "outputs": [
    {
     "data": {
      "text/plain": [
       "30"
      ]
     },
     "execution_count": 15,
     "metadata": {},
     "output_type": "execute_result"
    }
   ],
   "source": [
    "Addition()"
   ]
  },
  {
   "cell_type": "code",
   "execution_count": 22,
   "id": "b50c1d56",
   "metadata": {},
   "outputs": [
    {
     "name": "stdout",
     "output_type": "stream",
     "text": [
      "Testing Function\n"
     ]
    }
   ],
   "source": [
    "def Addition(a,b):\n",
    "    add = a+b\n",
    "    return add\n",
    "\n",
    "print(\"Testing Function\")"
   ]
  },
  {
   "cell_type": "code",
   "execution_count": 23,
   "id": "c9ab355f",
   "metadata": {},
   "outputs": [
    {
     "data": {
      "text/plain": [
       "260"
      ]
     },
     "execution_count": 23,
     "metadata": {},
     "output_type": "execute_result"
    }
   ],
   "source": [
    "Addition(200,60)"
   ]
  },
  {
   "cell_type": "code",
   "execution_count": 17,
   "id": "9b6a0711",
   "metadata": {},
   "outputs": [
    {
     "data": {
      "text/plain": [
       "79"
      ]
     },
     "execution_count": 17,
     "metadata": {},
     "output_type": "execute_result"
    }
   ],
   "source": [
    "Addition(34,45)"
   ]
  },
  {
   "cell_type": "code",
   "execution_count": 18,
   "id": "c746f5b8",
   "metadata": {},
   "outputs": [
    {
     "data": {
      "text/plain": [
       "80"
      ]
     },
     "execution_count": 18,
     "metadata": {},
     "output_type": "execute_result"
    }
   ],
   "source": [
    "Addition(20,60)"
   ]
  },
  {
   "cell_type": "code",
   "execution_count": 25,
   "id": "e6c7d6c6",
   "metadata": {},
   "outputs": [
    {
     "data": {
      "text/plain": [
       "int"
      ]
     },
     "execution_count": 25,
     "metadata": {},
     "output_type": "execute_result"
    }
   ],
   "source": [
    "a = 1045454533434\n",
    "type(a)"
   ]
  },
  {
   "cell_type": "code",
   "execution_count": 26,
   "id": "ce18536f",
   "metadata": {},
   "outputs": [
    {
     "data": {
      "text/plain": [
       "int"
      ]
     },
     "execution_count": 26,
     "metadata": {},
     "output_type": "execute_result"
    }
   ],
   "source": [
    "a = 0\n",
    "type(a)"
   ]
  },
  {
   "cell_type": "code",
   "execution_count": 27,
   "id": "c8080f0f",
   "metadata": {},
   "outputs": [
    {
     "data": {
      "text/plain": [
       "int"
      ]
     },
     "execution_count": 27,
     "metadata": {},
     "output_type": "execute_result"
    }
   ],
   "source": [
    "a = -45\n",
    "type(a)"
   ]
  },
  {
   "cell_type": "markdown",
   "id": "db71b321",
   "metadata": {},
   "source": [
    "# 2. float"
   ]
  },
  {
   "cell_type": "code",
   "execution_count": null,
   "id": "d0b0e0e5",
   "metadata": {},
   "outputs": [],
   "source": [
    "Positive or negative value with decimal point"
   ]
  },
  {
   "cell_type": "code",
   "execution_count": 28,
   "id": "b48d614c",
   "metadata": {},
   "outputs": [
    {
     "data": {
      "text/plain": [
       "float"
      ]
     },
     "execution_count": 28,
     "metadata": {},
     "output_type": "execute_result"
    }
   ],
   "source": [
    "x = 5.65\n",
    "type(x)"
   ]
  },
  {
   "cell_type": "code",
   "execution_count": 29,
   "id": "b0f4e701",
   "metadata": {},
   "outputs": [
    {
     "data": {
      "text/plain": [
       "float"
      ]
     },
     "execution_count": 29,
     "metadata": {},
     "output_type": "execute_result"
    }
   ],
   "source": [
    "y = 3.14\n",
    "type(y)"
   ]
  },
  {
   "cell_type": "code",
   "execution_count": 30,
   "id": "ceb3128b",
   "metadata": {},
   "outputs": [
    {
     "data": {
      "text/plain": [
       "float"
      ]
     },
     "execution_count": 30,
     "metadata": {},
     "output_type": "execute_result"
    }
   ],
   "source": [
    "y = -3.14\n",
    "type(y)"
   ]
  },
  {
   "cell_type": "code",
   "execution_count": 31,
   "id": "d2e49263",
   "metadata": {},
   "outputs": [
    {
     "data": {
      "text/plain": [
       "float"
      ]
     },
     "execution_count": 31,
     "metadata": {},
     "output_type": "execute_result"
    }
   ],
   "source": [
    "y = 0.0\n",
    "type(y)"
   ]
  },
  {
   "cell_type": "markdown",
   "id": "de3a4242",
   "metadata": {},
   "source": [
    "# 3. Complex number"
   ]
  },
  {
   "cell_type": "code",
   "execution_count": null,
   "id": "1680c846",
   "metadata": {},
   "outputs": [],
   "source": [
    "It contains real and imaginary part"
   ]
  },
  {
   "cell_type": "code",
   "execution_count": 32,
   "id": "7c8d4d5e",
   "metadata": {},
   "outputs": [
    {
     "data": {
      "text/plain": [
       "complex"
      ]
     },
     "execution_count": 32,
     "metadata": {},
     "output_type": "execute_result"
    }
   ],
   "source": [
    "a = 3 + 5j\n",
    "type(a)"
   ]
  },
  {
   "cell_type": "code",
   "execution_count": 33,
   "id": "53ffe951",
   "metadata": {},
   "outputs": [
    {
     "data": {
      "text/plain": [
       "complex"
      ]
     },
     "execution_count": 33,
     "metadata": {},
     "output_type": "execute_result"
    }
   ],
   "source": [
    "a = 5j\n",
    "type(a)"
   ]
  },
  {
   "cell_type": "code",
   "execution_count": 34,
   "id": "d3b7d3f9",
   "metadata": {},
   "outputs": [
    {
     "data": {
      "text/plain": [
       "complex"
      ]
     },
     "execution_count": 34,
     "metadata": {},
     "output_type": "execute_result"
    }
   ],
   "source": [
    "a = 0 + 5j\n",
    "type(a)"
   ]
  },
  {
   "cell_type": "code",
   "execution_count": 36,
   "id": "5efa3af9",
   "metadata": {},
   "outputs": [
    {
     "data": {
      "text/plain": [
       "complex"
      ]
     },
     "execution_count": 36,
     "metadata": {},
     "output_type": "execute_result"
    }
   ],
   "source": [
    "a = 6 - 5j\n",
    "type(a)"
   ]
  },
  {
   "cell_type": "code",
   "execution_count": 35,
   "id": "643ee08a",
   "metadata": {},
   "outputs": [
    {
     "data": {
      "text/plain": [
       "complex"
      ]
     },
     "execution_count": 35,
     "metadata": {},
     "output_type": "execute_result"
    }
   ],
   "source": [
    "a = 0 - 5j\n",
    "type(a)"
   ]
  },
  {
   "cell_type": "code",
   "execution_count": 37,
   "id": "b7e5abe5",
   "metadata": {},
   "outputs": [
    {
     "data": {
      "text/plain": [
       "complex"
      ]
     },
     "execution_count": 37,
     "metadata": {},
     "output_type": "execute_result"
    }
   ],
   "source": [
    "a = 0j\n",
    "type(a)"
   ]
  },
  {
   "cell_type": "markdown",
   "id": "31b13ce9",
   "metadata": {},
   "source": [
    "# Type casting"
   ]
  },
  {
   "cell_type": "code",
   "execution_count": null,
   "id": "62399e79",
   "metadata": {},
   "outputs": [],
   "source": [
    "We can convert one data type value into another data type\n",
    "\n",
    "1. Implicit :Python internally do type conversion depending upon given condition"
   ]
  },
  {
   "cell_type": "code",
   "execution_count": 38,
   "id": "98378916",
   "metadata": {},
   "outputs": [
    {
     "name": "stdout",
     "output_type": "stream",
     "text": [
      "30.5 <class 'float'>\n"
     ]
    }
   ],
   "source": [
    "a = 10\n",
    "b = 20.50\n",
    "\n",
    "add = a+b\n",
    "\n",
    "print(add,type(add))"
   ]
  },
  {
   "cell_type": "code",
   "execution_count": null,
   "id": "bc51df2e",
   "metadata": {},
   "outputs": [],
   "source": [
    "2. Explicit : We do type casting as per our requirement"
   ]
  },
  {
   "cell_type": "code",
   "execution_count": null,
   "id": "d8d0c0d6",
   "metadata": {},
   "outputs": [],
   "source": [
    "1. int to float\n",
    "2. float to int \n",
    "3. int to complex\n",
    "4. float to complex\n",
    "5. complex to int\n",
    "6. complex to float"
   ]
  },
  {
   "cell_type": "markdown",
   "id": "f42c3c18",
   "metadata": {},
   "source": [
    "# 1. int to float"
   ]
  },
  {
   "cell_type": "code",
   "execution_count": 39,
   "id": "ed4e3cdf",
   "metadata": {},
   "outputs": [
    {
     "data": {
      "text/plain": [
       "int"
      ]
     },
     "execution_count": 39,
     "metadata": {},
     "output_type": "execute_result"
    }
   ],
   "source": [
    "x = 35\n",
    "type(x)"
   ]
  },
  {
   "cell_type": "code",
   "execution_count": 41,
   "id": "054a1cfe",
   "metadata": {},
   "outputs": [
    {
     "name": "stdout",
     "output_type": "stream",
     "text": [
      "35.0\n"
     ]
    }
   ],
   "source": [
    "print(float(x))"
   ]
  },
  {
   "cell_type": "code",
   "execution_count": 44,
   "id": "00c81369",
   "metadata": {},
   "outputs": [
    {
     "name": "stdout",
     "output_type": "stream",
     "text": [
      "46 <class 'int'>\n",
      "46.0 <class 'float'>\n"
     ]
    }
   ],
   "source": [
    "a = 46\n",
    "b = float(a)\n",
    "\n",
    "print(a ,type(a))\n",
    "print(b,type(b))"
   ]
  },
  {
   "cell_type": "code",
   "execution_count": 43,
   "id": "cad0bbd9",
   "metadata": {},
   "outputs": [
    {
     "name": "stdout",
     "output_type": "stream",
     "text": [
      "46.0 <class 'float'>\n"
     ]
    }
   ],
   "source": [
    "a = 46\n",
    "a = float(a) # 46.0\n",
    "\n",
    "print(a ,type(a))"
   ]
  },
  {
   "cell_type": "code",
   "execution_count": 45,
   "id": "b358da87",
   "metadata": {},
   "outputs": [
    {
     "name": "stdout",
     "output_type": "stream",
     "text": [
      "11\n"
     ]
    }
   ],
   "source": [
    "a = 6\n",
    "a = a+5   # 6+5 = 11\n",
    "\n",
    "print(a)"
   ]
  },
  {
   "cell_type": "markdown",
   "id": "acc3405b",
   "metadata": {},
   "source": [
    "# 2. float to int "
   ]
  },
  {
   "cell_type": "code",
   "execution_count": 49,
   "id": "9193410b",
   "metadata": {},
   "outputs": [
    {
     "data": {
      "text/plain": [
       "float"
      ]
     },
     "execution_count": 49,
     "metadata": {},
     "output_type": "execute_result"
    }
   ],
   "source": [
    "x = 6.43\n",
    "type(x)"
   ]
  },
  {
   "cell_type": "code",
   "execution_count": 50,
   "id": "0559cb3b",
   "metadata": {},
   "outputs": [
    {
     "data": {
      "text/plain": [
       "6"
      ]
     },
     "execution_count": 50,
     "metadata": {},
     "output_type": "execute_result"
    }
   ],
   "source": [
    "x = 6.43\n",
    "y = int(x)\n",
    "y"
   ]
  },
  {
   "cell_type": "code",
   "execution_count": 51,
   "id": "caadd842",
   "metadata": {},
   "outputs": [
    {
     "data": {
      "text/plain": [
       "int"
      ]
     },
     "execution_count": 51,
     "metadata": {},
     "output_type": "execute_result"
    }
   ],
   "source": [
    "type(x)\n",
    "type(y)"
   ]
  },
  {
   "cell_type": "markdown",
   "id": "10f85a64",
   "metadata": {},
   "source": [
    "# 3. int to complex"
   ]
  },
  {
   "cell_type": "code",
   "execution_count": 52,
   "id": "9afc2e48",
   "metadata": {},
   "outputs": [
    {
     "data": {
      "text/plain": [
       "int"
      ]
     },
     "execution_count": 52,
     "metadata": {},
     "output_type": "execute_result"
    }
   ],
   "source": [
    "x = 20\n",
    "type(x)"
   ]
  },
  {
   "cell_type": "code",
   "execution_count": 57,
   "id": "3fcab2e4",
   "metadata": {},
   "outputs": [
    {
     "name": "stdout",
     "output_type": "stream",
     "text": [
      "(20+0j) <class 'complex'>\n"
     ]
    }
   ],
   "source": [
    "x = 20\n",
    "y = complex(x)\n",
    "print(y,type(y))"
   ]
  },
  {
   "cell_type": "code",
   "execution_count": 58,
   "id": "ad1d6f63",
   "metadata": {},
   "outputs": [
    {
     "name": "stdout",
     "output_type": "stream",
     "text": [
      "(20+0j) >>> <class 'complex'>\n"
     ]
    }
   ],
   "source": [
    "x = 20\n",
    "y = complex(x)\n",
    "print(y,\">>>\",type(y))"
   ]
  },
  {
   "cell_type": "markdown",
   "id": "9e6bb58b",
   "metadata": {},
   "source": [
    "# 4. float to complex"
   ]
  },
  {
   "cell_type": "code",
   "execution_count": 59,
   "id": "c0ba93ff",
   "metadata": {},
   "outputs": [
    {
     "data": {
      "text/plain": [
       "float"
      ]
     },
     "execution_count": 59,
     "metadata": {},
     "output_type": "execute_result"
    }
   ],
   "source": [
    "a = 6.87\n",
    "type(a)"
   ]
  },
  {
   "cell_type": "code",
   "execution_count": 60,
   "id": "dd4ca990",
   "metadata": {},
   "outputs": [
    {
     "name": "stdout",
     "output_type": "stream",
     "text": [
      "(6.87+0j) <class 'complex'>\n"
     ]
    }
   ],
   "source": [
    "a = 6.87\n",
    "b = complex(a)\n",
    "\n",
    "print(b,type(b))"
   ]
  },
  {
   "cell_type": "code",
   "execution_count": 61,
   "id": "a6bc1d9a",
   "metadata": {},
   "outputs": [
    {
     "name": "stdout",
     "output_type": "stream",
     "text": [
      "(6.87+0j) <class 'complex'>\n"
     ]
    }
   ],
   "source": [
    "a = 6.87\n",
    "a = complex(a)\n",
    "\n",
    "print(a,type(a))"
   ]
  },
  {
   "cell_type": "markdown",
   "id": "5feaecae",
   "metadata": {},
   "source": [
    "# 5. complex to int"
   ]
  },
  {
   "cell_type": "code",
   "execution_count": null,
   "id": "74ffb7fd",
   "metadata": {},
   "outputs": [],
   "source": [
    "we cant convert complex to int"
   ]
  },
  {
   "cell_type": "code",
   "execution_count": 62,
   "id": "5951c63f",
   "metadata": {},
   "outputs": [
    {
     "data": {
      "text/plain": [
       "complex"
      ]
     },
     "execution_count": 62,
     "metadata": {},
     "output_type": "execute_result"
    }
   ],
   "source": [
    "a = 4 + 5j\n",
    "\n",
    "type(a)"
   ]
  },
  {
   "cell_type": "code",
   "execution_count": 63,
   "id": "63bdbf0e",
   "metadata": {},
   "outputs": [
    {
     "ename": "TypeError",
     "evalue": "can't convert complex to int",
     "output_type": "error",
     "traceback": [
      "\u001b[1;31m---------------------------------------------------------------------------\u001b[0m",
      "\u001b[1;31mTypeError\u001b[0m                                 Traceback (most recent call last)",
      "\u001b[1;32m<ipython-input-63-98a7411b26b3>\u001b[0m in \u001b[0;36m<module>\u001b[1;34m\u001b[0m\n\u001b[0;32m      1\u001b[0m \u001b[0ma\u001b[0m \u001b[1;33m=\u001b[0m \u001b[1;36m4\u001b[0m \u001b[1;33m+\u001b[0m \u001b[1;36m5j\u001b[0m\u001b[1;33m\u001b[0m\u001b[1;33m\u001b[0m\u001b[0m\n\u001b[0;32m      2\u001b[0m \u001b[1;33m\u001b[0m\u001b[0m\n\u001b[1;32m----> 3\u001b[1;33m \u001b[0mint\u001b[0m\u001b[1;33m(\u001b[0m\u001b[0ma\u001b[0m\u001b[1;33m)\u001b[0m\u001b[1;33m\u001b[0m\u001b[1;33m\u001b[0m\u001b[0m\n\u001b[0m",
      "\u001b[1;31mTypeError\u001b[0m: can't convert complex to int"
     ]
    }
   ],
   "source": [
    "a = 4 + 5j\n",
    "\n",
    "int(a)"
   ]
  },
  {
   "cell_type": "markdown",
   "id": "56a5882a",
   "metadata": {},
   "source": [
    "# 6. complex to float"
   ]
  },
  {
   "cell_type": "code",
   "execution_count": 64,
   "id": "b1b6d727",
   "metadata": {},
   "outputs": [
    {
     "ename": "TypeError",
     "evalue": "can't convert complex to float",
     "output_type": "error",
     "traceback": [
      "\u001b[1;31m---------------------------------------------------------------------------\u001b[0m",
      "\u001b[1;31mTypeError\u001b[0m                                 Traceback (most recent call last)",
      "\u001b[1;32m<ipython-input-64-56d01097598a>\u001b[0m in \u001b[0;36m<module>\u001b[1;34m\u001b[0m\n\u001b[0;32m      1\u001b[0m \u001b[0ma\u001b[0m \u001b[1;33m=\u001b[0m \u001b[1;36m4\u001b[0m \u001b[1;33m+\u001b[0m \u001b[1;36m5j\u001b[0m\u001b[1;33m\u001b[0m\u001b[1;33m\u001b[0m\u001b[0m\n\u001b[0;32m      2\u001b[0m \u001b[1;33m\u001b[0m\u001b[0m\n\u001b[1;32m----> 3\u001b[1;33m \u001b[0mfloat\u001b[0m\u001b[1;33m(\u001b[0m\u001b[0ma\u001b[0m\u001b[1;33m)\u001b[0m\u001b[1;33m\u001b[0m\u001b[1;33m\u001b[0m\u001b[0m\n\u001b[0m",
      "\u001b[1;31mTypeError\u001b[0m: can't convert complex to float"
     ]
    }
   ],
   "source": [
    "a = 4 + 5j\n",
    "\n",
    "float(a)"
   ]
  },
  {
   "cell_type": "markdown",
   "id": "c8c6fd2e",
   "metadata": {},
   "source": [
    "# String"
   ]
  },
  {
   "cell_type": "code",
   "execution_count": null,
   "id": "6af42475",
   "metadata": {},
   "outputs": [],
   "source": [
    "collection of charcter surrounded by single quotes, double quotes  or triple quotes\n",
    "We can not use single quote inside single qoute\n",
    "we can not use double quotes inside double quote"
   ]
  },
  {
   "cell_type": "code",
   "execution_count": 66,
   "id": "91acc841",
   "metadata": {},
   "outputs": [
    {
     "name": "stdout",
     "output_type": "stream",
     "text": [
      "Sachin <class 'str'>\n",
      "Sachin <class 'str'>\n",
      "Sachin <class 'str'>\n"
     ]
    }
   ],
   "source": [
    "var1 = 'Sachin'\n",
    "var2 = \"Sachin\"\n",
    "var3 = \"\"\"Sachin\"\"\"\n",
    "\n",
    "\n",
    "print(var1,type(var1))\n",
    "print(var2,type(var2))\n",
    "print(var3,type(var3))"
   ]
  },
  {
   "cell_type": "code",
   "execution_count": 67,
   "id": "86f114f5",
   "metadata": {},
   "outputs": [
    {
     "data": {
      "text/plain": [
       "int"
      ]
     },
     "execution_count": 67,
     "metadata": {},
     "output_type": "execute_result"
    }
   ],
   "source": [
    "string = 59\n",
    "type(string)"
   ]
  },
  {
   "cell_type": "code",
   "execution_count": 68,
   "id": "4836230a",
   "metadata": {},
   "outputs": [
    {
     "data": {
      "text/plain": [
       "str"
      ]
     },
     "execution_count": 68,
     "metadata": {},
     "output_type": "execute_result"
    }
   ],
   "source": [
    "string = \"59\"\n",
    "type(string)"
   ]
  },
  {
   "cell_type": "code",
   "execution_count": 69,
   "id": "28b68e02",
   "metadata": {},
   "outputs": [
    {
     "ename": "SyntaxError",
     "evalue": "invalid syntax (<ipython-input-69-f535e93ca0e5>, line 1)",
     "output_type": "error",
     "traceback": [
      "\u001b[1;36m  File \u001b[1;32m\"<ipython-input-69-f535e93ca0e5>\"\u001b[1;36m, line \u001b[1;32m1\u001b[0m\n\u001b[1;33m    string = 'This is Sachin's laptop'\u001b[0m\n\u001b[1;37m                             ^\u001b[0m\n\u001b[1;31mSyntaxError\u001b[0m\u001b[1;31m:\u001b[0m invalid syntax\n"
     ]
    }
   ],
   "source": [
    "string = 'This is Sachin's laptop'\n"
   ]
  },
  {
   "cell_type": "code",
   "execution_count": 71,
   "id": "0673f15b",
   "metadata": {},
   "outputs": [
    {
     "name": "stdout",
     "output_type": "stream",
     "text": [
      "This is Sachin's laptop\n"
     ]
    }
   ],
   "source": [
    "string = \"This is Sachin's laptop\"\n",
    "print(string)"
   ]
  },
  {
   "cell_type": "code",
   "execution_count": 72,
   "id": "641d6c88",
   "metadata": {},
   "outputs": [
    {
     "ename": "SyntaxError",
     "evalue": "invalid syntax (<ipython-input-72-1080fd311885>, line 1)",
     "output_type": "error",
     "traceback": [
      "\u001b[1;36m  File \u001b[1;32m\"<ipython-input-72-1080fd311885>\"\u001b[1;36m, line \u001b[1;32m1\u001b[0m\n\u001b[1;33m    string = 'This is Sachin's laptop'\u001b[0m\n\u001b[1;37m                             ^\u001b[0m\n\u001b[1;31mSyntaxError\u001b[0m\u001b[1;31m:\u001b[0m invalid syntax\n"
     ]
    }
   ],
   "source": [
    "string = 'This is Sachin's laptop'\n",
    "print(string)"
   ]
  },
  {
   "cell_type": "code",
   "execution_count": 73,
   "id": "0bf6b3ba",
   "metadata": {},
   "outputs": [
    {
     "name": "stdout",
     "output_type": "stream",
     "text": [
      "This is Sachin's laptop\n"
     ]
    }
   ],
   "source": [
    "string = 'This is Sachin\\'s laptop'  # backlash (\\) >> escape character"
   ]
  },
  {
   "cell_type": "markdown",
   "id": "033464fb",
   "metadata": {},
   "source": [
    "# input "
   ]
  },
  {
   "cell_type": "code",
   "execution_count": 74,
   "id": "d71671c7",
   "metadata": {},
   "outputs": [
    {
     "name": "stdout",
     "output_type": "stream",
     "text": [
      "30\n"
     ]
    }
   ],
   "source": [
    "a = 10 \n",
    "b = 20\n",
    "\n",
    "add = a + b \n",
    "print(add)"
   ]
  },
  {
   "cell_type": "code",
   "execution_count": 76,
   "id": "e46fa637",
   "metadata": {},
   "outputs": [
    {
     "name": "stdout",
     "output_type": "stream",
     "text": [
      "Enter the value :45\n"
     ]
    },
    {
     "data": {
      "text/plain": [
       "str"
      ]
     },
     "execution_count": 76,
     "metadata": {},
     "output_type": "execute_result"
    }
   ],
   "source": [
    "a = input(\"Enter the value :\")\n",
    "type(a)"
   ]
  },
  {
   "cell_type": "code",
   "execution_count": 77,
   "id": "f4cc1589",
   "metadata": {},
   "outputs": [
    {
     "name": "stdout",
     "output_type": "stream",
     "text": [
      "Enter the value :45\n"
     ]
    },
    {
     "data": {
      "text/plain": [
       "int"
      ]
     },
     "execution_count": 77,
     "metadata": {},
     "output_type": "execute_result"
    }
   ],
   "source": [
    "a = int(input(\"Enter the value :\"))  # int(\"45\") >> 45\n",
    "type(a)"
   ]
  },
  {
   "cell_type": "code",
   "execution_count": 78,
   "id": "885c46a1",
   "metadata": {},
   "outputs": [
    {
     "name": "stdout",
     "output_type": "stream",
     "text": [
      "Enter the value :5.6\n"
     ]
    },
    {
     "data": {
      "text/plain": [
       "str"
      ]
     },
     "execution_count": 78,
     "metadata": {},
     "output_type": "execute_result"
    }
   ],
   "source": [
    "a = input(\"Enter the value :\")\n",
    "type(a)"
   ]
  },
  {
   "cell_type": "code",
   "execution_count": 79,
   "id": "4f8ea058",
   "metadata": {},
   "outputs": [
    {
     "name": "stdout",
     "output_type": "stream",
     "text": [
      "Enter the value :5.6\n"
     ]
    },
    {
     "data": {
      "text/plain": [
       "float"
      ]
     },
     "execution_count": 79,
     "metadata": {},
     "output_type": "execute_result"
    }
   ],
   "source": [
    "a = float(input(\"Enter the value :\"))\n",
    "type(a)"
   ]
  },
  {
   "cell_type": "markdown",
   "id": "b3499eda",
   "metadata": {},
   "source": [
    "# eval function"
   ]
  },
  {
   "cell_type": "code",
   "execution_count": 80,
   "id": "05508654",
   "metadata": {},
   "outputs": [
    {
     "name": "stdout",
     "output_type": "stream",
     "text": [
      "Enter the value :6.5\n"
     ]
    },
    {
     "data": {
      "text/plain": [
       "float"
      ]
     },
     "execution_count": 80,
     "metadata": {},
     "output_type": "execute_result"
    }
   ],
   "source": [
    "a = eval(input(\"Enter the value :\")) # automatic type casting \n",
    "type(a)"
   ]
  },
  {
   "cell_type": "code",
   "execution_count": 81,
   "id": "cf2babf0",
   "metadata": {},
   "outputs": [
    {
     "name": "stdout",
     "output_type": "stream",
     "text": [
      "Enter the value :45\n"
     ]
    },
    {
     "data": {
      "text/plain": [
       "int"
      ]
     },
     "execution_count": 81,
     "metadata": {},
     "output_type": "execute_result"
    }
   ],
   "source": [
    "a = eval(input(\"Enter the value :\"))\n",
    "type(a)"
   ]
  },
  {
   "cell_type": "markdown",
   "id": "1f690af7",
   "metadata": {},
   "source": [
    "# string concatenation "
   ]
  },
  {
   "cell_type": "code",
   "execution_count": 82,
   "id": "6d2bfa2a",
   "metadata": {},
   "outputs": [
    {
     "name": "stdout",
     "output_type": "stream",
     "text": [
      "55\n"
     ]
    }
   ],
   "source": [
    "a = \"5\"\n",
    "b = \"5\"\n",
    "\n",
    "add = a + b\n",
    "print(add)"
   ]
  },
  {
   "cell_type": "code",
   "execution_count": 83,
   "id": "c9273095",
   "metadata": {},
   "outputs": [
    {
     "name": "stdout",
     "output_type": "stream",
     "text": [
      "Bharatmatakijay\n"
     ]
    }
   ],
   "source": [
    "a = \"Bharat\"\n",
    "b = \"mata\"\n",
    "c = \"ki\"\n",
    "d = \"jay\"\n",
    "\n",
    "add = a + b + c + d\n",
    "print(add)"
   ]
  }
 ],
 "metadata": {
  "kernelspec": {
   "display_name": "Python 3 (ipykernel)",
   "language": "python",
   "name": "python3"
  },
  "language_info": {
   "codemirror_mode": {
    "name": "ipython",
    "version": 3
   },
   "file_extension": ".py",
   "mimetype": "text/x-python",
   "name": "python",
   "nbconvert_exporter": "python",
   "pygments_lexer": "ipython3",
   "version": "3.9.16"
  }
 },
 "nbformat": 4,
 "nbformat_minor": 5
}
