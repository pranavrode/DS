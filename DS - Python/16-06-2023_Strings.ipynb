{
 "cells": [
  {
   "cell_type": "code",
   "execution_count": null,
   "id": "ace8de32",
   "metadata": {},
   "outputs": [],
   "source": [
    "Mutable   >> Changeble\n",
    "Immutable >> Not Changable"
   ]
  },
  {
   "cell_type": "code",
   "execution_count": null,
   "id": "ec947bfb",
   "metadata": {},
   "outputs": [],
   "source": [
    "id() >> Identity of that particular object"
   ]
  },
  {
   "cell_type": "code",
   "execution_count": 2,
   "id": "cf73eb00",
   "metadata": {},
   "outputs": [
    {
     "name": "stdout",
     "output_type": "stream",
     "text": [
      "40\n"
     ]
    },
    {
     "data": {
      "text/plain": [
       "140703834713104"
      ]
     },
     "execution_count": 2,
     "metadata": {},
     "output_type": "execute_result"
    }
   ],
   "source": [
    "x = 40\n",
    "print(x)\n",
    "id(x)"
   ]
  },
  {
   "cell_type": "code",
   "execution_count": 3,
   "id": "332e6701",
   "metadata": {},
   "outputs": [
    {
     "name": "stdout",
     "output_type": "stream",
     "text": [
      "40\n"
     ]
    }
   ],
   "source": [
    "y = x\n",
    "print(y)"
   ]
  },
  {
   "cell_type": "code",
   "execution_count": 5,
   "id": "a31b2675",
   "metadata": {},
   "outputs": [
    {
     "name": "stdout",
     "output_type": "stream",
     "text": [
      "140703834713104\n",
      "140703834713104\n"
     ]
    }
   ],
   "source": [
    "print(id(x))\n",
    "print(id(y))\n"
   ]
  },
  {
   "cell_type": "code",
   "execution_count": 20,
   "id": "be891ac7",
   "metadata": {},
   "outputs": [
    {
     "name": "stdout",
     "output_type": "stream",
     "text": [
      "Value of x is : 40\n",
      "id of x : 140703834713104\n",
      "Value of y is : 40\n",
      "id of y : 140703834713104\n",
      "New Value of x: 41\n",
      "id of  new x : 140703834713136\n",
      "value of y: 40\n",
      "id of y : 140703834713104\n"
     ]
    }
   ],
   "source": [
    "x = 40\n",
    "print(\"Value of x is :\",x)\n",
    "print(\"id of x :\",id(x))\n",
    "y=x\n",
    "print(\"Value of y is :\",y)\n",
    "print(\"id of y :\",id(y))\n",
    "\n",
    "x = x+1\n",
    "print(\"New Value of x:\",x)\n",
    "print(\"id of  new x :\",id(x))\n",
    "print(\"value of y:\",y)\n",
    "print(\"id of y :\",id(y))"
   ]
  },
  {
   "cell_type": "code",
   "execution_count": null,
   "id": "382b61f8",
   "metadata": {},
   "outputs": [],
   "source": []
  }
 ],
 "metadata": {
  "kernelspec": {
   "display_name": "Python 3",
   "language": "python",
   "name": "python3"
  },
  "language_info": {
   "codemirror_mode": {
    "name": "ipython",
    "version": 3
   },
   "file_extension": ".py",
   "mimetype": "text/x-python",
   "name": "python",
   "nbconvert_exporter": "python",
   "pygments_lexer": "ipython3",
   "version": "3.8.8"
  }
 },
 "nbformat": 4,
 "nbformat_minor": 5
}
